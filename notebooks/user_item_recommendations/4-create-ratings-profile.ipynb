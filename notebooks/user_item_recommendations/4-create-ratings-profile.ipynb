{
 "cells": [
  {
   "cell_type": "code",
   "execution_count": 2,
   "metadata": {
    "collapsed": false
   },
   "outputs": [
    {
     "data": {
      "text/html": [
       "<style>.container { width:80% !important; }</style>"
      ],
      "text/plain": [
       "<IPython.core.display.HTML object>"
      ]
     },
     "metadata": {},
     "output_type": "display_data"
    }
   ],
   "source": [
    "import numpy as np\n",
    "import pandas as pd\n",
    "import os\n",
    "import sys\n",
    "import pickle\n",
    "import time\n",
    "import datetime\n",
    "import matplotlib.pyplot as plt\n",
    "import seaborn as sns\n",
    "from importlib import reload\n",
    "%matplotlib inline\n",
    "from IPython.core.display import display, HTML, clear_output\n",
    "display(HTML(\"<style>.container { width:80% !important; }</style>\")) "
   ]
  },
  {
   "cell_type": "code",
   "execution_count": 2,
   "metadata": {
    "collapsed": true
   },
   "outputs": [],
   "source": [
    "pd.options.display.max_rows = 999\n",
    "pd.options.display.max_columns = 999\n",
    "pd.options.display.max_colwidth = 999"
   ]
  },
  {
   "cell_type": "markdown",
   "metadata": {},
   "source": [
    "### Import custom-built probabilistic matrix factorization (PMF) module"
   ]
  },
  {
   "cell_type": "code",
   "execution_count": 3,
   "metadata": {
    "collapsed": true
   },
   "outputs": [],
   "source": [
    "cwd = os.getcwd()\n",
    "path = os.path.join(cwd, '..', 'src')\n",
    "if not path in sys.path:\n",
    "    sys.path.append(path)\n",
    "del cwd, path\n",
    "import PMF"
   ]
  },
  {
   "cell_type": "code",
   "execution_count": null,
   "metadata": {
    "collapsed": true
   },
   "outputs": [],
   "source": [
    "reload(PMF)"
   ]
  },
  {
   "cell_type": "markdown",
   "metadata": {},
   "source": [
    "### Load data (FIRST SESSION ONLY - see below for depersist)"
   ]
  },
  {
   "cell_type": "code",
   "execution_count": 267,
   "metadata": {
    "collapsed": false
   },
   "outputs": [],
   "source": [
    "cwd = os.getcwd()\n",
    "movies = pd.read_csv(os.path.join(cwd, \"..\", \"data\", \"movies.csv\"))"
   ]
  },
  {
   "cell_type": "code",
   "execution_count": 268,
   "metadata": {
    "collapsed": false
   },
   "outputs": [
    {
     "data": {
      "text/plain": [
       "(27278, 3)"
      ]
     },
     "execution_count": 268,
     "metadata": {},
     "output_type": "execute_result"
    }
   ],
   "source": [
    "movies.shape"
   ]
  },
  {
   "cell_type": "code",
   "execution_count": 269,
   "metadata": {
    "collapsed": false
   },
   "outputs": [
    {
     "data": {
      "text/html": [
       "<div>\n",
       "<table border=\"1\" class=\"dataframe\">\n",
       "  <thead>\n",
       "    <tr style=\"text-align: right;\">\n",
       "      <th></th>\n",
       "      <th>movieId</th>\n",
       "      <th>title</th>\n",
       "      <th>genres</th>\n",
       "    </tr>\n",
       "  </thead>\n",
       "  <tbody>\n",
       "    <tr>\n",
       "      <th>0</th>\n",
       "      <td>1</td>\n",
       "      <td>Toy Story (1995)</td>\n",
       "      <td>Adventure|Animation|Children|Comedy|Fantasy</td>\n",
       "    </tr>\n",
       "    <tr>\n",
       "      <th>1</th>\n",
       "      <td>2</td>\n",
       "      <td>Jumanji (1995)</td>\n",
       "      <td>Adventure|Children|Fantasy</td>\n",
       "    </tr>\n",
       "    <tr>\n",
       "      <th>2</th>\n",
       "      <td>3</td>\n",
       "      <td>Grumpier Old Men (1995)</td>\n",
       "      <td>Comedy|Romance</td>\n",
       "    </tr>\n",
       "    <tr>\n",
       "      <th>3</th>\n",
       "      <td>4</td>\n",
       "      <td>Waiting to Exhale (1995)</td>\n",
       "      <td>Comedy|Drama|Romance</td>\n",
       "    </tr>\n",
       "    <tr>\n",
       "      <th>4</th>\n",
       "      <td>5</td>\n",
       "      <td>Father of the Bride Part II (1995)</td>\n",
       "      <td>Comedy</td>\n",
       "    </tr>\n",
       "  </tbody>\n",
       "</table>\n",
       "</div>"
      ],
      "text/plain": [
       "   movieId                               title  \\\n",
       "0        1                    Toy Story (1995)   \n",
       "1        2                      Jumanji (1995)   \n",
       "2        3             Grumpier Old Men (1995)   \n",
       "3        4            Waiting to Exhale (1995)   \n",
       "4        5  Father of the Bride Part II (1995)   \n",
       "\n",
       "                                        genres  \n",
       "0  Adventure|Animation|Children|Comedy|Fantasy  \n",
       "1                   Adventure|Children|Fantasy  \n",
       "2                               Comedy|Romance  \n",
       "3                         Comedy|Drama|Romance  \n",
       "4                                       Comedy  "
      ]
     },
     "execution_count": 269,
     "metadata": {},
     "output_type": "execute_result"
    }
   ],
   "source": [
    "movies.head()"
   ]
  },
  {
   "cell_type": "code",
   "execution_count": 25,
   "metadata": {
    "collapsed": true
   },
   "outputs": [],
   "source": [
    "movies_backup = movies.copy()"
   ]
  },
  {
   "cell_type": "markdown",
   "metadata": {},
   "source": [
    "### Accept user input"
   ]
  },
  {
   "cell_type": "code",
   "execution_count": 136,
   "metadata": {
    "collapsed": true
   },
   "outputs": [],
   "source": [
    "from ipywidgets import widgets"
   ]
  },
  {
   "cell_type": "code",
   "execution_count": 137,
   "metadata": {
    "collapsed": false
   },
   "outputs": [],
   "source": [
    "def handle_submit(sender):\n",
    "    global movieid\n",
    "    if text.value != '':\n",
    "        user[movieid] = text.value\n",
    "    clear_output()\n",
    "    movieid = show_movie()\n",
    "    text.value = ''"
   ]
  },
  {
   "cell_type": "code",
   "execution_count": 138,
   "metadata": {
    "collapsed": false
   },
   "outputs": [],
   "source": [
    "def show_movie():\n",
    "    global movies\n",
    "    movie = movies.sample(1)\n",
    "    movies = movies.drop(movie.index)\n",
    "    print('number of movies unrated: ' + str(movies.shape[0]) + '\\n')\n",
    "    print(movie)\n",
    "    return movie['movieId'].values[0]"
   ]
  },
  {
   "cell_type": "code",
   "execution_count": null,
   "metadata": {
    "collapsed": false,
    "scrolled": true
   },
   "outputs": [],
   "source": [
    "text = widgets.Text()\n",
    "random_state = 14113\n",
    "display(text)\n",
    "text.on_submit(handle_submit)\n",
    "\n",
    "movieid = show_movie()"
   ]
  },
  {
   "cell_type": "markdown",
   "metadata": {},
   "source": [
    "### Persist user profile data after session is complete"
   ]
  },
  {
   "cell_type": "code",
   "execution_count": 4,
   "metadata": {
    "collapsed": false
   },
   "outputs": [
    {
     "name": "stdout",
     "output_type": "stream",
     "text": [
      "Profile was last updated: 2017-08-08 12:48:49.604464\n",
      "Number of movies rated: 612\n",
      "Number of movies to go: 0\n"
     ]
    }
   ],
   "source": [
    "print('Profile was last updated: ' + str(datetime.datetime.now()))\n",
    "print('Number of movies rated: ' + str(len(user)))\n",
    "print('Number of movies to go: ' + str(movies.shape[0]))"
   ]
  },
  {
   "cell_type": "code",
   "execution_count": 233,
   "metadata": {
    "collapsed": true
   },
   "outputs": [],
   "source": [
    "movies.to_csv('movies_to_be_rated.csv')\n",
    "pickle.dump(user, open('adam_ratings.pkl', \"wb\"))"
   ]
  },
  {
   "cell_type": "markdown",
   "metadata": {},
   "source": [
    "### Depersist before starting a new session"
   ]
  },
  {
   "cell_type": "code",
   "execution_count": 3,
   "metadata": {
    "collapsed": false
   },
   "outputs": [],
   "source": [
    "movies = pd.read_csv('movies_to_be_rated.csv', encoding=\"ISO-8859-1\", index_col=0)\n",
    "user = pickle.load(open('adam_ratings.pkl', 'rb'))"
   ]
  },
  {
   "cell_type": "code",
   "execution_count": 9,
   "metadata": {
    "collapsed": false
   },
   "outputs": [
    {
     "data": {
      "text/html": [
       "<div>\n",
       "<table border=\"1\" class=\"dataframe\">\n",
       "  <thead>\n",
       "    <tr style=\"text-align: right;\">\n",
       "      <th></th>\n",
       "      <th>movieId</th>\n",
       "      <th>title</th>\n",
       "      <th>genres</th>\n",
       "    </tr>\n",
       "  </thead>\n",
       "  <tbody>\n",
       "    <tr>\n",
       "      <th>0</th>\n",
       "      <td>1</td>\n",
       "      <td>Toy Story (1995)</td>\n",
       "      <td>Adventure|Animation|Children|Comedy|Fantasy</td>\n",
       "    </tr>\n",
       "    <tr>\n",
       "      <th>2</th>\n",
       "      <td>3</td>\n",
       "      <td>Grumpier Old Men (1995)</td>\n",
       "      <td>Comedy|Romance</td>\n",
       "    </tr>\n",
       "    <tr>\n",
       "      <th>3</th>\n",
       "      <td>4</td>\n",
       "      <td>Waiting to Exhale (1995)</td>\n",
       "      <td>Comedy|Drama|Romance</td>\n",
       "    </tr>\n",
       "    <tr>\n",
       "      <th>4</th>\n",
       "      <td>5</td>\n",
       "      <td>Father of the Bride Part II (1995)</td>\n",
       "      <td>Comedy</td>\n",
       "    </tr>\n",
       "    <tr>\n",
       "      <th>5</th>\n",
       "      <td>6</td>\n",
       "      <td>Heat (1995)</td>\n",
       "      <td>Action|Crime|Thriller</td>\n",
       "    </tr>\n",
       "  </tbody>\n",
       "</table>\n",
       "</div>"
      ],
      "text/plain": [
       "   movieId                               title  \\\n",
       "0        1                    Toy Story (1995)   \n",
       "2        3             Grumpier Old Men (1995)   \n",
       "3        4            Waiting to Exhale (1995)   \n",
       "4        5  Father of the Bride Part II (1995)   \n",
       "5        6                         Heat (1995)   \n",
       "\n",
       "                                        genres  \n",
       "0  Adventure|Animation|Children|Comedy|Fantasy  \n",
       "2                               Comedy|Romance  \n",
       "3                         Comedy|Drama|Romance  \n",
       "4                                       Comedy  \n",
       "5                        Action|Crime|Thriller  "
      ]
     },
     "execution_count": 9,
     "metadata": {},
     "output_type": "execute_result"
    }
   ],
   "source": [
    "movies.head()"
   ]
  },
  {
   "cell_type": "markdown",
   "metadata": {},
   "source": [
    "## Filter for movies I have likely seen\n",
    "It's going to take a _very_ long time to rate 27,000 movies. Try to reduce this number by filtering movies on:\n",
    "1. Movie name string length. Some of the foreign movies have a very long titles\n",
    "2. Date released. This would require parsing the title string for the year\n",
    "3. Rating frequency. I probably haven't seen the movies that have only a few ratings. If I could order them by how many times they've been rated it could help me find the ones I've seen quicker. This frequency data would be available in the other notebook, but that script is running for a long time and might never finish."
   ]
  },
  {
   "cell_type": "markdown",
   "metadata": {},
   "source": [
    "### Movie name string length"
   ]
  },
  {
   "cell_type": "code",
   "execution_count": 270,
   "metadata": {
    "collapsed": true
   },
   "outputs": [],
   "source": [
    "title_lens = movies.apply(lambda x: len(x['title']) , axis=1)"
   ]
  },
  {
   "cell_type": "code",
   "execution_count": 271,
   "metadata": {
    "collapsed": false
   },
   "outputs": [
    {
     "data": {
      "text/plain": [
       "<matplotlib.axes._subplots.AxesSubplot at 0x1d050a5c748>"
      ]
     },
     "execution_count": 271,
     "metadata": {},
     "output_type": "execute_result"
    },
    {
     "data": {
      "image/png": "[encoded data removed]",
      "text/plain": [
       "<matplotlib.figure.Figure at 0x1d050a626d8>"
      ]
     },
     "metadata": {},
     "output_type": "display_data"
    }
   ],
   "source": [
    "plt.rcParams['figure.figsize'] = (20, 4)\n",
    "title_lens.value_counts().plot(kind='hist', bins=100)"
   ]
  },
  {
   "cell_type": "code",
   "execution_count": 344,
   "metadata": {
    "collapsed": false
   },
   "outputs": [
    {
     "data": {
      "text/plain": [
       "(26184, 27278)"
      ]
     },
     "execution_count": 344,
     "metadata": {},
     "output_type": "execute_result"
    }
   ],
   "source": [
    "(title_lens < 60).sum(), len(title_lens)"
   ]
  },
  {
   "cell_type": "code",
   "execution_count": 345,
   "metadata": {
    "collapsed": true
   },
   "outputs": [],
   "source": [
    "mask_title_length = title_lens < 60"
   ]
  },
  {
   "cell_type": "code",
   "execution_count": 346,
   "metadata": {
    "collapsed": false
   },
   "outputs": [
    {
     "data": {
      "text/plain": [
       "52"
      ]
     },
     "execution_count": 346,
     "metadata": {},
     "output_type": "execute_result"
    }
   ],
   "source": [
    "len('Lord of the Rings: The Fellowship of the Ring (xxxx)')"
   ]
  },
  {
   "cell_type": "markdown",
   "metadata": {},
   "source": [
    "### Non english words in title"
   ]
  },
  {
   "cell_type": "markdown",
   "metadata": {},
   "source": [
    "#### Get a set of english words from the internet\n",
    "http://www-01.sil.org/linguistics/wordlists/english/wordlist/wordsEn.txt"
   ]
  },
  {
   "cell_type": "code",
   "execution_count": 275,
   "metadata": {
    "collapsed": false
   },
   "outputs": [],
   "source": [
    "wordsEn = set(line.strip() for line in open('wordsEn.txt'))"
   ]
  },
  {
   "cell_type": "code",
   "execution_count": 276,
   "metadata": {
    "collapsed": false
   },
   "outputs": [
    {
     "data": {
      "text/plain": [
       "109583"
      ]
     },
     "execution_count": 276,
     "metadata": {},
     "output_type": "execute_result"
    }
   ],
   "source": [
    "len(wordsEn)"
   ]
  },
  {
   "cell_type": "markdown",
   "metadata": {},
   "source": [
    "#### Deem a movie title not English if more than 2 words are not in the set of English words `wordsEn`"
   ]
  },
  {
   "cell_type": "code",
   "execution_count": 277,
   "metadata": {
    "collapsed": true
   },
   "outputs": [],
   "source": [
    "import string"
   ]
  },
  {
   "cell_type": "code",
   "execution_count": 278,
   "metadata": {
    "collapsed": true
   },
   "outputs": [],
   "source": [
    "def check_if_english(row):\n",
    "    title = row['title'].lower()\n",
    "    title = ''.join(c for c in title if c not in set(string.punctuation)).strip()\n",
    "    title = ''.join(c for c in title if not c.isdigit()).strip()\n",
    "    words = title.split(' ')\n",
    "    count = 0\n",
    "    for word in words:\n",
    "        if word.strip() not in wordsEn:\n",
    "            count += 1\n",
    "            if count >= 2:\n",
    "                return False\n",
    "    return True"
   ]
  },
  {
   "cell_type": "code",
   "execution_count": 279,
   "metadata": {
    "collapsed": true
   },
   "outputs": [],
   "source": [
    "is_en = movies.apply(check_if_english, axis=1)"
   ]
  },
  {
   "cell_type": "code",
   "execution_count": 280,
   "metadata": {
    "collapsed": false
   },
   "outputs": [
    {
     "data": {
      "text/plain": [
       "(22694, 27278)"
      ]
     },
     "execution_count": 280,
     "metadata": {},
     "output_type": "execute_result"
    }
   ],
   "source": [
    "is_en.sum(), len(is_en)"
   ]
  },
  {
   "cell_type": "code",
   "execution_count": 281,
   "metadata": {
    "collapsed": true
   },
   "outputs": [],
   "source": [
    "mask_isenglish = is_en"
   ]
  },
  {
   "cell_type": "markdown",
   "metadata": {},
   "source": [
    "### Release year"
   ]
  },
  {
   "cell_type": "code",
   "execution_count": 282,
   "metadata": {
    "collapsed": true
   },
   "outputs": [],
   "source": [
    "import re"
   ]
  },
  {
   "cell_type": "code",
   "execution_count": 283,
   "metadata": {
    "collapsed": true
   },
   "outputs": [],
   "source": [
    "def get_release_year(row):\n",
    "    title = row['title']\n",
    "    year = re.search(r'\\(\\d{4}\\)', title)\n",
    "    if year:\n",
    "        year = year.group(0)\n",
    "    else:\n",
    "        return None\n",
    "    year = int(year.replace('(', '').replace(')', ''))\n",
    "    return year"
   ]
  },
  {
   "cell_type": "code",
   "execution_count": 284,
   "metadata": {
    "collapsed": false
   },
   "outputs": [],
   "source": [
    "release_year = movies.apply(get_release_year, axis=1)"
   ]
  },
  {
   "cell_type": "code",
   "execution_count": 285,
   "metadata": {
    "collapsed": false
   },
   "outputs": [
    {
     "data": {
      "text/plain": [
       "22"
      ]
     },
     "execution_count": 285,
     "metadata": {},
     "output_type": "execute_result"
    }
   ],
   "source": [
    "len(release_year) - len(release_year.dropna())"
   ]
  },
  {
   "cell_type": "code",
   "execution_count": 286,
   "metadata": {
    "collapsed": true
   },
   "outputs": [],
   "source": [
    "fig_dims1 = (20, 6)"
   ]
  },
  {
   "cell_type": "code",
   "execution_count": 287,
   "metadata": {
    "collapsed": false
   },
   "outputs": [
    {
     "name": "stderr",
     "output_type": "stream",
     "text": [
      "C:\\ProgramData\\Anaconda2\\envs\\py35\\lib\\site-packages\\statsmodels\\nonparametric\\kdetools.py:20: VisibleDeprecationWarning: using a non-integer number instead of an integer will result in an error in the future\n",
      "  y = X[:m/2+1] + np.r_[0,X[m/2+1:],0]*1j\n"
     ]
    },
    {
     "data": {
      "text/plain": [
       "<matplotlib.axes._subplots.AxesSubplot at 0x1d04052f9b0>"
      ]
     },
     "execution_count": 287,
     "metadata": {},
     "output_type": "execute_result"
    },
    {
     "data": {
      "image/png": "[encoded data removed]",
      "text/plain": [
       "<matplotlib.figure.Figure at 0x1d04052f1d0>"
      ]
     },
     "metadata": {},
     "output_type": "display_data"
    }
   ],
   "source": [
    "fig, ax = plt.subplots(figsize=fig_dims1)\n",
    "sns.distplot(release_year.dropna(), ax=ax)"
   ]
  },
  {
   "cell_type": "code",
   "execution_count": 288,
   "metadata": {
    "collapsed": false
   },
   "outputs": [
    {
     "data": {
      "text/plain": [
       "(16804, 27278)"
      ]
     },
     "execution_count": 288,
     "metadata": {},
     "output_type": "execute_result"
    }
   ],
   "source": [
    "(release_year > 1990).sum(), len(release_year)"
   ]
  },
  {
   "cell_type": "code",
   "execution_count": 289,
   "metadata": {
    "collapsed": true
   },
   "outputs": [],
   "source": [
    "mask_release_year = (release_year > 1990)"
   ]
  },
  {
   "cell_type": "markdown",
   "metadata": {},
   "source": [
    "### Rating frequency"
   ]
  },
  {
   "cell_type": "code",
   "execution_count": 309,
   "metadata": {
    "collapsed": false
   },
   "outputs": [],
   "source": [
    "cwd = os.getcwd()\n",
    "ratings = pd.read_csv(os.path.join(cwd, \"..\", \"data\", \"ratings.csv\"))"
   ]
  },
  {
   "cell_type": "code",
   "execution_count": 369,
   "metadata": {
    "collapsed": false
   },
   "outputs": [
    {
     "data": {
      "text/plain": [
       "(20000263, 4)"
      ]
     },
     "execution_count": 369,
     "metadata": {},
     "output_type": "execute_result"
    }
   ],
   "source": [
    "ratings.shape"
   ]
  },
  {
   "cell_type": "code",
   "execution_count": 370,
   "metadata": {
    "collapsed": false
   },
   "outputs": [
    {
     "data": {
      "text/html": [
       "<div>\n",
       "<table border=\"1\" class=\"dataframe\">\n",
       "  <thead>\n",
       "    <tr style=\"text-align: right;\">\n",
       "      <th></th>\n",
       "      <th>userId</th>\n",
       "      <th>movieId</th>\n",
       "      <th>rating</th>\n",
       "      <th>timestamp</th>\n",
       "    </tr>\n",
       "  </thead>\n",
       "  <tbody>\n",
       "    <tr>\n",
       "      <th>0</th>\n",
       "      <td>1</td>\n",
       "      <td>2</td>\n",
       "      <td>3.5</td>\n",
       "      <td>1112486027</td>\n",
       "    </tr>\n",
       "    <tr>\n",
       "      <th>1</th>\n",
       "      <td>1</td>\n",
       "      <td>29</td>\n",
       "      <td>3.5</td>\n",
       "      <td>1112484676</td>\n",
       "    </tr>\n",
       "    <tr>\n",
       "      <th>2</th>\n",
       "      <td>1</td>\n",
       "      <td>32</td>\n",
       "      <td>3.5</td>\n",
       "      <td>1112484819</td>\n",
       "    </tr>\n",
       "    <tr>\n",
       "      <th>3</th>\n",
       "      <td>1</td>\n",
       "      <td>47</td>\n",
       "      <td>3.5</td>\n",
       "      <td>1112484727</td>\n",
       "    </tr>\n",
       "    <tr>\n",
       "      <th>4</th>\n",
       "      <td>1</td>\n",
       "      <td>50</td>\n",
       "      <td>3.5</td>\n",
       "      <td>1112484580</td>\n",
       "    </tr>\n",
       "  </tbody>\n",
       "</table>\n",
       "</div>"
      ],
      "text/plain": [
       "   userId  movieId  rating   timestamp\n",
       "0       1        2     3.5  1112486027\n",
       "1       1       29     3.5  1112484676\n",
       "2       1       32     3.5  1112484819\n",
       "3       1       47     3.5  1112484727\n",
       "4       1       50     3.5  1112484580"
      ]
     },
     "execution_count": 370,
     "metadata": {},
     "output_type": "execute_result"
    }
   ],
   "source": [
    "ratings.head()"
   ]
  },
  {
   "cell_type": "code",
   "execution_count": 371,
   "metadata": {
    "collapsed": true
   },
   "outputs": [],
   "source": [
    "freq = ratings['movieId'].value_counts()"
   ]
  },
  {
   "cell_type": "code",
   "execution_count": 372,
   "metadata": {
    "collapsed": false
   },
   "outputs": [
    {
     "data": {
      "text/plain": [
       "296    67310\n",
       "356    66172\n",
       "318    63366\n",
       "593    63299\n",
       "480    59715\n",
       "Name: movieId, dtype: int64"
      ]
     },
     "execution_count": 372,
     "metadata": {},
     "output_type": "execute_result"
    }
   ],
   "source": [
    "freq.head()"
   ]
  },
  {
   "cell_type": "code",
   "execution_count": 373,
   "metadata": {
    "collapsed": false
   },
   "outputs": [
    {
     "data": {
      "text/plain": [
       "count    26744.000000\n",
       "mean       747.841123\n",
       "std       3085.818268\n",
       "min          1.000000\n",
       "25%          3.000000\n",
       "50%         18.000000\n",
       "75%        205.000000\n",
       "max      67310.000000\n",
       "Name: movieId, dtype: float64"
      ]
     },
     "execution_count": 373,
     "metadata": {},
     "output_type": "execute_result"
    }
   ],
   "source": [
    "freq.describe()"
   ]
  },
  {
   "cell_type": "code",
   "execution_count": 376,
   "metadata": {
    "collapsed": true
   },
   "outputs": [],
   "source": [
    "thresh = 200"
   ]
  },
  {
   "cell_type": "code",
   "execution_count": 377,
   "metadata": {
    "collapsed": false
   },
   "outputs": [
    {
     "data": {
      "text/plain": [
       "6757"
      ]
     },
     "execution_count": 377,
     "metadata": {},
     "output_type": "execute_result"
    }
   ],
   "source": [
    "(freq >= thresh).sum()"
   ]
  },
  {
   "cell_type": "code",
   "execution_count": 378,
   "metadata": {
    "collapsed": true
   },
   "outputs": [],
   "source": [
    "red_freq = freq[freq >= thresh]"
   ]
  },
  {
   "cell_type": "code",
   "execution_count": 379,
   "metadata": {
    "collapsed": false
   },
   "outputs": [],
   "source": [
    "red_freq = red_freq.index.tolist()"
   ]
  },
  {
   "cell_type": "code",
   "execution_count": 380,
   "metadata": {
    "collapsed": false
   },
   "outputs": [
    {
     "data": {
      "text/plain": [
       "[296, 356, 318, 593, 480, 260, 110, 589, 2571, 527]"
      ]
     },
     "execution_count": 380,
     "metadata": {},
     "output_type": "execute_result"
    }
   ],
   "source": [
    "red_freq[:10]"
   ]
  },
  {
   "cell_type": "code",
   "execution_count": 381,
   "metadata": {
    "collapsed": false
   },
   "outputs": [],
   "source": [
    "mask_freq = movies['movieId'].isin(red_freq)"
   ]
  },
  {
   "cell_type": "markdown",
   "metadata": {},
   "source": [
    "### Combine masks"
   ]
  },
  {
   "cell_type": "code",
   "execution_count": 382,
   "metadata": {
    "collapsed": false
   },
   "outputs": [
    {
     "data": {
      "text/plain": [
       "(22694, 16804, 26184, 4055)"
      ]
     },
     "execution_count": 382,
     "metadata": {},
     "output_type": "execute_result"
    }
   ],
   "source": [
    "mask_isenglish.sum(), mask_release_year.sum(), mask_title_length.sum(), mask_freq.sum()"
   ]
  },
  {
   "cell_type": "code",
   "execution_count": 383,
   "metadata": {
    "collapsed": true
   },
   "outputs": [],
   "source": [
    "mask = mask_isenglish & mask_release_year & mask_title_length & mask_freq"
   ]
  },
  {
   "cell_type": "code",
   "execution_count": 384,
   "metadata": {
    "collapsed": false
   },
   "outputs": [
    {
     "data": {
      "text/plain": [
       "4055"
      ]
     },
     "execution_count": 384,
     "metadata": {},
     "output_type": "execute_result"
    }
   ],
   "source": [
    "mask.sum()"
   ]
  },
  {
   "cell_type": "code",
   "execution_count": 385,
   "metadata": {
    "collapsed": true
   },
   "outputs": [],
   "source": [
    "cwd = os.getcwd()\n",
    "movies = pd.read_csv(os.path.join(cwd, \"..\", \"data\", \"movies.csv\"))"
   ]
  },
  {
   "cell_type": "code",
   "execution_count": 386,
   "metadata": {
    "collapsed": false
   },
   "outputs": [
    {
     "data": {
      "text/plain": [
       "(27278, 3)"
      ]
     },
     "execution_count": 386,
     "metadata": {},
     "output_type": "execute_result"
    }
   ],
   "source": [
    "movies.shape"
   ]
  },
  {
   "cell_type": "code",
   "execution_count": 387,
   "metadata": {
    "collapsed": true
   },
   "outputs": [],
   "source": [
    "movies = movies[mask]"
   ]
  },
  {
   "cell_type": "code",
   "execution_count": 388,
   "metadata": {
    "collapsed": false
   },
   "outputs": [
    {
     "data": {
      "text/plain": [
       "(4055, 3)"
      ]
     },
     "execution_count": 388,
     "metadata": {},
     "output_type": "execute_result"
    }
   ],
   "source": [
    "movies.shape"
   ]
  },
  {
   "cell_type": "code",
   "execution_count": 389,
   "metadata": {
    "collapsed": false
   },
   "outputs": [
    {
     "data": {
      "text/html": [
       "<div>\n",
       "<table border=\"1\" class=\"dataframe\">\n",
       "  <thead>\n",
       "    <tr style=\"text-align: right;\">\n",
       "      <th></th>\n",
       "      <th>movieId</th>\n",
       "      <th>title</th>\n",
       "      <th>genres</th>\n",
       "    </tr>\n",
       "  </thead>\n",
       "  <tbody>\n",
       "    <tr>\n",
       "      <th>0</th>\n",
       "      <td>1</td>\n",
       "      <td>Toy Story (1995)</td>\n",
       "      <td>Adventure|Animation|Children|Comedy|Fantasy</td>\n",
       "    </tr>\n",
       "    <tr>\n",
       "      <th>1</th>\n",
       "      <td>2</td>\n",
       "      <td>Jumanji (1995)</td>\n",
       "      <td>Adventure|Children|Fantasy</td>\n",
       "    </tr>\n",
       "    <tr>\n",
       "      <th>2</th>\n",
       "      <td>3</td>\n",
       "      <td>Grumpier Old Men (1995)</td>\n",
       "      <td>Comedy|Romance</td>\n",
       "    </tr>\n",
       "    <tr>\n",
       "      <th>3</th>\n",
       "      <td>4</td>\n",
       "      <td>Waiting to Exhale (1995)</td>\n",
       "      <td>Comedy|Drama|Romance</td>\n",
       "    </tr>\n",
       "    <tr>\n",
       "      <th>4</th>\n",
       "      <td>5</td>\n",
       "      <td>Father of the Bride Part II (1995)</td>\n",
       "      <td>Comedy</td>\n",
       "    </tr>\n",
       "  </tbody>\n",
       "</table>\n",
       "</div>"
      ],
      "text/plain": [
       "   movieId                               title  \\\n",
       "0        1                    Toy Story (1995)   \n",
       "1        2                      Jumanji (1995)   \n",
       "2        3             Grumpier Old Men (1995)   \n",
       "3        4            Waiting to Exhale (1995)   \n",
       "4        5  Father of the Bride Part II (1995)   \n",
       "\n",
       "                                        genres  \n",
       "0  Adventure|Animation|Children|Comedy|Fantasy  \n",
       "1                   Adventure|Children|Fantasy  \n",
       "2                               Comedy|Romance  \n",
       "3                         Comedy|Drama|Romance  \n",
       "4                                       Comedy  "
      ]
     },
     "execution_count": 389,
     "metadata": {},
     "output_type": "execute_result"
    }
   ],
   "source": [
    "movies.head()"
   ]
  },
  {
   "cell_type": "code",
   "execution_count": 362,
   "metadata": {
    "collapsed": false
   },
   "outputs": [
    {
     "data": {
      "text/plain": [
       "4986"
      ]
     },
     "execution_count": 362,
     "metadata": {},
     "output_type": "execute_result"
    }
   ],
   "source": [
    "movies['movieId'].nunique()"
   ]
  },
  {
   "cell_type": "code",
   "execution_count": 390,
   "metadata": {
    "collapsed": false
   },
   "outputs": [
    {
     "data": {
      "text/html": [
       "<div>\n",
       "<table border=\"1\" class=\"dataframe\">\n",
       "  <thead>\n",
       "    <tr style=\"text-align: right;\">\n",
       "      <th></th>\n",
       "      <th>userId</th>\n",
       "      <th>movieId</th>\n",
       "      <th>rating</th>\n",
       "      <th>timestamp</th>\n",
       "    </tr>\n",
       "  </thead>\n",
       "  <tbody>\n",
       "    <tr>\n",
       "      <th>0</th>\n",
       "      <td>1</td>\n",
       "      <td>2</td>\n",
       "      <td>3.5</td>\n",
       "      <td>1112486027</td>\n",
       "    </tr>\n",
       "    <tr>\n",
       "      <th>1</th>\n",
       "      <td>1</td>\n",
       "      <td>29</td>\n",
       "      <td>3.5</td>\n",
       "      <td>1112484676</td>\n",
       "    </tr>\n",
       "    <tr>\n",
       "      <th>2</th>\n",
       "      <td>1</td>\n",
       "      <td>32</td>\n",
       "      <td>3.5</td>\n",
       "      <td>1112484819</td>\n",
       "    </tr>\n",
       "    <tr>\n",
       "      <th>3</th>\n",
       "      <td>1</td>\n",
       "      <td>47</td>\n",
       "      <td>3.5</td>\n",
       "      <td>1112484727</td>\n",
       "    </tr>\n",
       "    <tr>\n",
       "      <th>4</th>\n",
       "      <td>1</td>\n",
       "      <td>50</td>\n",
       "      <td>3.5</td>\n",
       "      <td>1112484580</td>\n",
       "    </tr>\n",
       "  </tbody>\n",
       "</table>\n",
       "</div>"
      ],
      "text/plain": [
       "   userId  movieId  rating   timestamp\n",
       "0       1        2     3.5  1112486027\n",
       "1       1       29     3.5  1112484676\n",
       "2       1       32     3.5  1112484819\n",
       "3       1       47     3.5  1112484727\n",
       "4       1       50     3.5  1112484580"
      ]
     },
     "execution_count": 390,
     "metadata": {},
     "output_type": "execute_result"
    }
   ],
   "source": [
    "ratings.head()"
   ]
  },
  {
   "cell_type": "code",
   "execution_count": 391,
   "metadata": {
    "collapsed": false
   },
   "outputs": [
    {
     "data": {
      "text/plain": [
       "(20000263, 4)"
      ]
     },
     "execution_count": 391,
     "metadata": {},
     "output_type": "execute_result"
    }
   ],
   "source": [
    "ratings.shape"
   ]
  },
  {
   "cell_type": "code",
   "execution_count": 392,
   "metadata": {
    "collapsed": false
   },
   "outputs": [],
   "source": [
    "ratings_red = pd.merge(ratings, movies[['movieId']], on='movieId')"
   ]
  },
  {
   "cell_type": "code",
   "execution_count": 393,
   "metadata": {
    "collapsed": false
   },
   "outputs": [
    {
     "data": {
      "text/html": [
       "<div>\n",
       "<table border=\"1\" class=\"dataframe\">\n",
       "  <thead>\n",
       "    <tr style=\"text-align: right;\">\n",
       "      <th></th>\n",
       "      <th>userId</th>\n",
       "      <th>movieId</th>\n",
       "      <th>rating</th>\n",
       "      <th>timestamp</th>\n",
       "    </tr>\n",
       "  </thead>\n",
       "  <tbody>\n",
       "    <tr>\n",
       "      <th>0</th>\n",
       "      <td>1</td>\n",
       "      <td>2</td>\n",
       "      <td>3.5</td>\n",
       "      <td>1112486027</td>\n",
       "    </tr>\n",
       "    <tr>\n",
       "      <th>1</th>\n",
       "      <td>5</td>\n",
       "      <td>2</td>\n",
       "      <td>3.0</td>\n",
       "      <td>851527569</td>\n",
       "    </tr>\n",
       "    <tr>\n",
       "      <th>2</th>\n",
       "      <td>13</td>\n",
       "      <td>2</td>\n",
       "      <td>3.0</td>\n",
       "      <td>849082742</td>\n",
       "    </tr>\n",
       "    <tr>\n",
       "      <th>3</th>\n",
       "      <td>29</td>\n",
       "      <td>2</td>\n",
       "      <td>3.0</td>\n",
       "      <td>835562174</td>\n",
       "    </tr>\n",
       "    <tr>\n",
       "      <th>4</th>\n",
       "      <td>34</td>\n",
       "      <td>2</td>\n",
       "      <td>3.0</td>\n",
       "      <td>846509384</td>\n",
       "    </tr>\n",
       "  </tbody>\n",
       "</table>\n",
       "</div>"
      ],
      "text/plain": [
       "   userId  movieId  rating   timestamp\n",
       "0       1        2     3.5  1112486027\n",
       "1       5        2     3.0   851527569\n",
       "2      13        2     3.0   849082742\n",
       "3      29        2     3.0   835562174\n",
       "4      34        2     3.0   846509384"
      ]
     },
     "execution_count": 393,
     "metadata": {},
     "output_type": "execute_result"
    }
   ],
   "source": [
    "ratings_red.head()"
   ]
  },
  {
   "cell_type": "code",
   "execution_count": 394,
   "metadata": {
    "collapsed": false
   },
   "outputs": [
    {
     "data": {
      "text/plain": [
       "(12391806, 4)"
      ]
     },
     "execution_count": 394,
     "metadata": {},
     "output_type": "execute_result"
    }
   ],
   "source": [
    "ratings_red.shape"
   ]
  },
  {
   "cell_type": "markdown",
   "metadata": {},
   "source": [
    "# Explore and Clean my Ratings Profile"
   ]
  },
  {
   "cell_type": "code",
   "execution_count": 238,
   "metadata": {
    "collapsed": false
   },
   "outputs": [
    {
     "data": {
      "text/plain": [
       "{'1', '2', '3', '4', '5', '6'}"
      ]
     },
     "execution_count": 238,
     "metadata": {},
     "output_type": "execute_result"
    }
   ],
   "source": [
    "# unique rating values\n",
    "set(user.values())"
   ]
  },
  {
   "cell_type": "code",
   "execution_count": 241,
   "metadata": {
    "collapsed": false
   },
   "outputs": [],
   "source": [
    "user_temp = [(int(k), int(v)) for k,v in user.items()]"
   ]
  },
  {
   "cell_type": "code",
   "execution_count": 242,
   "metadata": {
    "collapsed": false
   },
   "outputs": [
    {
     "data": {
      "text/plain": [
       "[(1, 4),\n",
       " (33794, 5),\n",
       " (2053, 2),\n",
       " (102407, 5),\n",
       " (3081, 4),\n",
       " (3082, 5),\n",
       " (69644, 4),\n",
       " (6157, 4),\n",
       " (54286, 5),\n",
       " (56152, 2),\n",
       " (47122, 3),\n",
       " (19, 5),\n",
       " (52245, 4),\n",
       " (77846, 4),\n",
       " (30825, 4),\n",
       " (57368, 4),\n",
       " (42009, 4),\n",
       " (97306, 4),\n",
       " (42011, 4),\n",
       " (111644, 4),\n",
       " (30749, 3),\n",
       " (100383, 4),\n",
       " (105504, 5),\n",
       " (2082, 5),\n",
       " (1060, 5),\n",
       " (74789, 3),\n",
       " (3114, 4),\n",
       " (3752, 4),\n",
       " (8969, 1),\n",
       " (30894, 3),\n",
       " (1544, 5),\n",
       " (93363, 3),\n",
       " (4148, 5),\n",
       " (126008, 4),\n",
       " (104, 5),\n",
       " (4447, 1),\n",
       " (116797, 5),\n",
       " (5299, 3),\n",
       " (88129, 5),\n",
       " (102125, 5),\n",
       " (56775, 5),\n",
       " (1095, 5),\n",
       " (524, 4),\n",
       " (3146, 4),\n",
       " (3147, 5),\n",
       " (88140, 5),\n",
       " (57421, 4),\n",
       " (5816, 5),\n",
       " (7254, 5),\n",
       " (116823, 2),\n",
       " (88, 3),\n",
       " (30812, 5),\n",
       " (1722, 5),\n",
       " (5218, 4),\n",
       " (6502, 4),\n",
       " (3176, 5),\n",
       " (56367, 4),\n",
       " (64620, 4),\n",
       " (59501, 4),\n",
       " (110, 5),\n",
       " (67923, 5),\n",
       " (49272, 5),\n",
       " (127098, 5),\n",
       " (8866, 4),\n",
       " (69757, 4),\n",
       " (51935, 4),\n",
       " (111743, 4),\n",
       " (4226, 5),\n",
       " (5995, 4),\n",
       " (110102, 5),\n",
       " (364, 4),\n",
       " (111759, 5),\n",
       " (85131, 3),\n",
       " (4369, 5),\n",
       " (6287, 5),\n",
       " (97304, 5),\n",
       " (4242, 4),\n",
       " (56174, 5),\n",
       " (150, 5),\n",
       " (4247, 3),\n",
       " (40815, 5),\n",
       " (44191, 5),\n",
       " (27808, 3),\n",
       " (82459, 5),\n",
       " (165, 5),\n",
       " (44199, 5),\n",
       " (3100, 4),\n",
       " (38061, 3),\n",
       " (4270, 4),\n",
       " (8368, 5),\n",
       " (69122, 5),\n",
       " (7347, 4),\n",
       " (4638, 5),\n",
       " (87222, 3),\n",
       " (2231, 4),\n",
       " (8376, 4),\n",
       " (68793, 3),\n",
       " (3977, 3),\n",
       " (5151, 3),\n",
       " (64957, 4),\n",
       " (131262, 3),\n",
       " (58559, 5),\n",
       " (87232, 5),\n",
       " (5313, 3),\n",
       " (194, 4),\n",
       " (4299, 4),\n",
       " (3007, 3),\n",
       " (106696, 2),\n",
       " (8531, 3),\n",
       " (3275, 5),\n",
       " (6942, 2),\n",
       " (7373, 4),\n",
       " (7376, 5),\n",
       " (2424, 4),\n",
       " (4306, 4),\n",
       " (69844, 5),\n",
       " (4310, 4),\n",
       " (216, 5),\n",
       " (8361, 4),\n",
       " (6365, 5),\n",
       " (59615, 4),\n",
       " (68237, 5),\n",
       " (8912, 4),\n",
       " (5349, 5),\n",
       " (54503, 5),\n",
       " (6377, 4),\n",
       " (52458, 4),\n",
       " (68135, 2),\n",
       " (6383, 5),\n",
       " (60040, 5),\n",
       " (1265, 3),\n",
       " (79091, 5),\n",
       " (5502, 4),\n",
       " (888, 3),\n",
       " (91535, 5),\n",
       " (4344, 4),\n",
       " (112852, 5),\n",
       " (31685, 3),\n",
       " (253, 3),\n",
       " (80126, 3),\n",
       " (33493, 5),\n",
       " (5378, 5),\n",
       " (260, 5),\n",
       " (78209, 5),\n",
       " (6188, 5),\n",
       " (87306, 5),\n",
       " (56587, 4),\n",
       " (60684, 5),\n",
       " (62733, 5),\n",
       " (4367, 4),\n",
       " (8464, 4),\n",
       " (53464, 4),\n",
       " (27922, 4),\n",
       " (4995, 5),\n",
       " (7445, 5),\n",
       " (95510, 5),\n",
       " (48516, 5),\n",
       " (86298, 3),\n",
       " (118334, 3),\n",
       " (79132, 5),\n",
       " (6874, 4),\n",
       " (86345, 5),\n",
       " (2335, 4),\n",
       " (7458, 5),\n",
       " (2340, 4),\n",
       " (33158, 3),\n",
       " (72998, 5),\n",
       " (34150, 4),\n",
       " (57640, 4),\n",
       " (5418, 5),\n",
       " (103723, 2),\n",
       " (76077, 4),\n",
       " (95441, 5),\n",
       " (2353, 5),\n",
       " (10, 5),\n",
       " (2355, 3),\n",
       " (33085, 4),\n",
       " (121225, 5),\n",
       " (99640, 3),\n",
       " (45517, 3),\n",
       " (3386, 3),\n",
       " (68319, 5),\n",
       " (102716, 5),\n",
       " (76093, 5),\n",
       " (318, 4),\n",
       " (91529, 5),\n",
       " (6880, 5),\n",
       " (121155, 5),\n",
       " (5444, 3),\n",
       " (5445, 5),\n",
       " (93510, 5),\n",
       " (5449, 4),\n",
       " (112183, 4),\n",
       " (1356, 4),\n",
       " (34530, 3),\n",
       " (33154, 5),\n",
       " (3408, 3),\n",
       " (3409, 3),\n",
       " (59731, 4),\n",
       " (51540, 5),\n",
       " (8533, 2),\n",
       " (1682, 5),\n",
       " (5463, 5),\n",
       " (344, 5),\n",
       " (68954, 5),\n",
       " (33679, 4),\n",
       " (103772, 5),\n",
       " (3421, 5),\n",
       " (60766, 5),\n",
       " (6373, 5),\n",
       " (62999, 3),\n",
       " (96610, 5),\n",
       " (90469, 4),\n",
       " (5478, 3),\n",
       " (6503, 3),\n",
       " (94780, 4),\n",
       " (231, 5),\n",
       " (91500, 2),\n",
       " (88125, 5),\n",
       " (61160, 5),\n",
       " (34162, 5),\n",
       " (63859, 3),\n",
       " (89662, 5),\n",
       " (2706, 4),\n",
       " (129399, 4),\n",
       " (79224, 4),\n",
       " (89492, 5),\n",
       " (49530, 5),\n",
       " (4776, 4),\n",
       " (6378, 4),\n",
       " (89470, 4),\n",
       " (100737, 5),\n",
       " (45442, 3),\n",
       " (5507, 3),\n",
       " (108932, 4),\n",
       " (87430, 4),\n",
       " (71745, 3),\n",
       " (59784, 4),\n",
       " (104841, 5),\n",
       " (8781, 4),\n",
       " (99726, 3),\n",
       " (52973, 5),\n",
       " (108945, 4),\n",
       " (5524, 4),\n",
       " (91542, 4),\n",
       " (5527, 3),\n",
       " (96664, 3),\n",
       " (2628, 5),\n",
       " (2459, 4),\n",
       " (73017, 4),\n",
       " (47518, 4),\n",
       " (1889, 4),\n",
       " (457, 5),\n",
       " (420, 3),\n",
       " (97701, 4),\n",
       " (1777, 4),\n",
       " (84392, 5),\n",
       " (112552, 5),\n",
       " (8984, 5),\n",
       " (58803, 4),\n",
       " (117176, 5),\n",
       " (6586, 3),\n",
       " (45499, 5),\n",
       " (8636, 5),\n",
       " (79293, 4),\n",
       " (6593, 3),\n",
       " (46530, 4),\n",
       " (8644, 5),\n",
       " (2294, 2),\n",
       " (2502, 5),\n",
       " (1479, 4),\n",
       " (89545, 3),\n",
       " (54732, 4),\n",
       " (1485, 5),\n",
       " (56782, 5),\n",
       " (589, 5),\n",
       " (54736, 3),\n",
       " (104913, 5),\n",
       " (96588, 3),\n",
       " (117551, 5),\n",
       " (8665, 5),\n",
       " (7143, 5),\n",
       " (76251, 4),\n",
       " (68791, 4),\n",
       " (87520, 4),\n",
       " (56801, 5),\n",
       " (39435, 3),\n",
       " (53004, 3),\n",
       " (101864, 4),\n",
       " (2710, 4),\n",
       " (5615, 5),\n",
       " (49649, 3),\n",
       " (52722, 5),\n",
       " (49651, 5),\n",
       " (500, 3),\n",
       " (1527, 4),\n",
       " (63992, 1),\n",
       " (98809, 5),\n",
       " (3578, 5),\n",
       " (4886, 3),\n",
       " (69406, 3),\n",
       " (114180, 4),\n",
       " (84152, 5),\n",
       " (85510, 4),\n",
       " (37384, 5),\n",
       " (81417, 4),\n",
       " (91658, 5),\n",
       " (2571, 5),\n",
       " (55820, 5),\n",
       " (76301, 3),\n",
       " (67087, 4),\n",
       " (106002, 5),\n",
       " (39446, 4),\n",
       " (90647, 3),\n",
       " (47640, 3),\n",
       " (539, 3),\n",
       " (47644, 4),\n",
       " (82461, 5),\n",
       " (34334, 4),\n",
       " (8965, 2),\n",
       " (393, 2),\n",
       " (4016, 4),\n",
       " (8371, 4),\n",
       " (4643, 5),\n",
       " (55768, 2),\n",
       " (1573, 4),\n",
       " (3623, 5),\n",
       " (553, 5),\n",
       " (2605, 4),\n",
       " (96861, 5),\n",
       " (1588, 3),\n",
       " (45662, 4),\n",
       " (1590, 3),\n",
       " (6711, 3),\n",
       " (2617, 4),\n",
       " (77455, 5),\n",
       " (2153, 5),\n",
       " (3646, 2),\n",
       " (58293, 3),\n",
       " (1291, 5),\n",
       " (79428, 4),\n",
       " (41569, 4),\n",
       " (1608, 5),\n",
       " (5388, 4),\n",
       " (41571, 3),\n",
       " (81847, 3),\n",
       " (588, 4),\n",
       " (45666, 4),\n",
       " (80463, 5),\n",
       " (593, 5),\n",
       " (106782, 5),\n",
       " (106072, 4),\n",
       " (90717, 3),\n",
       " (8798, 5),\n",
       " (1631, 4),\n",
       " (61024, 5),\n",
       " (54881, 4),\n",
       " (6754, 5),\n",
       " (3515, 4),\n",
       " (32017, 3),\n",
       " (45672, 4),\n",
       " (73321, 4),\n",
       " (63082, 4),\n",
       " (8807, 3),\n",
       " (105068, 5),\n",
       " (107117, 4),\n",
       " (8815, 4),\n",
       " (53873, 2),\n",
       " (77427, 2),\n",
       " (86644, 5),\n",
       " (58998, 5),\n",
       " (80489, 5),\n",
       " (44665, 5),\n",
       " (80831, 4),\n",
       " (47382, 1),\n",
       " (7318, 2),\n",
       " (62081, 4),\n",
       " (103042, 5),\n",
       " (95875, 4),\n",
       " (3717, 4),\n",
       " (2694, 5),\n",
       " (648, 5),\n",
       " (1644, 3),\n",
       " (59018, 3),\n",
       " (88744, 5),\n",
       " (2701, 3),\n",
       " (70286, 4),\n",
       " (7153, 5),\n",
       " (94864, 5),\n",
       " (98961, 5),\n",
       " (97938, 4),\n",
       " (55955, 3),\n",
       " (66198, 4),\n",
       " (55577, 5),\n",
       " (2712, 4),\n",
       " (5785, 4),\n",
       " (81562, 5),\n",
       " (63131, 4),\n",
       " (81564, 4),\n",
       " (59037, 4),\n",
       " (108190, 3),\n",
       " (91077, 3),\n",
       " (672, 3),\n",
       " (673, 3),\n",
       " (112290, 5),\n",
       " (78499, 3),\n",
       " (60069, 4),\n",
       " (72378, 3),\n",
       " (1704, 5),\n",
       " (3753, 5),\n",
       " (100010, 3),\n",
       " (3755, 5),\n",
       " (79134, 3),\n",
       " (64969, 4),\n",
       " (50872, 4),\n",
       " (1721, 4),\n",
       " (69306, 4),\n",
       " (55995, 4),\n",
       " (95932, 5),\n",
       " (296, 5),\n",
       " (53953, 4),\n",
       " (1732, 5),\n",
       " (58025, 4),\n",
       " (711, 2),\n",
       " (3785, 4),\n",
       " (2762, 4),\n",
       " (61132, 5),\n",
       " (6863, 3),\n",
       " (4816, 5),\n",
       " (3793, 5),\n",
       " (71379, 5),\n",
       " (53972, 4),\n",
       " (51662, 5),\n",
       " (72407, 1),\n",
       " (34520, 4),\n",
       " (74458, 5),\n",
       " (3535, 5),\n",
       " (60126, 4),\n",
       " (59103, 3),\n",
       " (736, 4),\n",
       " (112138, 4),\n",
       " (2683, 4),\n",
       " (42725, 5),\n",
       " (79592, 4),\n",
       " (8937, 4),\n",
       " (53996, 4),\n",
       " (48877, 4),\n",
       " (7293, 2),\n",
       " (5872, 5),\n",
       " (54001, 5),\n",
       " (42738, 5),\n",
       " (8947, 5),\n",
       " (54004, 4),\n",
       " (8950, 5),\n",
       " (58103, 5),\n",
       " (77561, 5),\n",
       " (4223, 4),\n",
       " (8957, 5),\n",
       " (8961, 3),\n",
       " (111362, 5),\n",
       " (111364, 4),\n",
       " (1797, 5),\n",
       " (68358, 5),\n",
       " (97921, 5),\n",
       " (53000, 5),\n",
       " (1801, 3),\n",
       " (778, 5),\n",
       " (99114, 5),\n",
       " (8972, 5),\n",
       " (45186, 5),\n",
       " (85774, 5),\n",
       " (784, 2),\n",
       " (8977, 4),\n",
       " (8978, 3),\n",
       " (97923, 4),\n",
       " (6934, 5),\n",
       " (6936, 5),\n",
       " (4890, 4),\n",
       " (48943, 4),\n",
       " (93982, 4),\n",
       " (78469, 4),\n",
       " (74530, 3),\n",
       " (97913, 5),\n",
       " (48774, 5),\n",
       " (99112, 5),\n",
       " (2858, 4),\n",
       " (91947, 5),\n",
       " (58156, 4),\n",
       " (79663, 3),\n",
       " (86833, 5),\n",
       " (102194, 4),\n",
       " (53322, 5),\n",
       " (6793, 3),\n",
       " (112175, 5),\n",
       " (6534, 5),\n",
       " (103228, 5),\n",
       " (87869, 5),\n",
       " (96062, 3),\n",
       " (5952, 5),\n",
       " (480, 5),\n",
       " (91974, 5),\n",
       " (96737, 4),\n",
       " (60756, 5),\n",
       " (91978, 5),\n",
       " (3916, 5),\n",
       " (79695, 3),\n",
       " (103249, 5),\n",
       " (103253, 5),\n",
       " (4951, 3),\n",
       " (37720, 4),\n",
       " (1882, 3),\n",
       " (4239, 4),\n",
       " (56156, 4),\n",
       " (86880, 4),\n",
       " (93840, 5),\n",
       " (33615, 3),\n",
       " (4963, 5),\n",
       " (106916, 4),\n",
       " (5989, 5),\n",
       " (89745, 5),\n",
       " (69481, 4),\n",
       " (98154, 4),\n",
       " (56171, 3),\n",
       " (3948, 4),\n",
       " (65682, 5),\n",
       " (33646, 4),\n",
       " (71535, 4),\n",
       " (98160, 4),\n",
       " (115569, 5),\n",
       " (86898, 4),\n",
       " (1907, 3),\n",
       " (115574, 5),\n",
       " (103141, 3),\n",
       " (109487, 5),\n",
       " (40826, 4),\n",
       " (46972, 2),\n",
       " (47997, 6),\n",
       " (1918, 4),\n",
       " (86911, 5),\n",
       " (4993, 5),\n",
       " (112515, 4),\n",
       " (53125, 4),\n",
       " (2028, 5),\n",
       " (6764, 5),\n",
       " (107406, 5),\n",
       " (2959, 5),\n",
       " (5010, 4),\n",
       " (91630, 5),\n",
       " (69526, 4),\n",
       " (86332, 5),\n",
       " (6041, 3),\n",
       " (3994, 4),\n",
       " (45722, 4),\n",
       " (43936, 4),\n",
       " (103335, 5),\n",
       " (118696, 5),\n",
       " (81834, 5),\n",
       " (84950, 4),\n",
       " (44972, 3),\n",
       " (47, 5),\n",
       " (4015, 4),\n",
       " (5679, 5),\n",
       " (59315, 5),\n",
       " (78772, 2),\n",
       " (81845, 4),\n",
       " (4022, 5),\n",
       " (329, 4),\n",
       " (95167, 4),\n",
       " (72641, 2),\n",
       " (8132, 5),\n",
       " (81910, 4),\n",
       " (89030, 3),\n",
       " (32, 5),\n",
       " (63113, 5),\n",
       " (98124, 5),\n",
       " (68554, 4),\n",
       " (63436, 5),\n",
       " (55245, 5),\n",
       " (80846, 3),\n",
       " (333, 3),\n",
       " (84944, 3),\n",
       " (1320, 5),\n",
       " (5283, 5),\n",
       " (96212, 4),\n",
       " (2006, 4),\n",
       " (7161, 4),\n",
       " (110553, 5),\n",
       " (84954, 4),\n",
       " (96079, 5),\n",
       " (47610, 4),\n",
       " (72670, 4),\n",
       " (91104, 1),\n",
       " (8528, 5),\n",
       " (44004, 3),\n",
       " (2021, 4),\n",
       " (8529, 4),\n",
       " (59369, 5),\n",
       " (2761, 3),\n",
       " (112556, 5),\n",
       " (55276, 4),\n",
       " (1005, 3),\n",
       " (112623, 5),\n",
       " (54256, 4),\n",
       " (60072, 4),\n",
       " (30707, 5),\n",
       " (5110, 4),\n",
       " (106487, 2),\n",
       " (106489, 5),\n",
       " (2042, 4),\n",
       " (47099, 5),\n",
       " (35836, 4),\n",
       " (60074, 4)]"
      ]
     },
     "execution_count": 242,
     "metadata": {},
     "output_type": "execute_result"
    }
   ],
   "source": [
    "user_temp"
   ]
  },
  {
   "cell_type": "code",
   "execution_count": 244,
   "metadata": {
    "collapsed": true
   },
   "outputs": [],
   "source": [
    "user = dict(user_temp)"
   ]
  },
  {
   "cell_type": "code",
   "execution_count": 245,
   "metadata": {
    "collapsed": false
   },
   "outputs": [
    {
     "data": {
      "text/plain": [
       "{1: 4,\n",
       " 10: 5,\n",
       " 19: 5,\n",
       " 32: 5,\n",
       " 47: 5,\n",
       " 88: 3,\n",
       " 104: 5,\n",
       " 110: 5,\n",
       " 150: 5,\n",
       " 165: 5,\n",
       " 194: 4,\n",
       " 216: 5,\n",
       " 231: 5,\n",
       " 253: 3,\n",
       " 260: 5,\n",
       " 296: 5,\n",
       " 318: 4,\n",
       " 329: 4,\n",
       " 333: 3,\n",
       " 344: 5,\n",
       " 364: 4,\n",
       " 393: 2,\n",
       " 420: 3,\n",
       " 457: 5,\n",
       " 480: 5,\n",
       " 500: 3,\n",
       " 524: 4,\n",
       " 539: 3,\n",
       " 553: 5,\n",
       " 588: 4,\n",
       " 589: 5,\n",
       " 593: 5,\n",
       " 648: 5,\n",
       " 672: 3,\n",
       " 673: 3,\n",
       " 711: 2,\n",
       " 736: 4,\n",
       " 778: 5,\n",
       " 784: 2,\n",
       " 888: 3,\n",
       " 1005: 3,\n",
       " 1060: 5,\n",
       " 1095: 5,\n",
       " 1265: 3,\n",
       " 1291: 5,\n",
       " 1320: 5,\n",
       " 1356: 4,\n",
       " 1479: 4,\n",
       " 1485: 5,\n",
       " 1527: 4,\n",
       " 1544: 5,\n",
       " 1573: 4,\n",
       " 1588: 3,\n",
       " 1590: 3,\n",
       " 1608: 5,\n",
       " 1631: 4,\n",
       " 1644: 3,\n",
       " 1682: 5,\n",
       " 1704: 5,\n",
       " 1721: 4,\n",
       " 1722: 5,\n",
       " 1732: 5,\n",
       " 1777: 4,\n",
       " 1797: 5,\n",
       " 1801: 3,\n",
       " 1882: 3,\n",
       " 1889: 4,\n",
       " 1907: 3,\n",
       " 1918: 4,\n",
       " 2006: 4,\n",
       " 2021: 4,\n",
       " 2028: 5,\n",
       " 2042: 4,\n",
       " 2053: 2,\n",
       " 2082: 5,\n",
       " 2153: 5,\n",
       " 2231: 4,\n",
       " 2294: 2,\n",
       " 2335: 4,\n",
       " 2340: 4,\n",
       " 2353: 5,\n",
       " 2355: 3,\n",
       " 2424: 4,\n",
       " 2459: 4,\n",
       " 2502: 5,\n",
       " 2571: 5,\n",
       " 2605: 4,\n",
       " 2617: 4,\n",
       " 2628: 5,\n",
       " 2683: 4,\n",
       " 2694: 5,\n",
       " 2701: 3,\n",
       " 2706: 4,\n",
       " 2710: 4,\n",
       " 2712: 4,\n",
       " 2761: 3,\n",
       " 2762: 4,\n",
       " 2858: 4,\n",
       " 2959: 5,\n",
       " 3007: 3,\n",
       " 3081: 4,\n",
       " 3082: 5,\n",
       " 3100: 4,\n",
       " 3114: 4,\n",
       " 3146: 4,\n",
       " 3147: 5,\n",
       " 3176: 5,\n",
       " 3275: 5,\n",
       " 3386: 3,\n",
       " 3408: 3,\n",
       " 3409: 3,\n",
       " 3421: 5,\n",
       " 3515: 4,\n",
       " 3535: 5,\n",
       " 3578: 5,\n",
       " 3623: 5,\n",
       " 3646: 2,\n",
       " 3717: 4,\n",
       " 3752: 4,\n",
       " 3753: 5,\n",
       " 3755: 5,\n",
       " 3785: 4,\n",
       " 3793: 5,\n",
       " 3916: 5,\n",
       " 3948: 4,\n",
       " 3977: 3,\n",
       " 3994: 4,\n",
       " 4015: 4,\n",
       " 4016: 4,\n",
       " 4022: 5,\n",
       " 4148: 5,\n",
       " 4223: 4,\n",
       " 4226: 5,\n",
       " 4239: 4,\n",
       " 4242: 4,\n",
       " 4247: 3,\n",
       " 4270: 4,\n",
       " 4299: 4,\n",
       " 4306: 4,\n",
       " 4310: 4,\n",
       " 4344: 4,\n",
       " 4367: 4,\n",
       " 4369: 5,\n",
       " 4447: 1,\n",
       " 4638: 5,\n",
       " 4643: 5,\n",
       " 4776: 4,\n",
       " 4816: 5,\n",
       " 4886: 3,\n",
       " 4890: 4,\n",
       " 4951: 3,\n",
       " 4963: 5,\n",
       " 4993: 5,\n",
       " 4995: 5,\n",
       " 5010: 4,\n",
       " 5110: 4,\n",
       " 5151: 3,\n",
       " 5218: 4,\n",
       " 5283: 5,\n",
       " 5299: 3,\n",
       " 5313: 3,\n",
       " 5349: 5,\n",
       " 5378: 5,\n",
       " 5388: 4,\n",
       " 5418: 5,\n",
       " 5444: 3,\n",
       " 5445: 5,\n",
       " 5449: 4,\n",
       " 5463: 5,\n",
       " 5478: 3,\n",
       " 5502: 4,\n",
       " 5507: 3,\n",
       " 5524: 4,\n",
       " 5527: 3,\n",
       " 5615: 5,\n",
       " 5679: 5,\n",
       " 5785: 4,\n",
       " 5816: 5,\n",
       " 5872: 5,\n",
       " 5952: 5,\n",
       " 5989: 5,\n",
       " 5995: 4,\n",
       " 6041: 3,\n",
       " 6157: 4,\n",
       " 6188: 5,\n",
       " 6287: 5,\n",
       " 6365: 5,\n",
       " 6373: 5,\n",
       " 6377: 4,\n",
       " 6378: 4,\n",
       " 6383: 5,\n",
       " 6502: 4,\n",
       " 6503: 3,\n",
       " 6534: 5,\n",
       " 6586: 3,\n",
       " 6593: 3,\n",
       " 6711: 3,\n",
       " 6754: 5,\n",
       " 6764: 5,\n",
       " 6793: 3,\n",
       " 6863: 3,\n",
       " 6874: 4,\n",
       " 6880: 5,\n",
       " 6934: 5,\n",
       " 6936: 5,\n",
       " 6942: 2,\n",
       " 7143: 5,\n",
       " 7153: 5,\n",
       " 7161: 4,\n",
       " 7254: 5,\n",
       " 7293: 2,\n",
       " 7318: 2,\n",
       " 7347: 4,\n",
       " 7373: 4,\n",
       " 7376: 5,\n",
       " 7445: 5,\n",
       " 7458: 5,\n",
       " 8132: 5,\n",
       " 8361: 4,\n",
       " 8368: 5,\n",
       " 8371: 4,\n",
       " 8376: 4,\n",
       " 8464: 4,\n",
       " 8528: 5,\n",
       " 8529: 4,\n",
       " 8531: 3,\n",
       " 8533: 2,\n",
       " 8636: 5,\n",
       " 8644: 5,\n",
       " 8665: 5,\n",
       " 8781: 4,\n",
       " 8798: 5,\n",
       " 8807: 3,\n",
       " 8815: 4,\n",
       " 8866: 4,\n",
       " 8912: 4,\n",
       " 8937: 4,\n",
       " 8947: 5,\n",
       " 8950: 5,\n",
       " 8957: 5,\n",
       " 8961: 3,\n",
       " 8965: 2,\n",
       " 8969: 1,\n",
       " 8972: 5,\n",
       " 8977: 4,\n",
       " 8978: 3,\n",
       " 8984: 5,\n",
       " 27808: 3,\n",
       " 27922: 4,\n",
       " 30707: 5,\n",
       " 30749: 3,\n",
       " 30812: 5,\n",
       " 30825: 4,\n",
       " 30894: 3,\n",
       " 31685: 3,\n",
       " 32017: 3,\n",
       " 33085: 4,\n",
       " 33154: 5,\n",
       " 33158: 3,\n",
       " 33493: 5,\n",
       " 33615: 3,\n",
       " 33646: 4,\n",
       " 33679: 4,\n",
       " 33794: 5,\n",
       " 34150: 4,\n",
       " 34162: 5,\n",
       " 34334: 4,\n",
       " 34520: 4,\n",
       " 34530: 3,\n",
       " 35836: 4,\n",
       " 37384: 5,\n",
       " 37720: 4,\n",
       " 38061: 3,\n",
       " 39435: 3,\n",
       " 39446: 4,\n",
       " 40815: 5,\n",
       " 40826: 4,\n",
       " 41569: 4,\n",
       " 41571: 3,\n",
       " 42009: 4,\n",
       " 42011: 4,\n",
       " 42725: 5,\n",
       " 42738: 5,\n",
       " 43936: 4,\n",
       " 44004: 3,\n",
       " 44191: 5,\n",
       " 44199: 5,\n",
       " 44665: 5,\n",
       " 44972: 3,\n",
       " 45186: 5,\n",
       " 45442: 3,\n",
       " 45499: 5,\n",
       " 45517: 3,\n",
       " 45662: 4,\n",
       " 45666: 4,\n",
       " 45672: 4,\n",
       " 45722: 4,\n",
       " 46530: 4,\n",
       " 46972: 2,\n",
       " 47099: 5,\n",
       " 47122: 3,\n",
       " 47382: 1,\n",
       " 47518: 4,\n",
       " 47610: 4,\n",
       " 47640: 3,\n",
       " 47644: 4,\n",
       " 47997: 6,\n",
       " 48516: 5,\n",
       " 48774: 5,\n",
       " 48877: 4,\n",
       " 48943: 4,\n",
       " 49272: 5,\n",
       " 49530: 5,\n",
       " 49649: 3,\n",
       " 49651: 5,\n",
       " 50872: 4,\n",
       " 51540: 5,\n",
       " 51662: 5,\n",
       " 51935: 4,\n",
       " 52245: 4,\n",
       " 52458: 4,\n",
       " 52722: 5,\n",
       " 52973: 5,\n",
       " 53000: 5,\n",
       " 53004: 3,\n",
       " 53125: 4,\n",
       " 53322: 5,\n",
       " 53464: 4,\n",
       " 53873: 2,\n",
       " 53953: 4,\n",
       " 53972: 4,\n",
       " 53996: 4,\n",
       " 54001: 5,\n",
       " 54004: 4,\n",
       " 54256: 4,\n",
       " 54286: 5,\n",
       " 54503: 5,\n",
       " 54732: 4,\n",
       " 54736: 3,\n",
       " 54881: 4,\n",
       " 55245: 5,\n",
       " 55276: 4,\n",
       " 55577: 5,\n",
       " 55768: 2,\n",
       " 55820: 5,\n",
       " 55955: 3,\n",
       " 55995: 4,\n",
       " 56152: 2,\n",
       " 56156: 4,\n",
       " 56171: 3,\n",
       " 56174: 5,\n",
       " 56367: 4,\n",
       " 56587: 4,\n",
       " 56775: 5,\n",
       " 56782: 5,\n",
       " 56801: 5,\n",
       " 57368: 4,\n",
       " 57421: 4,\n",
       " 57640: 4,\n",
       " 58025: 4,\n",
       " 58103: 5,\n",
       " 58156: 4,\n",
       " 58293: 3,\n",
       " 58559: 5,\n",
       " 58803: 4,\n",
       " 58998: 5,\n",
       " 59018: 3,\n",
       " 59037: 4,\n",
       " 59103: 3,\n",
       " 59315: 5,\n",
       " 59369: 5,\n",
       " 59501: 4,\n",
       " 59615: 4,\n",
       " 59731: 4,\n",
       " 59784: 4,\n",
       " 60040: 5,\n",
       " 60069: 4,\n",
       " 60072: 4,\n",
       " 60074: 4,\n",
       " 60126: 4,\n",
       " 60684: 5,\n",
       " 60756: 5,\n",
       " 60766: 5,\n",
       " 61024: 5,\n",
       " 61132: 5,\n",
       " 61160: 5,\n",
       " 62081: 4,\n",
       " 62733: 5,\n",
       " 62999: 3,\n",
       " 63082: 4,\n",
       " 63113: 5,\n",
       " 63131: 4,\n",
       " 63436: 5,\n",
       " 63859: 3,\n",
       " 63992: 1,\n",
       " 64620: 4,\n",
       " 64957: 4,\n",
       " 64969: 4,\n",
       " 65682: 5,\n",
       " 66198: 4,\n",
       " 67087: 4,\n",
       " 67923: 5,\n",
       " 68135: 2,\n",
       " 68237: 5,\n",
       " 68319: 5,\n",
       " 68358: 5,\n",
       " 68554: 4,\n",
       " 68791: 4,\n",
       " 68793: 3,\n",
       " 68954: 5,\n",
       " 69122: 5,\n",
       " 69306: 4,\n",
       " 69406: 3,\n",
       " 69481: 4,\n",
       " 69526: 4,\n",
       " 69644: 4,\n",
       " 69757: 4,\n",
       " 69844: 5,\n",
       " 70286: 4,\n",
       " 71379: 5,\n",
       " 71535: 4,\n",
       " 71745: 3,\n",
       " 72378: 3,\n",
       " 72407: 1,\n",
       " 72641: 2,\n",
       " 72670: 4,\n",
       " 72998: 5,\n",
       " 73017: 4,\n",
       " 73321: 4,\n",
       " 74458: 5,\n",
       " 74530: 3,\n",
       " 74789: 3,\n",
       " 76077: 4,\n",
       " 76093: 5,\n",
       " 76251: 4,\n",
       " 76301: 3,\n",
       " 77427: 2,\n",
       " 77455: 5,\n",
       " 77561: 5,\n",
       " 77846: 4,\n",
       " 78209: 5,\n",
       " 78469: 4,\n",
       " 78499: 3,\n",
       " 78772: 2,\n",
       " 79091: 5,\n",
       " 79132: 5,\n",
       " 79134: 3,\n",
       " 79224: 4,\n",
       " 79293: 4,\n",
       " 79428: 4,\n",
       " 79592: 4,\n",
       " 79663: 3,\n",
       " 79695: 3,\n",
       " 80126: 3,\n",
       " 80463: 5,\n",
       " 80489: 5,\n",
       " 80831: 4,\n",
       " 80846: 3,\n",
       " 81417: 4,\n",
       " 81562: 5,\n",
       " 81564: 4,\n",
       " 81834: 5,\n",
       " 81845: 4,\n",
       " 81847: 3,\n",
       " 81910: 4,\n",
       " 82459: 5,\n",
       " 82461: 5,\n",
       " 84152: 5,\n",
       " 84392: 5,\n",
       " 84944: 3,\n",
       " 84950: 4,\n",
       " 84954: 4,\n",
       " 85131: 3,\n",
       " 85510: 4,\n",
       " 85774: 5,\n",
       " 86298: 3,\n",
       " 86332: 5,\n",
       " 86345: 5,\n",
       " 86644: 5,\n",
       " 86833: 5,\n",
       " 86880: 4,\n",
       " 86898: 4,\n",
       " 86911: 5,\n",
       " 87222: 3,\n",
       " 87232: 5,\n",
       " 87306: 5,\n",
       " 87430: 4,\n",
       " 87520: 4,\n",
       " 87869: 5,\n",
       " 88125: 5,\n",
       " 88129: 5,\n",
       " 88140: 5,\n",
       " 88744: 5,\n",
       " 89030: 3,\n",
       " 89470: 4,\n",
       " 89492: 5,\n",
       " 89545: 3,\n",
       " 89662: 5,\n",
       " 89745: 5,\n",
       " 90469: 4,\n",
       " 90647: 3,\n",
       " 90717: 3,\n",
       " 91077: 3,\n",
       " 91104: 1,\n",
       " 91500: 2,\n",
       " 91529: 5,\n",
       " 91535: 5,\n",
       " 91542: 4,\n",
       " 91630: 5,\n",
       " 91658: 5,\n",
       " 91947: 5,\n",
       " 91974: 5,\n",
       " 91978: 5,\n",
       " 93363: 3,\n",
       " 93510: 5,\n",
       " 93840: 5,\n",
       " 93982: 4,\n",
       " 94780: 4,\n",
       " 94864: 5,\n",
       " 95167: 4,\n",
       " 95441: 5,\n",
       " 95510: 5,\n",
       " 95875: 4,\n",
       " 95932: 5,\n",
       " 96062: 3,\n",
       " 96079: 5,\n",
       " 96212: 4,\n",
       " 96588: 3,\n",
       " 96610: 5,\n",
       " 96664: 3,\n",
       " 96737: 4,\n",
       " 96861: 5,\n",
       " 97304: 5,\n",
       " 97306: 4,\n",
       " 97701: 4,\n",
       " 97913: 5,\n",
       " 97921: 5,\n",
       " 97923: 4,\n",
       " 97938: 4,\n",
       " 98124: 5,\n",
       " 98154: 4,\n",
       " 98160: 4,\n",
       " 98809: 5,\n",
       " 98961: 5,\n",
       " 99112: 5,\n",
       " 99114: 5,\n",
       " 99640: 3,\n",
       " 99726: 3,\n",
       " 100010: 3,\n",
       " 100383: 4,\n",
       " 100737: 5,\n",
       " 101864: 4,\n",
       " 102125: 5,\n",
       " 102194: 4,\n",
       " 102407: 5,\n",
       " 102716: 5,\n",
       " 103042: 5,\n",
       " 103141: 3,\n",
       " 103228: 5,\n",
       " 103249: 5,\n",
       " 103253: 5,\n",
       " 103335: 5,\n",
       " 103723: 2,\n",
       " 103772: 5,\n",
       " 104841: 5,\n",
       " 104913: 5,\n",
       " 105068: 5,\n",
       " 105504: 5,\n",
       " 106002: 5,\n",
       " 106072: 4,\n",
       " 106487: 2,\n",
       " 106489: 5,\n",
       " 106696: 2,\n",
       " 106782: 5,\n",
       " 106916: 4,\n",
       " 107117: 4,\n",
       " 107406: 5,\n",
       " 108190: 3,\n",
       " 108932: 4,\n",
       " 108945: 4,\n",
       " 109487: 5,\n",
       " 110102: 5,\n",
       " 110553: 5,\n",
       " 111362: 5,\n",
       " 111364: 4,\n",
       " 111644: 4,\n",
       " 111743: 4,\n",
       " 111759: 5,\n",
       " 112138: 4,\n",
       " 112175: 5,\n",
       " 112183: 4,\n",
       " 112290: 5,\n",
       " 112515: 4,\n",
       " 112552: 5,\n",
       " 112556: 5,\n",
       " 112623: 5,\n",
       " 112852: 5,\n",
       " 114180: 4,\n",
       " 115569: 5,\n",
       " 115574: 5,\n",
       " 116797: 5,\n",
       " 116823: 2,\n",
       " 117176: 5,\n",
       " 117551: 5,\n",
       " 118334: 3,\n",
       " 118696: 5,\n",
       " 121155: 5,\n",
       " 121225: 5,\n",
       " 126008: 4,\n",
       " 127098: 5,\n",
       " 129399: 4,\n",
       " 131262: 3}"
      ]
     },
     "execution_count": 245,
     "metadata": {},
     "output_type": "execute_result"
    }
   ],
   "source": [
    "user"
   ]
  },
  {
   "cell_type": "code",
   "execution_count": 249,
   "metadata": {
    "collapsed": false
   },
   "outputs": [],
   "source": [
    "for k, v in user.items():\n",
    "    if v == 6:\n",
    "        user[k] = 5"
   ]
  },
  {
   "cell_type": "code",
   "execution_count": 250,
   "metadata": {
    "collapsed": false
   },
   "outputs": [
    {
     "data": {
      "text/plain": [
       "{1, 2, 3, 4, 5}"
      ]
     },
     "execution_count": 250,
     "metadata": {},
     "output_type": "execute_result"
    }
   ],
   "source": [
    "set(user.values())"
   ]
  },
  {
   "cell_type": "code",
   "execution_count": 255,
   "metadata": {
    "collapsed": false
   },
   "outputs": [
    {
     "data": {
      "text/plain": [
       "5    260\n",
       "4    215\n",
       "3    107\n",
       "2     24\n",
       "1      6\n",
       "dtype: int64"
      ]
     },
     "execution_count": 255,
     "metadata": {},
     "output_type": "execute_result"
    }
   ],
   "source": [
    "pd.Series(list(user.values())).value_counts()"
   ]
  },
  {
   "cell_type": "code",
   "execution_count": 256,
   "metadata": {
    "collapsed": false
   },
   "outputs": [
    {
     "data": {
      "text/plain": [
       "<matplotlib.axes._subplots.AxesSubplot at 0x1d053966438>"
      ]
     },
     "execution_count": 256,
     "metadata": {},
     "output_type": "execute_result"
    },
    {
     "data": {
      "image/png": "[encoded data removed]",
      "text/plain": [
       "<matplotlib.figure.Figure at 0x1d03fe7b128>"
      ]
     },
     "metadata": {},
     "output_type": "display_data"
    }
   ],
   "source": [
    "pd.Series(list(user.values())).value_counts().plot(kind='bar')"
   ]
  },
  {
   "cell_type": "code",
   "execution_count": 261,
   "metadata": {
    "collapsed": false
   },
   "outputs": [],
   "source": [
    "user_df = pd.DataFrame(list(user.items()), columns=['movieId', 'rating'])"
   ]
  },
  {
   "cell_type": "code",
   "execution_count": 262,
   "metadata": {
    "collapsed": false
   },
   "outputs": [
    {
     "data": {
      "text/html": [
       "<div>\n",
       "<table border=\"1\" class=\"dataframe\">\n",
       "  <thead>\n",
       "    <tr style=\"text-align: right;\">\n",
       "      <th></th>\n",
       "      <th>movieId</th>\n",
       "      <th>rating</th>\n",
       "    </tr>\n",
       "  </thead>\n",
       "  <tbody>\n",
       "    <tr>\n",
       "      <th>0</th>\n",
       "      <td>1</td>\n",
       "      <td>4</td>\n",
       "    </tr>\n",
       "    <tr>\n",
       "      <th>1</th>\n",
       "      <td>33794</td>\n",
       "      <td>5</td>\n",
       "    </tr>\n",
       "    <tr>\n",
       "      <th>2</th>\n",
       "      <td>3755</td>\n",
       "      <td>5</td>\n",
       "    </tr>\n",
       "    <tr>\n",
       "      <th>3</th>\n",
       "      <td>2053</td>\n",
       "      <td>2</td>\n",
       "    </tr>\n",
       "    <tr>\n",
       "      <th>4</th>\n",
       "      <td>102407</td>\n",
       "      <td>5</td>\n",
       "    </tr>\n",
       "  </tbody>\n",
       "</table>\n",
       "</div>"
      ],
      "text/plain": [
       "   movieId  rating\n",
       "0        1       4\n",
       "1    33794       5\n",
       "2     3755       5\n",
       "3     2053       2\n",
       "4   102407       5"
      ]
     },
     "execution_count": 262,
     "metadata": {},
     "output_type": "execute_result"
    }
   ],
   "source": [
    "user_df.head()"
   ]
  },
  {
   "cell_type": "code",
   "execution_count": 263,
   "metadata": {
    "collapsed": true
   },
   "outputs": [],
   "source": [
    "user_df.to_csv('adam_profile.csv')"
   ]
  },
  {
   "cell_type": "code",
   "execution_count": null,
   "metadata": {
    "collapsed": true
   },
   "outputs": [],
   "source": []
  },
  {
   "cell_type": "code",
   "execution_count": null,
   "metadata": {
    "collapsed": true
   },
   "outputs": [],
   "source": []
  },
  {
   "cell_type": "code",
   "execution_count": 264,
   "metadata": {
    "collapsed": true
   },
   "outputs": [],
   "source": [
    "test = ['a', 'b', 'c']"
   ]
  },
  {
   "cell_type": "code",
   "execution_count": 266,
   "metadata": {
    "collapsed": false
   },
   "outputs": [
    {
     "data": {
      "text/plain": [
       "'b'"
      ]
     },
     "execution_count": 266,
     "metadata": {},
     "output_type": "execute_result"
    }
   ],
   "source": [
    "test[]"
   ]
  }
 ],
 "metadata": {
  "kernelspec": {
   "display_name": "Python (py35)",
   "language": "python",
   "name": "py35"
  },
  "language_info": {
   "codemirror_mode": {
    "name": "ipython",
    "version": 3
   },
   "file_extension": ".py",
   "mimetype": "text/x-python",
   "name": "python",
   "nbconvert_exporter": "python",
   "pygments_lexer": "ipython3",
   "version": "3.5.2"
  }
 },
 "nbformat": 4,
 "nbformat_minor": 2
}
