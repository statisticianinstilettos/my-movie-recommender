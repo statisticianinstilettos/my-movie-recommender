{
 "cells": [
  {
   "cell_type": "code",
   "execution_count": 1,
   "metadata": {
    "collapsed": false
   },
   "outputs": [
    {
     "data": {
      "text/html": [
       "<style>.container { width:80% !important; }</style>"
      ],
      "text/plain": [
       "<IPython.core.display.HTML object>"
      ]
     },
     "metadata": {},
     "output_type": "display_data"
    }
   ],
   "source": [
    "import numpy as np\n",
    "import pandas as pd\n",
    "import os\n",
    "import sys\n",
    "import pickle\n",
    "import time\n",
    "import datetime\n",
    "import matplotlib.pyplot as plt\n",
    "import seaborn as sns\n",
    "from importlib import reload\n",
    "%matplotlib inline\n",
    "from IPython.core.display import display, HTML, clear_output\n",
    "display(HTML(\"<style>.container { width:80% !important; }</style>\")) "
   ]
  },
  {
   "cell_type": "code",
   "execution_count": 2,
   "metadata": {
    "collapsed": true
   },
   "outputs": [],
   "source": [
    "pd.options.display.max_rows = 999\n",
    "pd.options.display.max_columns = 999\n",
    "pd.options.display.max_colwidth = 999"
   ]
  },
  {
   "cell_type": "markdown",
   "metadata": {},
   "source": [
    "# Utility functions"
   ]
  },
  {
   "cell_type": "code",
   "execution_count": 3,
   "metadata": {
    "collapsed": true
   },
   "outputs": [],
   "source": [
    "def plot_missingness_heatmap(df):\n",
    "    sns.heatmap(df.isnull(), yticklabels=False, cbar=False, cmap='viridis')\n",
    "\n",
    "def count_null_rows(df):\n",
    "    return df.isnull().sum()"
   ]
  },
  {
   "cell_type": "markdown",
   "metadata": {},
   "source": [
    "# Import custom-built probabilistic matrix factorization (PMF) module"
   ]
  },
  {
   "cell_type": "code",
   "execution_count": 3,
   "metadata": {
    "collapsed": true
   },
   "outputs": [],
   "source": [
    "cwd = os.getcwd()\n",
    "path = os.path.join(cwd, '..', 'src')\n",
    "if not path in sys.path:\n",
    "    sys.path.append(path)\n",
    "del cwd, path"
   ]
  },
  {
   "cell_type": "code",
   "execution_count": 4,
   "metadata": {
    "collapsed": true
   },
   "outputs": [],
   "source": [
    "from MovieRecommender import PMF"
   ]
  },
  {
   "cell_type": "markdown",
   "metadata": {},
   "source": [
    "# Load ratings data"
   ]
  },
  {
   "cell_type": "code",
   "execution_count": 5,
   "metadata": {
    "collapsed": false
   },
   "outputs": [],
   "source": [
    "cwd = os.getcwd()\n",
    "ratings = pd.read_csv(os.path.join(cwd, \"..\", \"data\", \"ratings.csv\"))"
   ]
  },
  {
   "cell_type": "code",
   "execution_count": 6,
   "metadata": {
    "collapsed": false
   },
   "outputs": [
    {
     "data": {
      "text/plain": [
       "(20000263, 4)"
      ]
     },
     "execution_count": 6,
     "metadata": {},
     "output_type": "execute_result"
    }
   ],
   "source": [
    "ratings.shape"
   ]
  },
  {
   "cell_type": "code",
   "execution_count": 7,
   "metadata": {
    "collapsed": false
   },
   "outputs": [
    {
     "data": {
      "text/html": [
       "<div>\n",
       "<table border=\"1\" class=\"dataframe\">\n",
       "  <thead>\n",
       "    <tr style=\"text-align: right;\">\n",
       "      <th></th>\n",
       "      <th>userId</th>\n",
       "      <th>movieId</th>\n",
       "      <th>rating</th>\n",
       "      <th>timestamp</th>\n",
       "    </tr>\n",
       "  </thead>\n",
       "  <tbody>\n",
       "    <tr>\n",
       "      <th>0</th>\n",
       "      <td>1</td>\n",
       "      <td>2</td>\n",
       "      <td>3.5</td>\n",
       "      <td>1112486027</td>\n",
       "    </tr>\n",
       "    <tr>\n",
       "      <th>1</th>\n",
       "      <td>1</td>\n",
       "      <td>29</td>\n",
       "      <td>3.5</td>\n",
       "      <td>1112484676</td>\n",
       "    </tr>\n",
       "    <tr>\n",
       "      <th>2</th>\n",
       "      <td>1</td>\n",
       "      <td>32</td>\n",
       "      <td>3.5</td>\n",
       "      <td>1112484819</td>\n",
       "    </tr>\n",
       "    <tr>\n",
       "      <th>3</th>\n",
       "      <td>1</td>\n",
       "      <td>47</td>\n",
       "      <td>3.5</td>\n",
       "      <td>1112484727</td>\n",
       "    </tr>\n",
       "    <tr>\n",
       "      <th>4</th>\n",
       "      <td>1</td>\n",
       "      <td>50</td>\n",
       "      <td>3.5</td>\n",
       "      <td>1112484580</td>\n",
       "    </tr>\n",
       "  </tbody>\n",
       "</table>\n",
       "</div>"
      ],
      "text/plain": [
       "   userId  movieId  rating   timestamp\n",
       "0       1        2     3.5  1112486027\n",
       "1       1       29     3.5  1112484676\n",
       "2       1       32     3.5  1112484819\n",
       "3       1       47     3.5  1112484727\n",
       "4       1       50     3.5  1112484580"
      ]
     },
     "execution_count": 7,
     "metadata": {},
     "output_type": "execute_result"
    }
   ],
   "source": [
    "ratings.head()"
   ]
  },
  {
   "cell_type": "code",
   "execution_count": 8,
   "metadata": {
    "collapsed": true
   },
   "outputs": [],
   "source": [
    "ratings.drop('timestamp', axis=1, inplace=True)"
   ]
  },
  {
   "cell_type": "code",
   "execution_count": 9,
   "metadata": {
    "collapsed": false
   },
   "outputs": [
    {
     "data": {
      "text/html": [
       "<div>\n",
       "<table border=\"1\" class=\"dataframe\">\n",
       "  <thead>\n",
       "    <tr style=\"text-align: right;\">\n",
       "      <th></th>\n",
       "      <th>userId</th>\n",
       "      <th>movieId</th>\n",
       "      <th>rating</th>\n",
       "    </tr>\n",
       "  </thead>\n",
       "  <tbody>\n",
       "    <tr>\n",
       "      <th>0</th>\n",
       "      <td>1</td>\n",
       "      <td>2</td>\n",
       "      <td>3.5</td>\n",
       "    </tr>\n",
       "    <tr>\n",
       "      <th>1</th>\n",
       "      <td>1</td>\n",
       "      <td>29</td>\n",
       "      <td>3.5</td>\n",
       "    </tr>\n",
       "    <tr>\n",
       "      <th>2</th>\n",
       "      <td>1</td>\n",
       "      <td>32</td>\n",
       "      <td>3.5</td>\n",
       "    </tr>\n",
       "    <tr>\n",
       "      <th>3</th>\n",
       "      <td>1</td>\n",
       "      <td>47</td>\n",
       "      <td>3.5</td>\n",
       "    </tr>\n",
       "    <tr>\n",
       "      <th>4</th>\n",
       "      <td>1</td>\n",
       "      <td>50</td>\n",
       "      <td>3.5</td>\n",
       "    </tr>\n",
       "  </tbody>\n",
       "</table>\n",
       "</div>"
      ],
      "text/plain": [
       "   userId  movieId  rating\n",
       "0       1        2     3.5\n",
       "1       1       29     3.5\n",
       "2       1       32     3.5\n",
       "3       1       47     3.5\n",
       "4       1       50     3.5"
      ]
     },
     "execution_count": 9,
     "metadata": {},
     "output_type": "execute_result"
    }
   ],
   "source": [
    "ratings.head()"
   ]
  },
  {
   "cell_type": "markdown",
   "metadata": {},
   "source": [
    "# Reduce data size to facilitate testing"
   ]
  },
  {
   "cell_type": "code",
   "execution_count": 10,
   "metadata": {
    "collapsed": true
   },
   "outputs": [],
   "source": [
    "ratings_red = ratings.sample(100000, random_state=14113).copy()"
   ]
  },
  {
   "cell_type": "code",
   "execution_count": 11,
   "metadata": {
    "collapsed": false,
    "scrolled": false
   },
   "outputs": [
    {
     "data": {
      "text/plain": [
       "(100000, 3)"
      ]
     },
     "execution_count": 11,
     "metadata": {},
     "output_type": "execute_result"
    }
   ],
   "source": [
    "ratings_red.shape"
   ]
  },
  {
   "cell_type": "markdown",
   "metadata": {},
   "source": [
    "# Create test-train split"
   ]
  },
  {
   "cell_type": "code",
   "execution_count": 12,
   "metadata": {
    "collapsed": true
   },
   "outputs": [],
   "source": [
    "from sklearn.model_selection import train_test_split"
   ]
  },
  {
   "cell_type": "code",
   "execution_count": 13,
   "metadata": {
    "collapsed": false
   },
   "outputs": [],
   "source": [
    "ratings_train, ratings_test = train_test_split(ratings_red, test_size=0.3, random_state=14113)"
   ]
  },
  {
   "cell_type": "code",
   "execution_count": 14,
   "metadata": {
    "collapsed": false
   },
   "outputs": [
    {
     "data": {
      "text/plain": [
       "((70000, 3), (30000, 3))"
      ]
     },
     "execution_count": 14,
     "metadata": {},
     "output_type": "execute_result"
    }
   ],
   "source": [
    "ratings_train.shape, ratings_test.shape"
   ]
  },
  {
   "cell_type": "markdown",
   "metadata": {},
   "source": [
    "# Grid Search hyperparameter space for ideal setting\n",
    "Hyperparameters to tune:\n",
    "1. Rank\n",
    "2. Lambda\n",
    "3. Variance"
   ]
  },
  {
   "cell_type": "code",
   "execution_count": 15,
   "metadata": {
    "collapsed": true
   },
   "outputs": [],
   "source": [
    "def get_RMSE(df_in):\n",
    "    df = df_in.dropna()\n",
    "    return np.sqrt(((df['rating'] - df['prediction'])**2).mean())"
   ]
  },
  {
   "cell_type": "markdown",
   "metadata": {
    "collapsed": false
   },
   "source": [
    "## Search #1"
   ]
  },
  {
   "cell_type": "code",
   "execution_count": 20,
   "metadata": {
    "collapsed": true
   },
   "outputs": [],
   "source": [
    "lamd_search = [0.1, 1.0, 5.0]\n",
    "sig2_search = [0.05, 0.5, 2.0]"
   ]
  },
  {
   "cell_type": "code",
   "execution_count": 23,
   "metadata": {
    "collapsed": false,
    "scrolled": true
   },
   "outputs": [
    {
     "name": "stdout",
     "output_type": "stream",
     "text": [
      "\n",
      "iteration 1 of 9 | lambda=0.1 | sig2=0.05\n",
      "force_refresh is set to: False\n",
      "user ids normalized: False | object ids normalized: False\n",
      "Normalizing user ids | 2017-08-08 12:17:48.936368\n",
      "saving user_mapping.csv to cwd\n",
      "Normalizing object ids | 2017-08-08 12:17:55.053154\n",
      "saving obj_mapping.csv to cwd\n",
      "building omega | 2017-08-08 12:17:56.538002\n",
      "building omega_u | 2017-08-08 12:17:56.602968\n",
      "building omega_v | 2017-08-08 12:18:03.531568\n",
      "building the matrix dictionary M | 2017-08-08 12:18:05.079281\n",
      "beginning training epochs | 2017-08-08 12:18:05.419660\n",
      "\n",
      "iteration 2 of 9 | lambda=0.1 | sig2=0.5\n",
      "force_refresh is set to: False\n",
      "beginning training epochs | 2017-08-08 12:21:01.190555\n",
      "\n",
      "iteration 3 of 9 | lambda=0.1 | sig2=2.0\n",
      "force_refresh is set to: False\n",
      "beginning training epochs | 2017-08-08 12:23:49.830909\n",
      "\n",
      "iteration 4 of 9 | lambda=1.0 | sig2=0.05\n",
      "force_refresh is set to: False\n",
      "beginning training epochs | 2017-08-08 12:26:32.523842\n",
      "\n",
      "iteration 5 of 9 | lambda=1.0 | sig2=0.5\n",
      "force_refresh is set to: False\n",
      "beginning training epochs | 2017-08-08 12:29:17.455596\n",
      "\n",
      "iteration 6 of 9 | lambda=1.0 | sig2=2.0\n",
      "force_refresh is set to: False\n",
      "beginning training epochs | 2017-08-08 12:32:00.779117\n",
      "\n",
      "iteration 7 of 9 | lambda=5.0 | sig2=0.05\n",
      "force_refresh is set to: False\n",
      "beginning training epochs | 2017-08-08 12:34:46.993323\n",
      "\n",
      "iteration 8 of 9 | lambda=5.0 | sig2=0.5\n",
      "force_refresh is set to: False\n",
      "beginning training epochs | 2017-08-08 12:37:35.191974\n",
      "\n",
      "iteration 9 of 9 | lambda=5.0 | sig2=2.0\n",
      "force_refresh is set to: False\n",
      "beginning training epochs | 2017-08-08 12:40:20.267190\n"
     ]
    }
   ],
   "source": [
    "num_iter = len(lamd_search) * len(sig2_search)\n",
    "i = 0\n",
    "results = []\n",
    "pmf = PMF(num_iter=50, rank=10)\n",
    "for lamd in lamd_search:\n",
    "    for sig2 in sig2_search:\n",
    "        i += 1\n",
    "        print('\\niteration {} of {} | lambda={} | sig2={}'.format(i, num_iter, lamd, sig2))\n",
    "        pmf.lamd = lamd; pmf.sig2 = sig2\n",
    "        pmf.fit(ratings_train, force_refresh=False)\n",
    "        preds = pmf.predict(ratings_test)\n",
    "        results.append((lamd, sig2, pmf.L[-1], get_RMSE(preds)))"
   ]
  },
  {
   "cell_type": "code",
   "execution_count": 24,
   "metadata": {
    "collapsed": true
   },
   "outputs": [],
   "source": [
    "results_df = pd.DataFrame(results, columns=['lambda', 'variance', 'L', 'testRMSE'])"
   ]
  },
  {
   "cell_type": "code",
   "execution_count": 25,
   "metadata": {
    "collapsed": false,
    "scrolled": true
   },
   "outputs": [
    {
     "data": {
      "text/html": [
       "<div>\n",
       "<table border=\"1\" class=\"dataframe\">\n",
       "  <thead>\n",
       "    <tr style=\"text-align: right;\">\n",
       "      <th></th>\n",
       "      <th>lambda</th>\n",
       "      <th>variance</th>\n",
       "      <th>L</th>\n",
       "      <th>testRMSE</th>\n",
       "    </tr>\n",
       "  </thead>\n",
       "  <tbody>\n",
       "    <tr>\n",
       "      <th>0</th>\n",
       "      <td>0.1</td>\n",
       "      <td>0.05</td>\n",
       "      <td>-9088.411364</td>\n",
       "      <td>4.288897</td>\n",
       "    </tr>\n",
       "    <tr>\n",
       "      <th>1</th>\n",
       "      <td>0.1</td>\n",
       "      <td>0.50</td>\n",
       "      <td>-6347.216999</td>\n",
       "      <td>4.015001</td>\n",
       "    </tr>\n",
       "    <tr>\n",
       "      <th>2</th>\n",
       "      <td>0.1</td>\n",
       "      <td>2.00</td>\n",
       "      <td>-5368.491827</td>\n",
       "      <td>3.855574</td>\n",
       "    </tr>\n",
       "    <tr>\n",
       "      <th>3</th>\n",
       "      <td>1.0</td>\n",
       "      <td>0.05</td>\n",
       "      <td>-63697.935079</td>\n",
       "      <td>4.018522</td>\n",
       "    </tr>\n",
       "    <tr>\n",
       "      <th>4</th>\n",
       "      <td>1.0</td>\n",
       "      <td>0.50</td>\n",
       "      <td>-50452.481239</td>\n",
       "      <td>3.173875</td>\n",
       "    </tr>\n",
       "    <tr>\n",
       "      <th>5</th>\n",
       "      <td>1.0</td>\n",
       "      <td>2.00</td>\n",
       "      <td>-44927.202490</td>\n",
       "      <td>2.069514</td>\n",
       "    </tr>\n",
       "    <tr>\n",
       "      <th>6</th>\n",
       "      <td>5.0</td>\n",
       "      <td>0.05</td>\n",
       "      <td>-263313.380266</td>\n",
       "      <td>3.676290</td>\n",
       "    </tr>\n",
       "    <tr>\n",
       "      <th>7</th>\n",
       "      <td>5.0</td>\n",
       "      <td>0.50</td>\n",
       "      <td>-217450.151250</td>\n",
       "      <td>1.957605</td>\n",
       "    </tr>\n",
       "    <tr>\n",
       "      <th>8</th>\n",
       "      <td>5.0</td>\n",
       "      <td>2.00</td>\n",
       "      <td>-146108.922148</td>\n",
       "      <td>2.264561</td>\n",
       "    </tr>\n",
       "  </tbody>\n",
       "</table>\n",
       "</div>"
      ],
      "text/plain": [
       "   lambda  variance              L  testRMSE\n",
       "0     0.1      0.05   -9088.411364  4.288897\n",
       "1     0.1      0.50   -6347.216999  4.015001\n",
       "2     0.1      2.00   -5368.491827  3.855574\n",
       "3     1.0      0.05  -63697.935079  4.018522\n",
       "4     1.0      0.50  -50452.481239  3.173875\n",
       "5     1.0      2.00  -44927.202490  2.069514\n",
       "6     5.0      0.05 -263313.380266  3.676290\n",
       "7     5.0      0.50 -217450.151250  1.957605\n",
       "8     5.0      2.00 -146108.922148  2.264561"
      ]
     },
     "execution_count": 25,
     "metadata": {},
     "output_type": "execute_result"
    }
   ],
   "source": [
    "results_df"
   ]
  },
  {
   "cell_type": "code",
   "execution_count": 26,
   "metadata": {
    "collapsed": false
   },
   "outputs": [
    {
     "data": {
      "text/plain": [
       "<matplotlib.axes._subplots.AxesSubplot at 0x1bb49ad5978>"
      ]
     },
     "execution_count": 26,
     "metadata": {},
     "output_type": "execute_result"
    },
    {
     "data": {
      "image/png": "[encoded data removed]",
      "text/plain": [
       "<matplotlib.figure.Figure at 0x1bb4b8d8908>"
      ]
     },
     "metadata": {},
     "output_type": "display_data"
    }
   ],
   "source": [
    "results_df.groupby('lambda').agg({'testRMSE':'mean'}).plot()"
   ]
  },
  {
   "cell_type": "markdown",
   "metadata": {},
   "source": [
    "## Search #2"
   ]
  },
  {
   "cell_type": "code",
   "execution_count": 16,
   "metadata": {
    "collapsed": true
   },
   "outputs": [],
   "source": [
    "def grid_search(lamd_search, sig2_search):\n",
    "    num_iter = len(lamd_search) * len(sig2_search)\n",
    "    i = 0\n",
    "    results = []\n",
    "    pmf = PMF(num_iter=50, rank=10)\n",
    "    for lamd in lamd_search:\n",
    "        for sig2 in sig2_search:\n",
    "            i += 1\n",
    "            print('\\niteration {} of {} | lambda={} | sig2={}'.format(i, num_iter, lamd, sig2))\n",
    "            pmf.lamd = lamd; pmf.sig2 = sig2\n",
    "            pmf.fit(ratings_train, force_refresh=False)\n",
    "            preds = pmf.predict(ratings_test)\n",
    "            results.append((lamd, sig2, pmf.L[-1], get_RMSE(preds)))\n",
    "    return pd.DataFrame(results, columns=['lambda', 'variance', 'L', 'testRMSE'])"
   ]
  },
  {
   "cell_type": "code",
   "execution_count": 17,
   "metadata": {
    "collapsed": true
   },
   "outputs": [],
   "source": [
    "lamd_search = [5, 7.5, 10, 12.5]\n",
    "sig2_search = [0.25, 0.5, 0.75]"
   ]
  },
  {
   "cell_type": "code",
   "execution_count": 18,
   "metadata": {
    "collapsed": false,
    "scrolled": true
   },
   "outputs": [
    {
     "name": "stdout",
     "output_type": "stream",
     "text": [
      "\n",
      "iteration 1 of 12 | lambda=5 | sig2=0.25\n",
      "force_refresh is set to: False\n",
      "user ids normalized: False | object ids normalized: False\n",
      "Normalizing user ids | 2017-08-08 13:29:28.344984\n",
      "saving user_mapping.csv to cwd\n",
      "Normalizing object ids | 2017-08-08 13:29:34.336479\n",
      "saving obj_mapping.csv to cwd\n",
      "building omega | 2017-08-08 13:29:35.804498\n",
      "building omega_u | 2017-08-08 13:29:35.873529\n",
      "building omega_v | 2017-08-08 13:29:42.397246\n",
      "building the matrix dictionary M | 2017-08-08 13:29:43.746703\n",
      "beginning training epochs | 2017-08-08 13:29:44.039654\n",
      "\n",
      "iteration 2 of 12 | lambda=5 | sig2=0.5\n",
      "force_refresh is set to: False\n",
      "beginning training epochs | 2017-08-08 13:32:32.998965\n",
      "\n",
      "iteration 3 of 12 | lambda=5 | sig2=0.75\n",
      "force_refresh is set to: False\n",
      "beginning training epochs | 2017-08-08 13:35:24.806677\n",
      "\n",
      "iteration 4 of 12 | lambda=7.5 | sig2=0.25\n",
      "force_refresh is set to: False\n",
      "beginning training epochs | 2017-08-08 13:38:17.777462\n",
      "\n",
      "iteration 5 of 12 | lambda=7.5 | sig2=0.5\n",
      "force_refresh is set to: False\n",
      "beginning training epochs | 2017-08-08 13:41:18.602028\n",
      "\n",
      "iteration 6 of 12 | lambda=7.5 | sig2=0.75\n",
      "force_refresh is set to: False\n",
      "beginning training epochs | 2017-08-08 13:44:19.180254\n",
      "\n",
      "iteration 7 of 12 | lambda=10 | sig2=0.25\n",
      "force_refresh is set to: False\n",
      "beginning training epochs | 2017-08-08 13:47:21.311078\n",
      "\n",
      "iteration 8 of 12 | lambda=10 | sig2=0.5\n",
      "force_refresh is set to: False\n",
      "beginning training epochs | 2017-08-08 13:50:22.266707\n",
      "\n",
      "iteration 9 of 12 | lambda=10 | sig2=0.75\n",
      "force_refresh is set to: False\n",
      "beginning training epochs | 2017-08-08 13:53:22.425419\n",
      "\n",
      "iteration 10 of 12 | lambda=12.5 | sig2=0.25\n",
      "force_refresh is set to: False\n",
      "beginning training epochs | 2017-08-08 13:56:23.576779\n",
      "\n",
      "iteration 11 of 12 | lambda=12.5 | sig2=0.5\n",
      "force_refresh is set to: False\n",
      "beginning training epochs | 2017-08-08 13:59:23.937544\n",
      "\n",
      "iteration 12 of 12 | lambda=12.5 | sig2=0.75\n",
      "force_refresh is set to: False\n",
      "beginning training epochs | 2017-08-08 14:02:26.992163\n"
     ]
    }
   ],
   "source": [
    "results_df2 = grid_search(lamd_search, sig2_search)"
   ]
  },
  {
   "cell_type": "code",
   "execution_count": 19,
   "metadata": {
    "collapsed": false
   },
   "outputs": [
    {
     "data": {
      "text/html": [
       "<div>\n",
       "<table border=\"1\" class=\"dataframe\">\n",
       "  <thead>\n",
       "    <tr style=\"text-align: right;\">\n",
       "      <th></th>\n",
       "      <th>lambda</th>\n",
       "      <th>variance</th>\n",
       "      <th>L</th>\n",
       "      <th>testRMSE</th>\n",
       "    </tr>\n",
       "  </thead>\n",
       "  <tbody>\n",
       "    <tr>\n",
       "      <th>0</th>\n",
       "      <td>5.0</td>\n",
       "      <td>0.25</td>\n",
       "      <td>-236265.940606</td>\n",
       "      <td>2.311567</td>\n",
       "    </tr>\n",
       "    <tr>\n",
       "      <th>1</th>\n",
       "      <td>5.0</td>\n",
       "      <td>0.50</td>\n",
       "      <td>-217476.743616</td>\n",
       "      <td>1.966123</td>\n",
       "    </tr>\n",
       "    <tr>\n",
       "      <th>2</th>\n",
       "      <td>5.0</td>\n",
       "      <td>0.75</td>\n",
       "      <td>-201323.466805</td>\n",
       "      <td>1.925223</td>\n",
       "    </tr>\n",
       "    <tr>\n",
       "      <th>3</th>\n",
       "      <td>7.5</td>\n",
       "      <td>0.25</td>\n",
       "      <td>-339651.539731</td>\n",
       "      <td>2.066001</td>\n",
       "    </tr>\n",
       "    <tr>\n",
       "      <th>4</th>\n",
       "      <td>7.5</td>\n",
       "      <td>0.50</td>\n",
       "      <td>-302003.989876</td>\n",
       "      <td>1.924296</td>\n",
       "    </tr>\n",
       "    <tr>\n",
       "      <th>5</th>\n",
       "      <td>7.5</td>\n",
       "      <td>0.75</td>\n",
       "      <td>-271284.050337</td>\n",
       "      <td>1.974499</td>\n",
       "    </tr>\n",
       "    <tr>\n",
       "      <th>6</th>\n",
       "      <td>10.0</td>\n",
       "      <td>0.25</td>\n",
       "      <td>-434953.597670</td>\n",
       "      <td>1.973342</td>\n",
       "    </tr>\n",
       "    <tr>\n",
       "      <th>7</th>\n",
       "      <td>10.0</td>\n",
       "      <td>0.50</td>\n",
       "      <td>-374458.553712</td>\n",
       "      <td>1.949496</td>\n",
       "    </tr>\n",
       "    <tr>\n",
       "      <th>8</th>\n",
       "      <td>10.0</td>\n",
       "      <td>0.75</td>\n",
       "      <td>-328313.196079</td>\n",
       "      <td>2.089010</td>\n",
       "    </tr>\n",
       "    <tr>\n",
       "      <th>9</th>\n",
       "      <td>12.5</td>\n",
       "      <td>0.25</td>\n",
       "      <td>-522845.352181</td>\n",
       "      <td>1.933189</td>\n",
       "    </tr>\n",
       "    <tr>\n",
       "      <th>10</th>\n",
       "      <td>12.5</td>\n",
       "      <td>0.50</td>\n",
       "      <td>-437356.574576</td>\n",
       "      <td>2.012539</td>\n",
       "    </tr>\n",
       "    <tr>\n",
       "      <th>11</th>\n",
       "      <td>12.5</td>\n",
       "      <td>0.75</td>\n",
       "      <td>-375620.525950</td>\n",
       "      <td>2.218791</td>\n",
       "    </tr>\n",
       "  </tbody>\n",
       "</table>\n",
       "</div>"
      ],
      "text/plain": [
       "    lambda  variance              L  testRMSE\n",
       "0      5.0      0.25 -236265.940606  2.311567\n",
       "1      5.0      0.50 -217476.743616  1.966123\n",
       "2      5.0      0.75 -201323.466805  1.925223\n",
       "3      7.5      0.25 -339651.539731  2.066001\n",
       "4      7.5      0.50 -302003.989876  1.924296\n",
       "5      7.5      0.75 -271284.050337  1.974499\n",
       "6     10.0      0.25 -434953.597670  1.973342\n",
       "7     10.0      0.50 -374458.553712  1.949496\n",
       "8     10.0      0.75 -328313.196079  2.089010\n",
       "9     12.5      0.25 -522845.352181  1.933189\n",
       "10    12.5      0.50 -437356.574576  2.012539\n",
       "11    12.5      0.75 -375620.525950  2.218791"
      ]
     },
     "execution_count": 19,
     "metadata": {},
     "output_type": "execute_result"
    }
   ],
   "source": [
    "results_df2"
   ]
  },
  {
   "cell_type": "code",
   "execution_count": 20,
   "metadata": {
    "collapsed": false
   },
   "outputs": [
    {
     "data": {
      "text/plain": [
       "<matplotlib.axes._subplots.AxesSubplot at 0x2ab48082710>"
      ]
     },
     "execution_count": 20,
     "metadata": {},
     "output_type": "execute_result"
    },
    {
     "data": {
      "image/png": "[encoded data removed]",
      "text/plain": [
       "<matplotlib.figure.Figure at 0x2ab4809ceb8>"
      ]
     },
     "metadata": {},
     "output_type": "display_data"
    }
   ],
   "source": [
    "results_df2.groupby('lambda').agg({'testRMSE':'mean'}).plot()"
   ]
  },
  {
   "cell_type": "code",
   "execution_count": 22,
   "metadata": {
    "collapsed": false
   },
   "outputs": [
    {
     "data": {
      "text/plain": [
       "<matplotlib.axes._subplots.AxesSubplot at 0x2ab483b7be0>"
      ]
     },
     "execution_count": 22,
     "metadata": {},
     "output_type": "execute_result"
    },
    {
     "data": {
      "image/png": "[encoded data removed]",
      "text/plain": [
       "<matplotlib.figure.Figure at 0x2ab48c12ef0>"
      ]
     },
     "metadata": {},
     "output_type": "display_data"
    }
   ],
   "source": [
    "results_df2.groupby('variance').agg({'testRMSE':'mean'}).plot()"
   ]
  },
  {
   "cell_type": "markdown",
   "metadata": {},
   "source": [
    "## Search #3"
   ]
  },
  {
   "cell_type": "code",
   "execution_count": 25,
   "metadata": {
    "collapsed": false
   },
   "outputs": [],
   "source": [
    "lamd_search = [7.5]\n",
    "sig2_search = [0.1, 0.25, 0.375, 0.5, 0.625, 0.75, 1.0, 1.25, 1.50, 2.0]"
   ]
  },
  {
   "cell_type": "code",
   "execution_count": 26,
   "metadata": {
    "collapsed": false,
    "scrolled": true
   },
   "outputs": [
    {
     "name": "stdout",
     "output_type": "stream",
     "text": [
      "\n",
      "iteration 1 of 10 | lambda=7.5 | sig2=0.1\n",
      "force_refresh is set to: False\n",
      "user ids normalized: False | object ids normalized: False\n",
      "Normalizing user ids | 2017-08-08 14:10:58.880163\n",
      "saving user_mapping.csv to cwd\n",
      "Normalizing object ids | 2017-08-08 14:11:05.578933\n",
      "saving obj_mapping.csv to cwd\n",
      "building omega | 2017-08-08 14:11:07.163324\n",
      "building omega_u | 2017-08-08 14:11:07.234015\n",
      "building omega_v | 2017-08-08 14:11:14.270132\n",
      "building the matrix dictionary M | 2017-08-08 14:11:15.670441\n",
      "beginning training epochs | 2017-08-08 14:11:15.989807\n",
      "\n",
      "iteration 2 of 10 | lambda=7.5 | sig2=0.25\n",
      "force_refresh is set to: False\n",
      "beginning training epochs | 2017-08-08 14:14:13.790517\n",
      "\n",
      "iteration 3 of 10 | lambda=7.5 | sig2=0.375\n",
      "force_refresh is set to: False\n",
      "beginning training epochs | 2017-08-08 14:17:15.036139\n",
      "\n",
      "iteration 4 of 10 | lambda=7.5 | sig2=0.5\n",
      "force_refresh is set to: False\n",
      "beginning training epochs | 2017-08-08 14:20:10.664104\n",
      "\n",
      "iteration 5 of 10 | lambda=7.5 | sig2=0.625\n",
      "force_refresh is set to: False\n",
      "beginning training epochs | 2017-08-08 14:23:06.540477\n",
      "\n",
      "iteration 6 of 10 | lambda=7.5 | sig2=0.75\n",
      "force_refresh is set to: False\n",
      "beginning training epochs | 2017-08-08 14:25:59.323698\n",
      "\n",
      "iteration 7 of 10 | lambda=7.5 | sig2=1.0\n",
      "force_refresh is set to: False\n",
      "beginning training epochs | 2017-08-08 14:28:52.634713\n",
      "\n",
      "iteration 8 of 10 | lambda=7.5 | sig2=1.25\n",
      "force_refresh is set to: False\n",
      "beginning training epochs | 2017-08-08 14:31:45.386604\n",
      "\n",
      "iteration 9 of 10 | lambda=7.5 | sig2=1.5\n",
      "force_refresh is set to: False\n",
      "beginning training epochs | 2017-08-08 14:34:38.694595\n",
      "\n",
      "iteration 10 of 10 | lambda=7.5 | sig2=2.0\n",
      "force_refresh is set to: False\n",
      "beginning training epochs | 2017-08-08 14:37:33.104699\n"
     ]
    }
   ],
   "source": [
    "results_df3 = grid_search(lamd_search, sig2_search)"
   ]
  },
  {
   "cell_type": "code",
   "execution_count": 27,
   "metadata": {
    "collapsed": false
   },
   "outputs": [
    {
     "data": {
      "text/html": [
       "<div>\n",
       "<table border=\"1\" class=\"dataframe\">\n",
       "  <thead>\n",
       "    <tr style=\"text-align: right;\">\n",
       "      <th></th>\n",
       "      <th>lambda</th>\n",
       "      <th>variance</th>\n",
       "      <th>L</th>\n",
       "      <th>testRMSE</th>\n",
       "    </tr>\n",
       "  </thead>\n",
       "  <tbody>\n",
       "    <tr>\n",
       "      <th>0</th>\n",
       "      <td>7.5</td>\n",
       "      <td>0.100</td>\n",
       "      <td>-367878.733198</td>\n",
       "      <td>2.636696</td>\n",
       "    </tr>\n",
       "    <tr>\n",
       "      <th>1</th>\n",
       "      <td>7.5</td>\n",
       "      <td>0.250</td>\n",
       "      <td>-339695.933694</td>\n",
       "      <td>2.085529</td>\n",
       "    </tr>\n",
       "    <tr>\n",
       "      <th>2</th>\n",
       "      <td>7.5</td>\n",
       "      <td>0.375</td>\n",
       "      <td>-319872.490786</td>\n",
       "      <td>1.945482</td>\n",
       "    </tr>\n",
       "    <tr>\n",
       "      <th>3</th>\n",
       "      <td>7.5</td>\n",
       "      <td>0.500</td>\n",
       "      <td>-301990.473293</td>\n",
       "      <td>1.919758</td>\n",
       "    </tr>\n",
       "    <tr>\n",
       "      <th>4</th>\n",
       "      <td>7.5</td>\n",
       "      <td>0.625</td>\n",
       "      <td>-285858.072276</td>\n",
       "      <td>1.945174</td>\n",
       "    </tr>\n",
       "    <tr>\n",
       "      <th>5</th>\n",
       "      <td>7.5</td>\n",
       "      <td>0.750</td>\n",
       "      <td>-271289.956184</td>\n",
       "      <td>1.974898</td>\n",
       "    </tr>\n",
       "    <tr>\n",
       "      <th>6</th>\n",
       "      <td>7.5</td>\n",
       "      <td>1.000</td>\n",
       "      <td>-246228.307803</td>\n",
       "      <td>2.087389</td>\n",
       "    </tr>\n",
       "    <tr>\n",
       "      <th>7</th>\n",
       "      <td>7.5</td>\n",
       "      <td>1.250</td>\n",
       "      <td>-225367.929296</td>\n",
       "      <td>2.219241</td>\n",
       "    </tr>\n",
       "    <tr>\n",
       "      <th>8</th>\n",
       "      <td>7.5</td>\n",
       "      <td>1.500</td>\n",
       "      <td>-207689.558388</td>\n",
       "      <td>2.357638</td>\n",
       "    </tr>\n",
       "    <tr>\n",
       "      <th>9</th>\n",
       "      <td>7.5</td>\n",
       "      <td>2.000</td>\n",
       "      <td>-179254.698996</td>\n",
       "      <td>2.630732</td>\n",
       "    </tr>\n",
       "  </tbody>\n",
       "</table>\n",
       "</div>"
      ],
      "text/plain": [
       "   lambda  variance              L  testRMSE\n",
       "0     7.5     0.100 -367878.733198  2.636696\n",
       "1     7.5     0.250 -339695.933694  2.085529\n",
       "2     7.5     0.375 -319872.490786  1.945482\n",
       "3     7.5     0.500 -301990.473293  1.919758\n",
       "4     7.5     0.625 -285858.072276  1.945174\n",
       "5     7.5     0.750 -271289.956184  1.974898\n",
       "6     7.5     1.000 -246228.307803  2.087389\n",
       "7     7.5     1.250 -225367.929296  2.219241\n",
       "8     7.5     1.500 -207689.558388  2.357638\n",
       "9     7.5     2.000 -179254.698996  2.630732"
      ]
     },
     "execution_count": 27,
     "metadata": {},
     "output_type": "execute_result"
    }
   ],
   "source": [
    "results_df3"
   ]
  },
  {
   "cell_type": "code",
   "execution_count": 29,
   "metadata": {
    "collapsed": false
   },
   "outputs": [
    {
     "data": {
      "text/plain": [
       "<matplotlib.axes._subplots.AxesSubplot at 0x2ab483b07b8>"
      ]
     },
     "execution_count": 29,
     "metadata": {},
     "output_type": "execute_result"
    },
    {
     "data": {
      "image/png": "[encoded data removed]",
      "text/plain": [
       "<matplotlib.figure.Figure at 0x2ab46a06208>"
      ]
     },
     "metadata": {},
     "output_type": "display_data"
    }
   ],
   "source": [
    "results_df3.groupby('variance').agg({'testRMSE':'mean'}).plot()"
   ]
  },
  {
   "cell_type": "markdown",
   "metadata": {},
   "source": [
    "# Results\n",
    "- **rank** = 10\n",
    "- **lambda** = 7.5\n",
    "- **variance** = 0.5"
   ]
  }
 ],
 "metadata": {
  "kernelspec": {
   "display_name": "Python (py35)",
   "language": "python",
   "name": "py35"
  },
  "language_info": {
   "codemirror_mode": {
    "name": "ipython",
    "version": 3
   },
   "file_extension": ".py",
   "mimetype": "text/x-python",
   "name": "python",
   "nbconvert_exporter": "python",
   "pygments_lexer": "ipython3",
   "version": "3.5.2"
  }
 },
 "nbformat": 4,
 "nbformat_minor": 2
}
