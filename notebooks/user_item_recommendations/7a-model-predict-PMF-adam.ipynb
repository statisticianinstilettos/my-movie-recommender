{
 "cells": [
  {
   "cell_type": "code",
   "execution_count": 1,
   "metadata": {
    "collapsed": false
   },
   "outputs": [
    {
     "data": {
      "text/html": [
       "<style>.container { width:80% !important; }</style>"
      ],
      "text/plain": [
       "<IPython.core.display.HTML object>"
      ]
     },
     "metadata": {},
     "output_type": "display_data"
    }
   ],
   "source": [
    "import numpy as np\n",
    "import pandas as pd\n",
    "import os\n",
    "import sys\n",
    "import pickle\n",
    "import time\n",
    "import datetime\n",
    "import matplotlib.pyplot as plt\n",
    "import seaborn as sns\n",
    "from importlib import reload\n",
    "%matplotlib inline\n",
    "from IPython.core.display import display, HTML, clear_output\n",
    "display(HTML(\"<style>.container { width:80% !important; }</style>\")) "
   ]
  },
  {
   "cell_type": "code",
   "execution_count": 2,
   "metadata": {
    "collapsed": true
   },
   "outputs": [],
   "source": [
    "pd.options.display.max_rows = 999\n",
    "pd.options.display.max_columns = 999\n",
    "pd.options.display.max_colwidth = 999"
   ]
  },
  {
   "cell_type": "markdown",
   "metadata": {},
   "source": [
    "## Import PMF class"
   ]
  },
  {
   "cell_type": "code",
   "execution_count": 3,
   "metadata": {
    "collapsed": true
   },
   "outputs": [],
   "source": [
    "cwd = os.getcwd()\n",
    "path = os.path.join(cwd, '..', 'src')\n",
    "if not path in sys.path:\n",
    "    sys.path.append(path)\n",
    "del cwd, path"
   ]
  },
  {
   "cell_type": "code",
   "execution_count": 4,
   "metadata": {
    "collapsed": true
   },
   "outputs": [],
   "source": [
    "from MovieRecommender import PMF"
   ]
  },
  {
   "cell_type": "markdown",
   "metadata": {},
   "source": [
    "## Depersist trained model"
   ]
  },
  {
   "cell_type": "code",
   "execution_count": 9,
   "metadata": {
    "collapsed": false
   },
   "outputs": [],
   "source": [
    "pmf = pickle.load(open('adam_pmf_model_trained.pkl', 'rb'))"
   ]
  },
  {
   "cell_type": "markdown",
   "metadata": {},
   "source": [
    "## Load ratings data"
   ]
  },
  {
   "cell_type": "code",
   "execution_count": 10,
   "metadata": {
    "collapsed": true
   },
   "outputs": [],
   "source": [
    "cwd = os.getcwd()\n",
    "ratings = pd.read_csv(os.path.join(cwd, \"..\", \"data\", \"ratings.csv\"))\n",
    "ratings.drop('timestamp', axis=1, inplace=True)"
   ]
  },
  {
   "cell_type": "markdown",
   "metadata": {},
   "source": [
    "## Build prediction request"
   ]
  },
  {
   "cell_type": "code",
   "execution_count": 11,
   "metadata": {
    "collapsed": true
   },
   "outputs": [],
   "source": [
    "adam_id = 138494"
   ]
  },
  {
   "cell_type": "code",
   "execution_count": 12,
   "metadata": {
    "collapsed": true
   },
   "outputs": [],
   "source": [
    "request = pd.DataFrame(ratings['movieId'].unique(), columns=['movieId'])"
   ]
  },
  {
   "cell_type": "code",
   "execution_count": 13,
   "metadata": {
    "collapsed": true
   },
   "outputs": [],
   "source": [
    "request['userId'] = adam_id"
   ]
  },
  {
   "cell_type": "markdown",
   "metadata": {},
   "source": [
    "## Make predictions"
   ]
  },
  {
   "cell_type": "code",
   "execution_count": 14,
   "metadata": {
    "collapsed": true
   },
   "outputs": [],
   "source": [
    "preds = pmf.predict(request)"
   ]
  },
  {
   "cell_type": "markdown",
   "metadata": {},
   "source": [
    "## Observe predictions"
   ]
  },
  {
   "cell_type": "code",
   "execution_count": 17,
   "metadata": {
    "collapsed": false
   },
   "outputs": [],
   "source": [
    "preds = preds.sort_values('prediction', ascending=False)"
   ]
  },
  {
   "cell_type": "code",
   "execution_count": 18,
   "metadata": {
    "collapsed": true
   },
   "outputs": [],
   "source": [
    "cwd = os.getcwd()\n",
    "movies = pd.read_csv(os.path.join(cwd, \"..\", \"data\", \"movies.csv\"))"
   ]
  },
  {
   "cell_type": "code",
   "execution_count": 28,
   "metadata": {
    "collapsed": true
   },
   "outputs": [],
   "source": [
    "preds = pd.merge(preds, movies, on='movieId')"
   ]
  },
  {
   "cell_type": "code",
   "execution_count": 25,
   "metadata": {
    "collapsed": true
   },
   "outputs": [],
   "source": [
    "adam_profile = pd.read_csv('adam_profile.csv', index_col=0)"
   ]
  },
  {
   "cell_type": "code",
   "execution_count": 34,
   "metadata": {
    "collapsed": true
   },
   "outputs": [],
   "source": [
    "preds = pd.merge(preds, adam_profile, on='movieId', how='left')"
   ]
  },
  {
   "cell_type": "code",
   "execution_count": 46,
   "metadata": {
    "collapsed": true
   },
   "outputs": [],
   "source": [
    "havent_seen_it_mask = preds['rating'].isnull()"
   ]
  },
  {
   "cell_type": "code",
   "execution_count": 51,
   "metadata": {
    "collapsed": false,
    "scrolled": false
   },
   "outputs": [
    {
     "data": {
      "text/html": [
       "<div>\n",
       "<table border=\"1\" class=\"dataframe\">\n",
       "  <thead>\n",
       "    <tr style=\"text-align: right;\">\n",
       "      <th></th>\n",
       "      <th>movieId</th>\n",
       "      <th>userId</th>\n",
       "      <th>prediction</th>\n",
       "      <th>title</th>\n",
       "      <th>genres</th>\n",
       "      <th>rating</th>\n",
       "    </tr>\n",
       "  </thead>\n",
       "  <tbody>\n",
       "    <tr>\n",
       "      <th>1</th>\n",
       "      <td>1201</td>\n",
       "      <td>138494</td>\n",
       "      <td>5.566099</td>\n",
       "      <td>Good, the Bad and the Ugly, The (Buono, il brutto, il cattivo, Il) (1966)</td>\n",
       "      <td>Action|Adventure|Western</td>\n",
       "      <td>NaN</td>\n",
       "    </tr>\n",
       "    <tr>\n",
       "      <th>2</th>\n",
       "      <td>3527</td>\n",
       "      <td>138494</td>\n",
       "      <td>5.559449</td>\n",
       "      <td>Predator (1987)</td>\n",
       "      <td>Action|Sci-Fi|Thriller</td>\n",
       "      <td>NaN</td>\n",
       "    </tr>\n",
       "    <tr>\n",
       "      <th>3</th>\n",
       "      <td>1221</td>\n",
       "      <td>138494</td>\n",
       "      <td>5.514657</td>\n",
       "      <td>Godfather: Part II, The (1974)</td>\n",
       "      <td>Crime|Drama</td>\n",
       "      <td>NaN</td>\n",
       "    </tr>\n",
       "    <tr>\n",
       "      <th>4</th>\n",
       "      <td>1200</td>\n",
       "      <td>138494</td>\n",
       "      <td>5.509245</td>\n",
       "      <td>Aliens (1986)</td>\n",
       "      <td>Action|Adventure|Horror|Sci-Fi</td>\n",
       "      <td>NaN</td>\n",
       "    </tr>\n",
       "    <tr>\n",
       "      <th>5</th>\n",
       "      <td>858</td>\n",
       "      <td>138494</td>\n",
       "      <td>5.466609</td>\n",
       "      <td>Godfather, The (1972)</td>\n",
       "      <td>Crime|Drama</td>\n",
       "      <td>NaN</td>\n",
       "    </tr>\n",
       "    <tr>\n",
       "      <th>6</th>\n",
       "      <td>1196</td>\n",
       "      <td>138494</td>\n",
       "      <td>5.465391</td>\n",
       "      <td>Star Wars: Episode V - The Empire Strikes Back (1980)</td>\n",
       "      <td>Action|Adventure|Sci-Fi</td>\n",
       "      <td>NaN</td>\n",
       "    </tr>\n",
       "    <tr>\n",
       "      <th>8</th>\n",
       "      <td>7502</td>\n",
       "      <td>138494</td>\n",
       "      <td>5.448516</td>\n",
       "      <td>Band of Brothers (2001)</td>\n",
       "      <td>Action|Drama|War</td>\n",
       "      <td>NaN</td>\n",
       "    </tr>\n",
       "    <tr>\n",
       "      <th>9</th>\n",
       "      <td>57528</td>\n",
       "      <td>138494</td>\n",
       "      <td>5.423444</td>\n",
       "      <td>Rambo (Rambo 4) (2008)</td>\n",
       "      <td>Action|Drama|Thriller|War</td>\n",
       "      <td>NaN</td>\n",
       "    </tr>\n",
       "    <tr>\n",
       "      <th>10</th>\n",
       "      <td>6</td>\n",
       "      <td>138494</td>\n",
       "      <td>5.422579</td>\n",
       "      <td>Heat (1995)</td>\n",
       "      <td>Action|Crime|Thriller</td>\n",
       "      <td>NaN</td>\n",
       "    </tr>\n",
       "    <tr>\n",
       "      <th>11</th>\n",
       "      <td>1036</td>\n",
       "      <td>138494</td>\n",
       "      <td>5.412736</td>\n",
       "      <td>Die Hard (1988)</td>\n",
       "      <td>Action|Crime|Thriller</td>\n",
       "      <td>NaN</td>\n",
       "    </tr>\n",
       "    <tr>\n",
       "      <th>13</th>\n",
       "      <td>1214</td>\n",
       "      <td>138494</td>\n",
       "      <td>5.409337</td>\n",
       "      <td>Alien (1979)</td>\n",
       "      <td>Horror|Sci-Fi</td>\n",
       "      <td>NaN</td>\n",
       "    </tr>\n",
       "    <tr>\n",
       "      <th>14</th>\n",
       "      <td>2288</td>\n",
       "      <td>138494</td>\n",
       "      <td>5.381041</td>\n",
       "      <td>Thing, The (1982)</td>\n",
       "      <td>Action|Horror|Sci-Fi|Thriller</td>\n",
       "      <td>NaN</td>\n",
       "    </tr>\n",
       "    <tr>\n",
       "      <th>15</th>\n",
       "      <td>1240</td>\n",
       "      <td>138494</td>\n",
       "      <td>5.365779</td>\n",
       "      <td>Terminator, The (1984)</td>\n",
       "      <td>Action|Sci-Fi|Thriller</td>\n",
       "      <td>NaN</td>\n",
       "    </tr>\n",
       "    <tr>\n",
       "      <th>17</th>\n",
       "      <td>1213</td>\n",
       "      <td>138494</td>\n",
       "      <td>5.345344</td>\n",
       "      <td>Goodfellas (1990)</td>\n",
       "      <td>Crime|Drama</td>\n",
       "      <td>NaN</td>\n",
       "    </tr>\n",
       "    <tr>\n",
       "      <th>18</th>\n",
       "      <td>1676</td>\n",
       "      <td>138494</td>\n",
       "      <td>5.341288</td>\n",
       "      <td>Starship Troopers (1997)</td>\n",
       "      <td>Action|Sci-Fi</td>\n",
       "      <td>NaN</td>\n",
       "    </tr>\n",
       "    <tr>\n",
       "      <th>20</th>\n",
       "      <td>1266</td>\n",
       "      <td>138494</td>\n",
       "      <td>5.293252</td>\n",
       "      <td>Unforgiven (1992)</td>\n",
       "      <td>Drama|Western</td>\n",
       "      <td>NaN</td>\n",
       "    </tr>\n",
       "    <tr>\n",
       "      <th>22</th>\n",
       "      <td>2403</td>\n",
       "      <td>138494</td>\n",
       "      <td>5.287890</td>\n",
       "      <td>First Blood (Rambo: First Blood) (1982)</td>\n",
       "      <td>Action|Adventure|Drama|Thriller</td>\n",
       "      <td>NaN</td>\n",
       "    </tr>\n",
       "    <tr>\n",
       "      <th>23</th>\n",
       "      <td>16</td>\n",
       "      <td>138494</td>\n",
       "      <td>5.285086</td>\n",
       "      <td>Casino (1995)</td>\n",
       "      <td>Crime|Drama</td>\n",
       "      <td>NaN</td>\n",
       "    </tr>\n",
       "    <tr>\n",
       "      <th>25</th>\n",
       "      <td>99813</td>\n",
       "      <td>138494</td>\n",
       "      <td>5.254572</td>\n",
       "      <td>Batman: The Dark Knight Returns, Part 2 (2013)</td>\n",
       "      <td>Action|Animation</td>\n",
       "      <td>NaN</td>\n",
       "    </tr>\n",
       "    <tr>\n",
       "      <th>30</th>\n",
       "      <td>1210</td>\n",
       "      <td>138494</td>\n",
       "      <td>5.226650</td>\n",
       "      <td>Star Wars: Episode VI - Return of the Jedi (1983)</td>\n",
       "      <td>Action|Adventure|Sci-Fi</td>\n",
       "      <td>NaN</td>\n",
       "    </tr>\n",
       "    <tr>\n",
       "      <th>40</th>\n",
       "      <td>86347</td>\n",
       "      <td>138494</td>\n",
       "      <td>5.152832</td>\n",
       "      <td>Louis C.K.: Chewed Up (2008)</td>\n",
       "      <td>Comedy</td>\n",
       "      <td>NaN</td>\n",
       "    </tr>\n",
       "    <tr>\n",
       "      <th>41</th>\n",
       "      <td>1198</td>\n",
       "      <td>138494</td>\n",
       "      <td>5.152428</td>\n",
       "      <td>Raiders of the Lost Ark (Indiana Jones and the Raiders of the Lost Ark) (1981)</td>\n",
       "      <td>Action|Adventure</td>\n",
       "      <td>NaN</td>\n",
       "    </tr>\n",
       "    <tr>\n",
       "      <th>43</th>\n",
       "      <td>86377</td>\n",
       "      <td>138494</td>\n",
       "      <td>5.142781</td>\n",
       "      <td>Louis C.K.: Shameless (2007)</td>\n",
       "      <td>Comedy</td>\n",
       "      <td>NaN</td>\n",
       "    </tr>\n",
       "    <tr>\n",
       "      <th>46</th>\n",
       "      <td>1222</td>\n",
       "      <td>138494</td>\n",
       "      <td>5.134237</td>\n",
       "      <td>Full Metal Jacket (1987)</td>\n",
       "      <td>Drama|War</td>\n",
       "      <td>NaN</td>\n",
       "    </tr>\n",
       "    <tr>\n",
       "      <th>47</th>\n",
       "      <td>4262</td>\n",
       "      <td>138494</td>\n",
       "      <td>5.130967</td>\n",
       "      <td>Scarface (1983)</td>\n",
       "      <td>Action|Crime|Drama</td>\n",
       "      <td>NaN</td>\n",
       "    </tr>\n",
       "    <tr>\n",
       "      <th>48</th>\n",
       "      <td>3703</td>\n",
       "      <td>138494</td>\n",
       "      <td>5.125509</td>\n",
       "      <td>Road Warrior, The (Mad Max 2) (1981)</td>\n",
       "      <td>Action|Adventure|Sci-Fi</td>\n",
       "      <td>NaN</td>\n",
       "    </tr>\n",
       "    <tr>\n",
       "      <th>51</th>\n",
       "      <td>89774</td>\n",
       "      <td>138494</td>\n",
       "      <td>5.114396</td>\n",
       "      <td>Warrior (2011)</td>\n",
       "      <td>Drama</td>\n",
       "      <td>NaN</td>\n",
       "    </tr>\n",
       "    <tr>\n",
       "      <th>53</th>\n",
       "      <td>49265</td>\n",
       "      <td>138494</td>\n",
       "      <td>5.107078</td>\n",
       "      <td>Shooting Dogs (a.k.a. Beyond the Gates) (2005)</td>\n",
       "      <td>Documentary|Drama|War</td>\n",
       "      <td>NaN</td>\n",
       "    </tr>\n",
       "    <tr>\n",
       "      <th>54</th>\n",
       "      <td>1209</td>\n",
       "      <td>138494</td>\n",
       "      <td>5.106620</td>\n",
       "      <td>Once Upon a Time in the West (C'era una volta il West) (1968)</td>\n",
       "      <td>Action|Drama|Western</td>\n",
       "      <td>NaN</td>\n",
       "    </tr>\n",
       "    <tr>\n",
       "      <th>56</th>\n",
       "      <td>48304</td>\n",
       "      <td>138494</td>\n",
       "      <td>5.097957</td>\n",
       "      <td>Apocalypto (2006)</td>\n",
       "      <td>Adventure|Drama|Thriller</td>\n",
       "      <td>NaN</td>\n",
       "    </tr>\n",
       "  </tbody>\n",
       "</table>\n",
       "</div>"
      ],
      "text/plain": [
       "    movieId  userId  prediction  \\\n",
       "1      1201  138494    5.566099   \n",
       "2      3527  138494    5.559449   \n",
       "3      1221  138494    5.514657   \n",
       "4      1200  138494    5.509245   \n",
       "5       858  138494    5.466609   \n",
       "6      1196  138494    5.465391   \n",
       "8      7502  138494    5.448516   \n",
       "9     57528  138494    5.423444   \n",
       "10        6  138494    5.422579   \n",
       "11     1036  138494    5.412736   \n",
       "13     1214  138494    5.409337   \n",
       "14     2288  138494    5.381041   \n",
       "15     1240  138494    5.365779   \n",
       "17     1213  138494    5.345344   \n",
       "18     1676  138494    5.341288   \n",
       "20     1266  138494    5.293252   \n",
       "22     2403  138494    5.287890   \n",
       "23       16  138494    5.285086   \n",
       "25    99813  138494    5.254572   \n",
       "30     1210  138494    5.226650   \n",
       "40    86347  138494    5.152832   \n",
       "41     1198  138494    5.152428   \n",
       "43    86377  138494    5.142781   \n",
       "46     1222  138494    5.134237   \n",
       "47     4262  138494    5.130967   \n",
       "48     3703  138494    5.125509   \n",
       "51    89774  138494    5.114396   \n",
       "53    49265  138494    5.107078   \n",
       "54     1209  138494    5.106620   \n",
       "56    48304  138494    5.097957   \n",
       "\n",
       "                                                                             title  \\\n",
       "1        Good, the Bad and the Ugly, The (Buono, il brutto, il cattivo, Il) (1966)   \n",
       "2                                                                  Predator (1987)   \n",
       "3                                                   Godfather: Part II, The (1974)   \n",
       "4                                                                    Aliens (1986)   \n",
       "5                                                            Godfather, The (1972)   \n",
       "6                            Star Wars: Episode V - The Empire Strikes Back (1980)   \n",
       "8                                                          Band of Brothers (2001)   \n",
       "9                                                           Rambo (Rambo 4) (2008)   \n",
       "10                                                                     Heat (1995)   \n",
       "11                                                                 Die Hard (1988)   \n",
       "13                                                                    Alien (1979)   \n",
       "14                                                               Thing, The (1982)   \n",
       "15                                                          Terminator, The (1984)   \n",
       "17                                                               Goodfellas (1990)   \n",
       "18                                                        Starship Troopers (1997)   \n",
       "20                                                               Unforgiven (1992)   \n",
       "22                                         First Blood (Rambo: First Blood) (1982)   \n",
       "23                                                                   Casino (1995)   \n",
       "25                                  Batman: The Dark Knight Returns, Part 2 (2013)   \n",
       "30                               Star Wars: Episode VI - Return of the Jedi (1983)   \n",
       "40                                                    Louis C.K.: Chewed Up (2008)   \n",
       "41  Raiders of the Lost Ark (Indiana Jones and the Raiders of the Lost Ark) (1981)   \n",
       "43                                                    Louis C.K.: Shameless (2007)   \n",
       "46                                                        Full Metal Jacket (1987)   \n",
       "47                                                                 Scarface (1983)   \n",
       "48                                            Road Warrior, The (Mad Max 2) (1981)   \n",
       "51                                                                  Warrior (2011)   \n",
       "53                                  Shooting Dogs (a.k.a. Beyond the Gates) (2005)   \n",
       "54                   Once Upon a Time in the West (C'era una volta il West) (1968)   \n",
       "56                                                               Apocalypto (2006)   \n",
       "\n",
       "                             genres  rating  \n",
       "1          Action|Adventure|Western     NaN  \n",
       "2            Action|Sci-Fi|Thriller     NaN  \n",
       "3                       Crime|Drama     NaN  \n",
       "4    Action|Adventure|Horror|Sci-Fi     NaN  \n",
       "5                       Crime|Drama     NaN  \n",
       "6           Action|Adventure|Sci-Fi     NaN  \n",
       "8                  Action|Drama|War     NaN  \n",
       "9         Action|Drama|Thriller|War     NaN  \n",
       "10            Action|Crime|Thriller     NaN  \n",
       "11            Action|Crime|Thriller     NaN  \n",
       "13                    Horror|Sci-Fi     NaN  \n",
       "14    Action|Horror|Sci-Fi|Thriller     NaN  \n",
       "15           Action|Sci-Fi|Thriller     NaN  \n",
       "17                      Crime|Drama     NaN  \n",
       "18                    Action|Sci-Fi     NaN  \n",
       "20                    Drama|Western     NaN  \n",
       "22  Action|Adventure|Drama|Thriller     NaN  \n",
       "23                      Crime|Drama     NaN  \n",
       "25                 Action|Animation     NaN  \n",
       "30          Action|Adventure|Sci-Fi     NaN  \n",
       "40                           Comedy     NaN  \n",
       "41                 Action|Adventure     NaN  \n",
       "43                           Comedy     NaN  \n",
       "46                        Drama|War     NaN  \n",
       "47               Action|Crime|Drama     NaN  \n",
       "48          Action|Adventure|Sci-Fi     NaN  \n",
       "51                            Drama     NaN  \n",
       "53            Documentary|Drama|War     NaN  \n",
       "54             Action|Drama|Western     NaN  \n",
       "56         Adventure|Drama|Thriller     NaN  "
      ]
     },
     "execution_count": 51,
     "metadata": {},
     "output_type": "execute_result"
    }
   ],
   "source": [
    "preds[havent_seen_it_mask].head(30)"
   ]
  },
  {
   "cell_type": "markdown",
   "metadata": {},
   "source": [
    "## Persist top 2000 recommendations for use"
   ]
  },
  {
   "cell_type": "code",
   "execution_count": 50,
   "metadata": {
    "collapsed": true
   },
   "outputs": [],
   "source": [
    "preds[havent_seen_it_mask][['title', 'genres', 'prediction']][:2000].to_csv('movie_recommendations.csv', index=False)"
   ]
  }
 ],
 "metadata": {
  "kernelspec": {
   "display_name": "Python (py35)",
   "language": "python",
   "name": "py35"
  },
  "language_info": {
   "codemirror_mode": {
    "name": "ipython",
    "version": 3
   },
   "file_extension": ".py",
   "mimetype": "text/x-python",
   "name": "python",
   "nbconvert_exporter": "python",
   "pygments_lexer": "ipython3",
   "version": "3.5.2"
  }
 },
 "nbformat": 4,
 "nbformat_minor": 2
}
