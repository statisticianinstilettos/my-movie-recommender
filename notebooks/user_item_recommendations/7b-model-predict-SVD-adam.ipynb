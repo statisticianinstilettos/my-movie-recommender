{
 "cells": [
  {
   "cell_type": "code",
   "execution_count": 1,
   "metadata": {},
   "outputs": [
    {
     "data": {
      "text/html": [
       "<style>.container { width:80% !important; }</style>"
      ],
      "text/plain": [
       "<IPython.core.display.HTML object>"
      ]
     },
     "metadata": {},
     "output_type": "display_data"
    }
   ],
   "source": [
    "import numpy as np\n",
    "import pandas as pd\n",
    "import os\n",
    "from IPython.core.display import display, HTML, clear_output\n",
    "display(HTML(\"<style>.container { width:80% !important; }</style>\"))\n",
    "from scipy.sparse import csc_matrix\n",
    "from sparsesvd import sparsesvd"
   ]
  },
  {
   "cell_type": "markdown",
   "metadata": {},
   "source": [
    "# Import ratings data (including user data)"
   ]
  },
  {
   "cell_type": "code",
   "execution_count": 3,
   "metadata": {},
   "outputs": [],
   "source": [
    "cwd = os.getcwd()\n",
    "ratings = pd.read_csv(os.path.join(cwd, \"..\", \"data\", \"ratings_combined_adam.csv\"))"
   ]
  },
  {
   "cell_type": "code",
   "execution_count": 4,
   "metadata": {},
   "outputs": [
    {
     "data": {
      "text/html": [
       "<div>\n",
       "<table border=\"1\" class=\"dataframe\">\n",
       "  <thead>\n",
       "    <tr style=\"text-align: right;\">\n",
       "      <th></th>\n",
       "      <th>userId</th>\n",
       "      <th>movieId</th>\n",
       "      <th>rating</th>\n",
       "    </tr>\n",
       "  </thead>\n",
       "  <tbody>\n",
       "    <tr>\n",
       "      <th>0</th>\n",
       "      <td>1</td>\n",
       "      <td>2</td>\n",
       "      <td>3.5</td>\n",
       "    </tr>\n",
       "    <tr>\n",
       "      <th>1</th>\n",
       "      <td>1</td>\n",
       "      <td>29</td>\n",
       "      <td>3.5</td>\n",
       "    </tr>\n",
       "    <tr>\n",
       "      <th>2</th>\n",
       "      <td>1</td>\n",
       "      <td>32</td>\n",
       "      <td>3.5</td>\n",
       "    </tr>\n",
       "    <tr>\n",
       "      <th>3</th>\n",
       "      <td>1</td>\n",
       "      <td>47</td>\n",
       "      <td>3.5</td>\n",
       "    </tr>\n",
       "    <tr>\n",
       "      <th>4</th>\n",
       "      <td>1</td>\n",
       "      <td>50</td>\n",
       "      <td>3.5</td>\n",
       "    </tr>\n",
       "  </tbody>\n",
       "</table>\n",
       "</div>"
      ],
      "text/plain": [
       "   userId  movieId  rating\n",
       "0       1        2     3.5\n",
       "1       1       29     3.5\n",
       "2       1       32     3.5\n",
       "3       1       47     3.5\n",
       "4       1       50     3.5"
      ]
     },
     "execution_count": 4,
     "metadata": {},
     "output_type": "execute_result"
    }
   ],
   "source": [
    "ratings.head()"
   ]
  },
  {
   "cell_type": "markdown",
   "metadata": {},
   "source": [
    "# Create Compressed Sparse Column matrix"
   ]
  },
  {
   "cell_type": "code",
   "execution_count": 7,
   "metadata": {
    "collapsed": true
   },
   "outputs": [],
   "source": [
    "N1 = ratings['userId'].nunique()\n",
    "N2 = ratings['movieId'].nunique()"
   ]
  },
  {
   "cell_type": "code",
   "execution_count": 8,
   "metadata": {
    "collapsed": true
   },
   "outputs": [],
   "source": [
    "uids_raw = ratings['userId'].unique()\n",
    "iids_raw = ratings['movieId'].unique()"
   ]
  },
  {
   "cell_type": "code",
   "execution_count": 9,
   "metadata": {},
   "outputs": [],
   "source": [
    "uids_inner = np.arange(N1)\n",
    "iids_inner = np.arange(N2)"
   ]
  },
  {
   "cell_type": "code",
   "execution_count": 10,
   "metadata": {
    "collapsed": true
   },
   "outputs": [],
   "source": [
    "uid_maptoraw = dict(zip(uids_inner, uids_raw))\n",
    "uid_maptoinner = dict(zip(uids_raw, uids_inner))\n",
    "iid_maptoraw = dict(zip(iids_inner, iids_raw))\n",
    "iid_maptoinner = dict(zip(iids_raw, iids_inner))"
   ]
  },
  {
   "cell_type": "code",
   "execution_count": 11,
   "metadata": {
    "collapsed": true
   },
   "outputs": [],
   "source": [
    "ratings.rename(columns={'userId':'uid_raw', 'movieId':'iid_raw'}, inplace=True)"
   ]
  },
  {
   "cell_type": "code",
   "execution_count": 12,
   "metadata": {},
   "outputs": [
    {
     "data": {
      "text/html": [
       "<div>\n",
       "<table border=\"1\" class=\"dataframe\">\n",
       "  <thead>\n",
       "    <tr style=\"text-align: right;\">\n",
       "      <th></th>\n",
       "      <th>uid_raw</th>\n",
       "      <th>iid_raw</th>\n",
       "      <th>rating</th>\n",
       "    </tr>\n",
       "  </thead>\n",
       "  <tbody>\n",
       "    <tr>\n",
       "      <th>0</th>\n",
       "      <td>1</td>\n",
       "      <td>2</td>\n",
       "      <td>3.5</td>\n",
       "    </tr>\n",
       "    <tr>\n",
       "      <th>1</th>\n",
       "      <td>1</td>\n",
       "      <td>29</td>\n",
       "      <td>3.5</td>\n",
       "    </tr>\n",
       "    <tr>\n",
       "      <th>2</th>\n",
       "      <td>1</td>\n",
       "      <td>32</td>\n",
       "      <td>3.5</td>\n",
       "    </tr>\n",
       "    <tr>\n",
       "      <th>3</th>\n",
       "      <td>1</td>\n",
       "      <td>47</td>\n",
       "      <td>3.5</td>\n",
       "    </tr>\n",
       "    <tr>\n",
       "      <th>4</th>\n",
       "      <td>1</td>\n",
       "      <td>50</td>\n",
       "      <td>3.5</td>\n",
       "    </tr>\n",
       "  </tbody>\n",
       "</table>\n",
       "</div>"
      ],
      "text/plain": [
       "   uid_raw  iid_raw  rating\n",
       "0        1        2     3.5\n",
       "1        1       29     3.5\n",
       "2        1       32     3.5\n",
       "3        1       47     3.5\n",
       "4        1       50     3.5"
      ]
     },
     "execution_count": 12,
     "metadata": {},
     "output_type": "execute_result"
    }
   ],
   "source": [
    "ratings.head()"
   ]
  },
  {
   "cell_type": "code",
   "execution_count": 13,
   "metadata": {
    "collapsed": true
   },
   "outputs": [],
   "source": [
    "ratings['uid_inner'] = ratings.apply(lambda x: uid_maptoinner[x['uid_raw']], axis=1)"
   ]
  },
  {
   "cell_type": "code",
   "execution_count": 14,
   "metadata": {
    "collapsed": true
   },
   "outputs": [],
   "source": [
    "ratings['iid_inner'] = ratings.apply(lambda x: iid_maptoinner[x['iid_raw']], axis=1)"
   ]
  },
  {
   "cell_type": "code",
   "execution_count": 15,
   "metadata": {},
   "outputs": [],
   "source": [
    "compressed_matrix = csc_matrix((ratings['rating'], (ratings['uid_inner'], ratings['iid_inner'])), shape=(N1, N2))"
   ]
  },
  {
   "cell_type": "markdown",
   "metadata": {},
   "source": [
    "# Perform SVD Matrix Factorization"
   ]
  },
  {
   "cell_type": "code",
   "execution_count": 40,
   "metadata": {
    "collapsed": true
   },
   "outputs": [],
   "source": [
    "ut, s, vt = sparsesvd(compressed_matrix, 50)"
   ]
  },
  {
   "cell_type": "code",
   "execution_count": 41,
   "metadata": {},
   "outputs": [
    {
     "data": {
      "text/plain": [
       "((50L, 138494L), (50L,), (50L, 26744L))"
      ]
     },
     "execution_count": 41,
     "metadata": {},
     "output_type": "execute_result"
    }
   ],
   "source": [
    "ut.shape, s.shape, vt.shape"
   ]
  },
  {
   "cell_type": "markdown",
   "metadata": {},
   "source": [
    "# Make user predictions"
   ]
  },
  {
   "cell_type": "code",
   "execution_count": 102,
   "metadata": {},
   "outputs": [
    {
     "name": "stdout",
     "output_type": "stream",
     "text": [
      "user raw user id is: 138494\n",
      "user inner user id is: 138493\n"
     ]
    }
   ],
   "source": [
    "user_uid_raw = ratings['uid_raw'].max(); print('user raw user id is: {}'.format(user_uid_raw))\n",
    "user_uid_inner = uid_maptoinner[my_uid_raw]; print('user inner user id is: {}'.format(user_uid_inner))"
   ]
  },
  {
   "cell_type": "markdown",
   "metadata": {},
   "source": [
    "### Dot product"
   ]
  },
  {
   "cell_type": "code",
   "execution_count": 103,
   "metadata": {},
   "outputs": [
    {
     "data": {
      "text/plain": [
       "(26744L,)"
      ]
     },
     "execution_count": 103,
     "metadata": {},
     "output_type": "execute_result"
    }
   ],
   "source": [
    "s = np.diag(s)\n",
    "preds = ut[:, user_uid_inner].dot(s).dot(vt)\n",
    "preds.shape"
   ]
  },
  {
   "cell_type": "code",
   "execution_count": 104,
   "metadata": {},
   "outputs": [],
   "source": [
    "preds = pd.DataFrame(preds, columns = ['predicted_rating'])\n",
    "preds.reset_index(inplace=True)\n",
    "preds.rename(inplace=True, columns={'index':'iid_inner'})\n",
    "preds['iid_raw'] = preds.apply(lambda x: iid_maptoraw[x['iid_inner']], axis=1)"
   ]
  },
  {
   "cell_type": "code",
   "execution_count": 105,
   "metadata": {},
   "outputs": [
    {
     "data": {
      "text/plain": [
       "count    26744.000000\n",
       "mean         0.098547\n",
       "std          0.429143\n",
       "min         -2.021876\n",
       "25%         -0.000548\n",
       "50%          0.003115\n",
       "75%          0.022188\n",
       "max          7.512083\n",
       "Name: predicted_rating, dtype: float64"
      ]
     },
     "execution_count": 105,
     "metadata": {},
     "output_type": "execute_result"
    }
   ],
   "source": [
    "preds['predicted_rating'].describe()"
   ]
  },
  {
   "cell_type": "markdown",
   "metadata": {},
   "source": [
    "# Join movie titles and genres"
   ]
  },
  {
   "cell_type": "code",
   "execution_count": 106,
   "metadata": {
    "collapsed": true
   },
   "outputs": [],
   "source": [
    "cwd = os.getcwd()\n",
    "movies = pd.read_csv(os.path.join(cwd, \"..\", \"data\", \"movies.csv\"))"
   ]
  },
  {
   "cell_type": "code",
   "execution_count": 107,
   "metadata": {},
   "outputs": [],
   "source": [
    "preds = pd.merge(preds, movies[['movieId', 'title', 'genres']], left_on='iid_raw', right_on='movieId')\n",
    "preds = preds.sort_values('predicted_rating', ascending=False)"
   ]
  },
  {
   "cell_type": "code",
   "execution_count": 108,
   "metadata": {},
   "outputs": [
    {
     "data": {
      "text/html": [
       "<div>\n",
       "<table border=\"1\" class=\"dataframe\">\n",
       "  <thead>\n",
       "    <tr style=\"text-align: right;\">\n",
       "      <th></th>\n",
       "      <th>iid_inner</th>\n",
       "      <th>predicted_rating</th>\n",
       "      <th>iid_raw</th>\n",
       "      <th>movieId</th>\n",
       "      <th>title</th>\n",
       "      <th>genres</th>\n",
       "    </tr>\n",
       "  </thead>\n",
       "  <tbody>\n",
       "    <tr>\n",
       "      <th>2087</th>\n",
       "      <td>2087</td>\n",
       "      <td>7.512083</td>\n",
       "      <td>79132</td>\n",
       "      <td>79132</td>\n",
       "      <td>Inception (2010)</td>\n",
       "      <td>Action|Crime|Drama|Mystery|Sci-Fi|Thriller|IMAX</td>\n",
       "    </tr>\n",
       "    <tr>\n",
       "      <th>574</th>\n",
       "      <td>574</td>\n",
       "      <td>6.502743</td>\n",
       "      <td>3578</td>\n",
       "      <td>3578</td>\n",
       "      <td>Gladiator (2000)</td>\n",
       "      <td>Action|Adventure|Drama</td>\n",
       "    </tr>\n",
       "    <tr>\n",
       "      <th>1822</th>\n",
       "      <td>1822</td>\n",
       "      <td>6.340306</td>\n",
       "      <td>72998</td>\n",
       "      <td>72998</td>\n",
       "      <td>Avatar (2009)</td>\n",
       "      <td>Action|Adventure|Sci-Fi|IMAX</td>\n",
       "    </tr>\n",
       "    <tr>\n",
       "      <th>1854</th>\n",
       "      <td>1854</td>\n",
       "      <td>6.117074</td>\n",
       "      <td>89745</td>\n",
       "      <td>89745</td>\n",
       "      <td>Avengers, The (2012)</td>\n",
       "      <td>Action|Adventure|Sci-Fi|IMAX</td>\n",
       "    </tr>\n",
       "    <tr>\n",
       "      <th>1001</th>\n",
       "      <td>1001</td>\n",
       "      <td>5.992440</td>\n",
       "      <td>59315</td>\n",
       "      <td>59315</td>\n",
       "      <td>Iron Man (2008)</td>\n",
       "      <td>Action|Adventure|Sci-Fi</td>\n",
       "    </tr>\n",
       "    <tr>\n",
       "      <th>1856</th>\n",
       "      <td>1856</td>\n",
       "      <td>5.990524</td>\n",
       "      <td>91529</td>\n",
       "      <td>91529</td>\n",
       "      <td>Dark Knight Rises, The (2012)</td>\n",
       "      <td>Action|Adventure|Crime|IMAX</td>\n",
       "    </tr>\n",
       "    <tr>\n",
       "      <th>331</th>\n",
       "      <td>331</td>\n",
       "      <td>5.923412</td>\n",
       "      <td>2571</td>\n",
       "      <td>2571</td>\n",
       "      <td>Matrix, The (1999)</td>\n",
       "      <td>Action|Sci-Fi|Thriller</td>\n",
       "    </tr>\n",
       "    <tr>\n",
       "      <th>998</th>\n",
       "      <td>998</td>\n",
       "      <td>5.592862</td>\n",
       "      <td>58559</td>\n",
       "      <td>58559</td>\n",
       "      <td>Dark Knight, The (2008)</td>\n",
       "      <td>Action|Crime|Drama|IMAX</td>\n",
       "    </tr>\n",
       "    <tr>\n",
       "      <th>1638</th>\n",
       "      <td>1638</td>\n",
       "      <td>5.531325</td>\n",
       "      <td>5418</td>\n",
       "      <td>5418</td>\n",
       "      <td>Bourne Identity, The (2002)</td>\n",
       "      <td>Action|Mystery|Thriller</td>\n",
       "    </tr>\n",
       "    <tr>\n",
       "      <th>1823</th>\n",
       "      <td>1823</td>\n",
       "      <td>5.369418</td>\n",
       "      <td>73017</td>\n",
       "      <td>73017</td>\n",
       "      <td>Sherlock Holmes (2009)</td>\n",
       "      <td>Action|Crime|Mystery|Thriller</td>\n",
       "    </tr>\n",
       "    <tr>\n",
       "      <th>11</th>\n",
       "      <td>11</td>\n",
       "      <td>5.357459</td>\n",
       "      <td>296</td>\n",
       "      <td>296</td>\n",
       "      <td>Pulp Fiction (1994)</td>\n",
       "      <td>Comedy|Crime|Drama|Thriller</td>\n",
       "    </tr>\n",
       "    <tr>\n",
       "      <th>1307</th>\n",
       "      <td>1307</td>\n",
       "      <td>5.294436</td>\n",
       "      <td>69122</td>\n",
       "      <td>69122</td>\n",
       "      <td>Hangover, The (2009)</td>\n",
       "      <td>Comedy|Crime</td>\n",
       "    </tr>\n",
       "    <tr>\n",
       "      <th>582</th>\n",
       "      <td>582</td>\n",
       "      <td>5.257360</td>\n",
       "      <td>3793</td>\n",
       "      <td>3793</td>\n",
       "      <td>X-Men (2000)</td>\n",
       "      <td>Action|Adventure|Sci-Fi</td>\n",
       "    </tr>\n",
       "    <tr>\n",
       "      <th>1912</th>\n",
       "      <td>1912</td>\n",
       "      <td>5.206287</td>\n",
       "      <td>8665</td>\n",
       "      <td>8665</td>\n",
       "      <td>Bourne Supremacy, The (2004)</td>\n",
       "      <td>Action|Crime|Thriller</td>\n",
       "    </tr>\n",
       "    <tr>\n",
       "      <th>626</th>\n",
       "      <td>626</td>\n",
       "      <td>5.197963</td>\n",
       "      <td>4963</td>\n",
       "      <td>4963</td>\n",
       "      <td>Ocean's Eleven (2001)</td>\n",
       "      <td>Crime|Thriller</td>\n",
       "    </tr>\n",
       "    <tr>\n",
       "      <th>1829</th>\n",
       "      <td>1829</td>\n",
       "      <td>5.138929</td>\n",
       "      <td>77561</td>\n",
       "      <td>77561</td>\n",
       "      <td>Iron Man 2 (2010)</td>\n",
       "      <td>Action|Adventure|Sci-Fi|Thriller|IMAX</td>\n",
       "    </tr>\n",
       "    <tr>\n",
       "      <th>1849</th>\n",
       "      <td>1849</td>\n",
       "      <td>5.123998</td>\n",
       "      <td>87232</td>\n",
       "      <td>87232</td>\n",
       "      <td>X-Men: First Class (2011)</td>\n",
       "      <td>Action|Adventure|Sci-Fi|Thriller|War</td>\n",
       "    </tr>\n",
       "    <tr>\n",
       "      <th>1949</th>\n",
       "      <td>1949</td>\n",
       "      <td>5.029115</td>\n",
       "      <td>54286</td>\n",
       "      <td>54286</td>\n",
       "      <td>Bourne Ultimatum, The (2007)</td>\n",
       "      <td>Action|Crime|Thriller</td>\n",
       "    </tr>\n",
       "    <tr>\n",
       "      <th>803</th>\n",
       "      <td>803</td>\n",
       "      <td>5.017215</td>\n",
       "      <td>5349</td>\n",
       "      <td>5349</td>\n",
       "      <td>Spider-Man (2002)</td>\n",
       "      <td>Action|Adventure|Sci-Fi|Thriller</td>\n",
       "    </tr>\n",
       "    <tr>\n",
       "      <th>1803</th>\n",
       "      <td>1803</td>\n",
       "      <td>5.017026</td>\n",
       "      <td>59369</td>\n",
       "      <td>59369</td>\n",
       "      <td>Taken (2008)</td>\n",
       "      <td>Action|Crime|Drama|Thriller</td>\n",
       "    </tr>\n",
       "  </tbody>\n",
       "</table>\n",
       "</div>"
      ],
      "text/plain": [
       "      iid_inner  predicted_rating  iid_raw  movieId  \\\n",
       "2087       2087          7.512083    79132    79132   \n",
       "574         574          6.502743     3578     3578   \n",
       "1822       1822          6.340306    72998    72998   \n",
       "1854       1854          6.117074    89745    89745   \n",
       "1001       1001          5.992440    59315    59315   \n",
       "1856       1856          5.990524    91529    91529   \n",
       "331         331          5.923412     2571     2571   \n",
       "998         998          5.592862    58559    58559   \n",
       "1638       1638          5.531325     5418     5418   \n",
       "1823       1823          5.369418    73017    73017   \n",
       "11           11          5.357459      296      296   \n",
       "1307       1307          5.294436    69122    69122   \n",
       "582         582          5.257360     3793     3793   \n",
       "1912       1912          5.206287     8665     8665   \n",
       "626         626          5.197963     4963     4963   \n",
       "1829       1829          5.138929    77561    77561   \n",
       "1849       1849          5.123998    87232    87232   \n",
       "1949       1949          5.029115    54286    54286   \n",
       "803         803          5.017215     5349     5349   \n",
       "1803       1803          5.017026    59369    59369   \n",
       "\n",
       "                              title  \\\n",
       "2087               Inception (2010)   \n",
       "574                Gladiator (2000)   \n",
       "1822                  Avatar (2009)   \n",
       "1854           Avengers, The (2012)   \n",
       "1001                Iron Man (2008)   \n",
       "1856  Dark Knight Rises, The (2012)   \n",
       "331              Matrix, The (1999)   \n",
       "998         Dark Knight, The (2008)   \n",
       "1638    Bourne Identity, The (2002)   \n",
       "1823         Sherlock Holmes (2009)   \n",
       "11              Pulp Fiction (1994)   \n",
       "1307           Hangover, The (2009)   \n",
       "582                    X-Men (2000)   \n",
       "1912   Bourne Supremacy, The (2004)   \n",
       "626           Ocean's Eleven (2001)   \n",
       "1829              Iron Man 2 (2010)   \n",
       "1849      X-Men: First Class (2011)   \n",
       "1949   Bourne Ultimatum, The (2007)   \n",
       "803               Spider-Man (2002)   \n",
       "1803                   Taken (2008)   \n",
       "\n",
       "                                               genres  \n",
       "2087  Action|Crime|Drama|Mystery|Sci-Fi|Thriller|IMAX  \n",
       "574                            Action|Adventure|Drama  \n",
       "1822                     Action|Adventure|Sci-Fi|IMAX  \n",
       "1854                     Action|Adventure|Sci-Fi|IMAX  \n",
       "1001                          Action|Adventure|Sci-Fi  \n",
       "1856                      Action|Adventure|Crime|IMAX  \n",
       "331                            Action|Sci-Fi|Thriller  \n",
       "998                           Action|Crime|Drama|IMAX  \n",
       "1638                          Action|Mystery|Thriller  \n",
       "1823                    Action|Crime|Mystery|Thriller  \n",
       "11                        Comedy|Crime|Drama|Thriller  \n",
       "1307                                     Comedy|Crime  \n",
       "582                           Action|Adventure|Sci-Fi  \n",
       "1912                            Action|Crime|Thriller  \n",
       "626                                    Crime|Thriller  \n",
       "1829            Action|Adventure|Sci-Fi|Thriller|IMAX  \n",
       "1849             Action|Adventure|Sci-Fi|Thriller|War  \n",
       "1949                            Action|Crime|Thriller  \n",
       "803                  Action|Adventure|Sci-Fi|Thriller  \n",
       "1803                      Action|Crime|Drama|Thriller  "
      ]
     },
     "execution_count": 108,
     "metadata": {},
     "output_type": "execute_result"
    }
   ],
   "source": [
    "preds.head(20)"
   ]
  },
  {
   "cell_type": "markdown",
   "metadata": {},
   "source": [
    "# Filter out movies that the user already rated"
   ]
  },
  {
   "cell_type": "code",
   "execution_count": 109,
   "metadata": {
    "collapsed": true
   },
   "outputs": [],
   "source": [
    "user_profile = pd.read_csv('adam_profile.csv', index_col=0)"
   ]
  },
  {
   "cell_type": "code",
   "execution_count": 110,
   "metadata": {},
   "outputs": [],
   "source": [
    "preds = pd.merge(preds, user_profile, on='movieId', how='left')"
   ]
  },
  {
   "cell_type": "code",
   "execution_count": 111,
   "metadata": {
    "collapsed": true
   },
   "outputs": [],
   "source": [
    "havent_seen_it_mask = preds['rating'].isnull()"
   ]
  },
  {
   "cell_type": "code",
   "execution_count": 114,
   "metadata": {},
   "outputs": [],
   "source": [
    "preds[havent_seen_it_mask][['title', 'genres', 'predicted_rating']][:2000].to_csv('movie_recommendations_adam_SVD.csv', \n",
    "                                                                               index=False)"
   ]
  }
 ],
 "metadata": {
  "kernelspec": {
   "display_name": "Python 2",
   "language": "python",
   "name": "python2"
  },
  "language_info": {
   "codemirror_mode": {
    "name": "ipython",
    "version": 2
   },
   "file_extension": ".py",
   "mimetype": "text/x-python",
   "name": "python",
   "nbconvert_exporter": "python",
   "pygments_lexer": "ipython2",
   "version": "2.7.15"
  }
 },
 "nbformat": 4,
 "nbformat_minor": 2
}
