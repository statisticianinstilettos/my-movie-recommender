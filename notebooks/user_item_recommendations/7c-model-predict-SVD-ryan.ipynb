{
 "cells": [
  {
   "cell_type": "code",
   "execution_count": 1,
   "metadata": {
    "collapsed": false
   },
   "outputs": [
    {
     "data": {
      "text/html": [
       "<style>.container { width:80% !important; }</style>"
      ],
      "text/plain": [
       "<IPython.core.display.HTML object>"
      ]
     },
     "metadata": {},
     "output_type": "display_data"
    }
   ],
   "source": [
    "import numpy as np\n",
    "import pandas as pd\n",
    "import os\n",
    "from IPython.core.display import display, HTML, clear_output\n",
    "display(HTML(\"<style>.container { width:80% !important; }</style>\"))\n",
    "from scipy.sparse import csc_matrix\n",
    "from sparsesvd import sparsesvd"
   ]
  },
  {
   "cell_type": "markdown",
   "metadata": {},
   "source": [
    "# Import ratings data (including user data)"
   ]
  },
  {
   "cell_type": "code",
   "execution_count": 2,
   "metadata": {
    "collapsed": false
   },
   "outputs": [],
   "source": [
    "cwd = os.getcwd()\n",
    "ratings = pd.read_csv(os.path.join(cwd, \"..\", \"data\", \"ratings_combined_ryan.csv\"))"
   ]
  },
  {
   "cell_type": "code",
   "execution_count": 3,
   "metadata": {
    "collapsed": false
   },
   "outputs": [
    {
     "data": {
      "text/html": [
       "<div>\n",
       "<table border=\"1\" class=\"dataframe\">\n",
       "  <thead>\n",
       "    <tr style=\"text-align: right;\">\n",
       "      <th></th>\n",
       "      <th>userId</th>\n",
       "      <th>movieId</th>\n",
       "      <th>rating</th>\n",
       "    </tr>\n",
       "  </thead>\n",
       "  <tbody>\n",
       "    <tr>\n",
       "      <th>0</th>\n",
       "      <td>1</td>\n",
       "      <td>2</td>\n",
       "      <td>3.5</td>\n",
       "    </tr>\n",
       "    <tr>\n",
       "      <th>1</th>\n",
       "      <td>1</td>\n",
       "      <td>29</td>\n",
       "      <td>3.5</td>\n",
       "    </tr>\n",
       "    <tr>\n",
       "      <th>2</th>\n",
       "      <td>1</td>\n",
       "      <td>32</td>\n",
       "      <td>3.5</td>\n",
       "    </tr>\n",
       "    <tr>\n",
       "      <th>3</th>\n",
       "      <td>1</td>\n",
       "      <td>47</td>\n",
       "      <td>3.5</td>\n",
       "    </tr>\n",
       "    <tr>\n",
       "      <th>4</th>\n",
       "      <td>1</td>\n",
       "      <td>50</td>\n",
       "      <td>3.5</td>\n",
       "    </tr>\n",
       "  </tbody>\n",
       "</table>\n",
       "</div>"
      ],
      "text/plain": [
       "   userId  movieId  rating\n",
       "0       1        2     3.5\n",
       "1       1       29     3.5\n",
       "2       1       32     3.5\n",
       "3       1       47     3.5\n",
       "4       1       50     3.5"
      ]
     },
     "execution_count": 3,
     "metadata": {},
     "output_type": "execute_result"
    }
   ],
   "source": [
    "ratings.head()"
   ]
  },
  {
   "cell_type": "markdown",
   "metadata": {},
   "source": [
    "# Create Compressed Sparse Column matrix"
   ]
  },
  {
   "cell_type": "code",
   "execution_count": 4,
   "metadata": {
    "collapsed": true
   },
   "outputs": [],
   "source": [
    "N1 = ratings['userId'].nunique()\n",
    "N2 = ratings['movieId'].nunique()"
   ]
  },
  {
   "cell_type": "code",
   "execution_count": 5,
   "metadata": {
    "collapsed": true
   },
   "outputs": [],
   "source": [
    "uids_raw = ratings['userId'].unique()\n",
    "iids_raw = ratings['movieId'].unique()"
   ]
  },
  {
   "cell_type": "code",
   "execution_count": 6,
   "metadata": {
    "collapsed": false
   },
   "outputs": [],
   "source": [
    "uids_inner = np.arange(N1)\n",
    "iids_inner = np.arange(N2)"
   ]
  },
  {
   "cell_type": "code",
   "execution_count": 7,
   "metadata": {
    "collapsed": true
   },
   "outputs": [],
   "source": [
    "uid_maptoraw = dict(zip(uids_inner, uids_raw))\n",
    "uid_maptoinner = dict(zip(uids_raw, uids_inner))\n",
    "iid_maptoraw = dict(zip(iids_inner, iids_raw))\n",
    "iid_maptoinner = dict(zip(iids_raw, iids_inner))"
   ]
  },
  {
   "cell_type": "code",
   "execution_count": 8,
   "metadata": {
    "collapsed": true
   },
   "outputs": [],
   "source": [
    "ratings.rename(columns={'userId':'uid_raw', 'movieId':'iid_raw'}, inplace=True)"
   ]
  },
  {
   "cell_type": "code",
   "execution_count": 9,
   "metadata": {
    "collapsed": false
   },
   "outputs": [
    {
     "data": {
      "text/html": [
       "<div>\n",
       "<table border=\"1\" class=\"dataframe\">\n",
       "  <thead>\n",
       "    <tr style=\"text-align: right;\">\n",
       "      <th></th>\n",
       "      <th>uid_raw</th>\n",
       "      <th>iid_raw</th>\n",
       "      <th>rating</th>\n",
       "    </tr>\n",
       "  </thead>\n",
       "  <tbody>\n",
       "    <tr>\n",
       "      <th>0</th>\n",
       "      <td>1</td>\n",
       "      <td>2</td>\n",
       "      <td>3.5</td>\n",
       "    </tr>\n",
       "    <tr>\n",
       "      <th>1</th>\n",
       "      <td>1</td>\n",
       "      <td>29</td>\n",
       "      <td>3.5</td>\n",
       "    </tr>\n",
       "    <tr>\n",
       "      <th>2</th>\n",
       "      <td>1</td>\n",
       "      <td>32</td>\n",
       "      <td>3.5</td>\n",
       "    </tr>\n",
       "    <tr>\n",
       "      <th>3</th>\n",
       "      <td>1</td>\n",
       "      <td>47</td>\n",
       "      <td>3.5</td>\n",
       "    </tr>\n",
       "    <tr>\n",
       "      <th>4</th>\n",
       "      <td>1</td>\n",
       "      <td>50</td>\n",
       "      <td>3.5</td>\n",
       "    </tr>\n",
       "  </tbody>\n",
       "</table>\n",
       "</div>"
      ],
      "text/plain": [
       "   uid_raw  iid_raw  rating\n",
       "0        1        2     3.5\n",
       "1        1       29     3.5\n",
       "2        1       32     3.5\n",
       "3        1       47     3.5\n",
       "4        1       50     3.5"
      ]
     },
     "execution_count": 9,
     "metadata": {},
     "output_type": "execute_result"
    }
   ],
   "source": [
    "ratings.head()"
   ]
  },
  {
   "cell_type": "code",
   "execution_count": 10,
   "metadata": {
    "collapsed": true
   },
   "outputs": [],
   "source": [
    "ratings['uid_inner'] = ratings.apply(lambda x: uid_maptoinner[x['uid_raw']], axis=1)"
   ]
  },
  {
   "cell_type": "code",
   "execution_count": 11,
   "metadata": {
    "collapsed": true
   },
   "outputs": [],
   "source": [
    "ratings['iid_inner'] = ratings.apply(lambda x: iid_maptoinner[x['iid_raw']], axis=1)"
   ]
  },
  {
   "cell_type": "code",
   "execution_count": 12,
   "metadata": {
    "collapsed": false
   },
   "outputs": [],
   "source": [
    "compressed_matrix = csc_matrix((ratings['rating'], (ratings['uid_inner'], ratings['iid_inner'])), shape=(N1, N2))"
   ]
  },
  {
   "cell_type": "markdown",
   "metadata": {},
   "source": [
    "# Perform SVD Matrix Factorization"
   ]
  },
  {
   "cell_type": "code",
   "execution_count": 13,
   "metadata": {
    "collapsed": true
   },
   "outputs": [],
   "source": [
    "ut, s, vt = sparsesvd(compressed_matrix, 50)"
   ]
  },
  {
   "cell_type": "code",
   "execution_count": 14,
   "metadata": {
    "collapsed": false
   },
   "outputs": [
    {
     "data": {
      "text/plain": [
       "((50L, 138494L), (50L,), (50L, 26744L))"
      ]
     },
     "execution_count": 14,
     "metadata": {},
     "output_type": "execute_result"
    }
   ],
   "source": [
    "ut.shape, s.shape, vt.shape"
   ]
  },
  {
   "cell_type": "markdown",
   "metadata": {},
   "source": [
    "# Make user predictions"
   ]
  },
  {
   "cell_type": "code",
   "execution_count": 15,
   "metadata": {
    "collapsed": false
   },
   "outputs": [
    {
     "name": "stdout",
     "output_type": "stream",
     "text": [
      "user raw user id is: 138494\n",
      "user inner user id is: 138493\n"
     ]
    }
   ],
   "source": [
    "user_uid_raw = ratings['uid_raw'].max(); print('user raw user id is: {}'.format(user_uid_raw))\n",
    "user_uid_inner = uid_maptoinner[user_uid_raw]; print('user inner user id is: {}'.format(user_uid_inner))"
   ]
  },
  {
   "cell_type": "markdown",
   "metadata": {},
   "source": [
    "### Dot product"
   ]
  },
  {
   "cell_type": "code",
   "execution_count": 16,
   "metadata": {
    "collapsed": false
   },
   "outputs": [
    {
     "data": {
      "text/plain": [
       "(26744L,)"
      ]
     },
     "execution_count": 16,
     "metadata": {},
     "output_type": "execute_result"
    }
   ],
   "source": [
    "s = np.diag(s)\n",
    "preds = ut[:, user_uid_inner].dot(s).dot(vt)\n",
    "preds.shape"
   ]
  },
  {
   "cell_type": "code",
   "execution_count": 17,
   "metadata": {
    "collapsed": false
   },
   "outputs": [],
   "source": [
    "preds = pd.DataFrame(preds, columns = ['predicted_rating'])\n",
    "preds.reset_index(inplace=True)\n",
    "preds.rename(inplace=True, columns={'index':'iid_inner'})\n",
    "preds['iid_raw'] = preds.apply(lambda x: iid_maptoraw[x['iid_inner']], axis=1)"
   ]
  },
  {
   "cell_type": "code",
   "execution_count": 18,
   "metadata": {
    "collapsed": false
   },
   "outputs": [
    {
     "data": {
      "text/plain": [
       "count    26744.000000\n",
       "mean         0.057402\n",
       "std          0.258901\n",
       "min         -1.159863\n",
       "25%         -0.000216\n",
       "50%          0.002561\n",
       "75%          0.016158\n",
       "max          6.194195\n",
       "Name: predicted_rating, dtype: float64"
      ]
     },
     "execution_count": 18,
     "metadata": {},
     "output_type": "execute_result"
    }
   ],
   "source": [
    "preds['predicted_rating'].describe()"
   ]
  },
  {
   "cell_type": "markdown",
   "metadata": {},
   "source": [
    "# Join movie titles and genres"
   ]
  },
  {
   "cell_type": "code",
   "execution_count": 19,
   "metadata": {
    "collapsed": true
   },
   "outputs": [],
   "source": [
    "cwd = os.getcwd()\n",
    "movies = pd.read_csv(os.path.join(cwd, \"..\", \"data\", \"movies.csv\"))"
   ]
  },
  {
   "cell_type": "code",
   "execution_count": 20,
   "metadata": {
    "collapsed": false
   },
   "outputs": [],
   "source": [
    "preds = pd.merge(preds, movies[['movieId', 'title', 'genres']], left_on='iid_raw', right_on='movieId')\n",
    "preds = preds.sort_values('predicted_rating', ascending=False)"
   ]
  },
  {
   "cell_type": "code",
   "execution_count": 21,
   "metadata": {
    "collapsed": false
   },
   "outputs": [
    {
     "data": {
      "text/html": [
       "<div>\n",
       "<table border=\"1\" class=\"dataframe\">\n",
       "  <thead>\n",
       "    <tr style=\"text-align: right;\">\n",
       "      <th></th>\n",
       "      <th>iid_inner</th>\n",
       "      <th>predicted_rating</th>\n",
       "      <th>iid_raw</th>\n",
       "      <th>movieId</th>\n",
       "      <th>title</th>\n",
       "      <th>genres</th>\n",
       "    </tr>\n",
       "  </thead>\n",
       "  <tbody>\n",
       "    <tr>\n",
       "      <th>2087</th>\n",
       "      <td>2087</td>\n",
       "      <td>6.194195</td>\n",
       "      <td>79132</td>\n",
       "      <td>79132</td>\n",
       "      <td>Inception (2010)</td>\n",
       "      <td>Action|Crime|Drama|Mystery|Sci-Fi|Thriller|IMAX</td>\n",
       "    </tr>\n",
       "    <tr>\n",
       "      <th>96</th>\n",
       "      <td>96</td>\n",
       "      <td>4.931815</td>\n",
       "      <td>2959</td>\n",
       "      <td>2959</td>\n",
       "      <td>Fight Club (1999)</td>\n",
       "      <td>Action|Crime|Drama|Thriller</td>\n",
       "    </tr>\n",
       "    <tr>\n",
       "      <th>11</th>\n",
       "      <td>11</td>\n",
       "      <td>4.738602</td>\n",
       "      <td>296</td>\n",
       "      <td>296</td>\n",
       "      <td>Pulp Fiction (1994)</td>\n",
       "      <td>Comedy|Crime|Drama|Thriller</td>\n",
       "    </tr>\n",
       "    <tr>\n",
       "      <th>1856</th>\n",
       "      <td>1856</td>\n",
       "      <td>4.426310</td>\n",
       "      <td>91529</td>\n",
       "      <td>91529</td>\n",
       "      <td>Dark Knight Rises, The (2012)</td>\n",
       "      <td>Action|Adventure|Crime|IMAX</td>\n",
       "    </tr>\n",
       "    <tr>\n",
       "      <th>1854</th>\n",
       "      <td>1854</td>\n",
       "      <td>4.399259</td>\n",
       "      <td>89745</td>\n",
       "      <td>89745</td>\n",
       "      <td>Avengers, The (2012)</td>\n",
       "      <td>Action|Adventure|Sci-Fi|IMAX</td>\n",
       "    </tr>\n",
       "    <tr>\n",
       "      <th>4</th>\n",
       "      <td>4</td>\n",
       "      <td>4.152606</td>\n",
       "      <td>50</td>\n",
       "      <td>50</td>\n",
       "      <td>Usual Suspects, The (1995)</td>\n",
       "      <td>Crime|Mystery|Thriller</td>\n",
       "    </tr>\n",
       "    <tr>\n",
       "      <th>158</th>\n",
       "      <td>158</td>\n",
       "      <td>4.079372</td>\n",
       "      <td>7153</td>\n",
       "      <td>7153</td>\n",
       "      <td>Lord of the Rings: The Return of the King, The...</td>\n",
       "      <td>Action|Adventure|Drama|Fantasy</td>\n",
       "    </tr>\n",
       "    <tr>\n",
       "      <th>3081</th>\n",
       "      <td>3081</td>\n",
       "      <td>4.063217</td>\n",
       "      <td>99114</td>\n",
       "      <td>99114</td>\n",
       "      <td>Django Unchained (2012)</td>\n",
       "      <td>Action|Drama|Western</td>\n",
       "    </tr>\n",
       "    <tr>\n",
       "      <th>227</th>\n",
       "      <td>227</td>\n",
       "      <td>4.044806</td>\n",
       "      <td>1</td>\n",
       "      <td>1</td>\n",
       "      <td>Toy Story (1995)</td>\n",
       "      <td>Adventure|Animation|Children|Comedy|Fantasy</td>\n",
       "    </tr>\n",
       "    <tr>\n",
       "      <th>142</th>\n",
       "      <td>142</td>\n",
       "      <td>4.002157</td>\n",
       "      <td>5952</td>\n",
       "      <td>5952</td>\n",
       "      <td>Lord of the Rings: The Two Towers, The (2002)</td>\n",
       "      <td>Adventure|Fantasy</td>\n",
       "    </tr>\n",
       "    <tr>\n",
       "      <th>131</th>\n",
       "      <td>131</td>\n",
       "      <td>3.993086</td>\n",
       "      <td>4993</td>\n",
       "      <td>4993</td>\n",
       "      <td>Lord of the Rings: The Fellowship of the Ring,...</td>\n",
       "      <td>Adventure|Fantasy</td>\n",
       "    </tr>\n",
       "    <tr>\n",
       "      <th>331</th>\n",
       "      <td>331</td>\n",
       "      <td>3.902148</td>\n",
       "      <td>2571</td>\n",
       "      <td>2571</td>\n",
       "      <td>Matrix, The (1999)</td>\n",
       "      <td>Action|Sci-Fi|Thriller</td>\n",
       "    </tr>\n",
       "    <tr>\n",
       "      <th>1822</th>\n",
       "      <td>1822</td>\n",
       "      <td>3.883172</td>\n",
       "      <td>72998</td>\n",
       "      <td>72998</td>\n",
       "      <td>Avatar (2009)</td>\n",
       "      <td>Action|Adventure|Sci-Fi|IMAX</td>\n",
       "    </tr>\n",
       "    <tr>\n",
       "      <th>1814</th>\n",
       "      <td>1814</td>\n",
       "      <td>3.782384</td>\n",
       "      <td>68954</td>\n",
       "      <td>68954</td>\n",
       "      <td>Up (2009)</td>\n",
       "      <td>Adventure|Animation|Children|Drama</td>\n",
       "    </tr>\n",
       "    <tr>\n",
       "      <th>12</th>\n",
       "      <td>12</td>\n",
       "      <td>3.782120</td>\n",
       "      <td>318</td>\n",
       "      <td>318</td>\n",
       "      <td>Shawshank Redemption, The (1994)</td>\n",
       "      <td>Crime|Drama</td>\n",
       "    </tr>\n",
       "    <tr>\n",
       "      <th>2792</th>\n",
       "      <td>2792</td>\n",
       "      <td>3.678707</td>\n",
       "      <td>78499</td>\n",
       "      <td>78499</td>\n",
       "      <td>Toy Story 3 (2010)</td>\n",
       "      <td>Adventure|Animation|Children|Comedy|Fantasy|IMAX</td>\n",
       "    </tr>\n",
       "    <tr>\n",
       "      <th>1855</th>\n",
       "      <td>1855</td>\n",
       "      <td>3.644091</td>\n",
       "      <td>91500</td>\n",
       "      <td>91500</td>\n",
       "      <td>Hunger Games, The (2012)</td>\n",
       "      <td>Action|Adventure|Drama|Sci-Fi|Thriller</td>\n",
       "    </tr>\n",
       "    <tr>\n",
       "      <th>998</th>\n",
       "      <td>998</td>\n",
       "      <td>3.574650</td>\n",
       "      <td>58559</td>\n",
       "      <td>58559</td>\n",
       "      <td>Dark Knight, The (2008)</td>\n",
       "      <td>Action|Crime|Drama|IMAX</td>\n",
       "    </tr>\n",
       "    <tr>\n",
       "      <th>2797</th>\n",
       "      <td>2797</td>\n",
       "      <td>3.543211</td>\n",
       "      <td>80463</td>\n",
       "      <td>80463</td>\n",
       "      <td>Social Network, The (2010)</td>\n",
       "      <td>Drama</td>\n",
       "    </tr>\n",
       "    <tr>\n",
       "      <th>3041</th>\n",
       "      <td>3041</td>\n",
       "      <td>3.536357</td>\n",
       "      <td>74458</td>\n",
       "      <td>74458</td>\n",
       "      <td>Shutter Island (2010)</td>\n",
       "      <td>Drama|Mystery|Thriller</td>\n",
       "    </tr>\n",
       "  </tbody>\n",
       "</table>\n",
       "</div>"
      ],
      "text/plain": [
       "      iid_inner  predicted_rating  iid_raw  movieId  \\\n",
       "2087       2087          6.194195    79132    79132   \n",
       "96           96          4.931815     2959     2959   \n",
       "11           11          4.738602      296      296   \n",
       "1856       1856          4.426310    91529    91529   \n",
       "1854       1854          4.399259    89745    89745   \n",
       "4             4          4.152606       50       50   \n",
       "158         158          4.079372     7153     7153   \n",
       "3081       3081          4.063217    99114    99114   \n",
       "227         227          4.044806        1        1   \n",
       "142         142          4.002157     5952     5952   \n",
       "131         131          3.993086     4993     4993   \n",
       "331         331          3.902148     2571     2571   \n",
       "1822       1822          3.883172    72998    72998   \n",
       "1814       1814          3.782384    68954    68954   \n",
       "12           12          3.782120      318      318   \n",
       "2792       2792          3.678707    78499    78499   \n",
       "1855       1855          3.644091    91500    91500   \n",
       "998         998          3.574650    58559    58559   \n",
       "2797       2797          3.543211    80463    80463   \n",
       "3041       3041          3.536357    74458    74458   \n",
       "\n",
       "                                                  title  \\\n",
       "2087                                   Inception (2010)   \n",
       "96                                    Fight Club (1999)   \n",
       "11                                  Pulp Fiction (1994)   \n",
       "1856                      Dark Knight Rises, The (2012)   \n",
       "1854                               Avengers, The (2012)   \n",
       "4                            Usual Suspects, The (1995)   \n",
       "158   Lord of the Rings: The Return of the King, The...   \n",
       "3081                            Django Unchained (2012)   \n",
       "227                                    Toy Story (1995)   \n",
       "142       Lord of the Rings: The Two Towers, The (2002)   \n",
       "131   Lord of the Rings: The Fellowship of the Ring,...   \n",
       "331                                  Matrix, The (1999)   \n",
       "1822                                      Avatar (2009)   \n",
       "1814                                          Up (2009)   \n",
       "12                     Shawshank Redemption, The (1994)   \n",
       "2792                                 Toy Story 3 (2010)   \n",
       "1855                           Hunger Games, The (2012)   \n",
       "998                             Dark Knight, The (2008)   \n",
       "2797                         Social Network, The (2010)   \n",
       "3041                              Shutter Island (2010)   \n",
       "\n",
       "                                                genres  \n",
       "2087   Action|Crime|Drama|Mystery|Sci-Fi|Thriller|IMAX  \n",
       "96                         Action|Crime|Drama|Thriller  \n",
       "11                         Comedy|Crime|Drama|Thriller  \n",
       "1856                       Action|Adventure|Crime|IMAX  \n",
       "1854                      Action|Adventure|Sci-Fi|IMAX  \n",
       "4                               Crime|Mystery|Thriller  \n",
       "158                     Action|Adventure|Drama|Fantasy  \n",
       "3081                              Action|Drama|Western  \n",
       "227        Adventure|Animation|Children|Comedy|Fantasy  \n",
       "142                                  Adventure|Fantasy  \n",
       "131                                  Adventure|Fantasy  \n",
       "331                             Action|Sci-Fi|Thriller  \n",
       "1822                      Action|Adventure|Sci-Fi|IMAX  \n",
       "1814                Adventure|Animation|Children|Drama  \n",
       "12                                         Crime|Drama  \n",
       "2792  Adventure|Animation|Children|Comedy|Fantasy|IMAX  \n",
       "1855            Action|Adventure|Drama|Sci-Fi|Thriller  \n",
       "998                            Action|Crime|Drama|IMAX  \n",
       "2797                                             Drama  \n",
       "3041                            Drama|Mystery|Thriller  "
      ]
     },
     "execution_count": 21,
     "metadata": {},
     "output_type": "execute_result"
    }
   ],
   "source": [
    "preds.head(20)"
   ]
  },
  {
   "cell_type": "markdown",
   "metadata": {},
   "source": [
    "# Filter out movies that the user already rated"
   ]
  },
  {
   "cell_type": "code",
   "execution_count": 24,
   "metadata": {
    "collapsed": true
   },
   "outputs": [],
   "source": [
    "user_profile = pd.read_csv('ryan_profile.csv', index_col=0)"
   ]
  },
  {
   "cell_type": "code",
   "execution_count": 26,
   "metadata": {
    "collapsed": false
   },
   "outputs": [
    {
     "data": {
      "text/html": [
       "<div>\n",
       "<table border=\"1\" class=\"dataframe\">\n",
       "  <thead>\n",
       "    <tr style=\"text-align: right;\">\n",
       "      <th></th>\n",
       "      <th>movieId</th>\n",
       "      <th>rating</th>\n",
       "    </tr>\n",
       "  </thead>\n",
       "  <tbody>\n",
       "    <tr>\n",
       "      <th>0</th>\n",
       "      <td>71518</td>\n",
       "      <td>4</td>\n",
       "    </tr>\n",
       "    <tr>\n",
       "      <th>1</th>\n",
       "      <td>73268</td>\n",
       "      <td>5</td>\n",
       "    </tr>\n",
       "    <tr>\n",
       "      <th>2</th>\n",
       "      <td>5481</td>\n",
       "      <td>3</td>\n",
       "    </tr>\n",
       "    <tr>\n",
       "      <th>3</th>\n",
       "      <td>43679</td>\n",
       "      <td>3</td>\n",
       "    </tr>\n",
       "    <tr>\n",
       "      <th>4</th>\n",
       "      <td>4369</td>\n",
       "      <td>3</td>\n",
       "    </tr>\n",
       "  </tbody>\n",
       "</table>\n",
       "</div>"
      ],
      "text/plain": [
       "   movieId  rating\n",
       "0    71518       4\n",
       "1    73268       5\n",
       "2     5481       3\n",
       "3    43679       3\n",
       "4     4369       3"
      ]
     },
     "execution_count": 26,
     "metadata": {},
     "output_type": "execute_result"
    }
   ],
   "source": [
    "user_profile.head()"
   ]
  },
  {
   "cell_type": "code",
   "execution_count": 27,
   "metadata": {
    "collapsed": false
   },
   "outputs": [],
   "source": [
    "preds = pd.merge(preds, user_profile, on='movieId', how='left')"
   ]
  },
  {
   "cell_type": "code",
   "execution_count": 28,
   "metadata": {
    "collapsed": true
   },
   "outputs": [],
   "source": [
    "havent_seen_it_mask = preds['rating'].isnull()"
   ]
  },
  {
   "cell_type": "code",
   "execution_count": 31,
   "metadata": {
    "collapsed": false
   },
   "outputs": [],
   "source": [
    "preds[havent_seen_it_mask][['title', 'genres', 'predicted_rating']][:2000].to_csv('movie_recommendations_ryan_SVD.csv', \n",
    "                                                                               index=False)"
   ]
  },
  {
   "cell_type": "code",
   "execution_count": 30,
   "metadata": {
    "collapsed": false
   },
   "outputs": [
    {
     "data": {
      "text/html": [
       "<div>\n",
       "<table border=\"1\" class=\"dataframe\">\n",
       "  <thead>\n",
       "    <tr style=\"text-align: right;\">\n",
       "      <th></th>\n",
       "      <th>title</th>\n",
       "      <th>genres</th>\n",
       "      <th>predicted_rating</th>\n",
       "    </tr>\n",
       "  </thead>\n",
       "  <tbody>\n",
       "    <tr>\n",
       "      <th>12</th>\n",
       "      <td>Avatar (2009)</td>\n",
       "      <td>Action|Adventure|Sci-Fi|IMAX</td>\n",
       "      <td>3.883172</td>\n",
       "    </tr>\n",
       "    <tr>\n",
       "      <th>20</th>\n",
       "      <td>Inglourious Basterds (2009)</td>\n",
       "      <td>Action|Drama|War</td>\n",
       "      <td>3.525950</td>\n",
       "    </tr>\n",
       "    <tr>\n",
       "      <th>24</th>\n",
       "      <td>Hangover, The (2009)</td>\n",
       "      <td>Comedy|Crime</td>\n",
       "      <td>3.373318</td>\n",
       "    </tr>\n",
       "    <tr>\n",
       "      <th>25</th>\n",
       "      <td>King's Speech, The (2010)</td>\n",
       "      <td>Drama</td>\n",
       "      <td>3.317078</td>\n",
       "    </tr>\n",
       "    <tr>\n",
       "      <th>31</th>\n",
       "      <td>How to Train Your Dragon (2010)</td>\n",
       "      <td>Adventure|Animation|Children|Fantasy|IMAX</td>\n",
       "      <td>3.229924</td>\n",
       "    </tr>\n",
       "    <tr>\n",
       "      <th>32</th>\n",
       "      <td>Sherlock Holmes (2009)</td>\n",
       "      <td>Action|Crime|Mystery|Thriller</td>\n",
       "      <td>3.186106</td>\n",
       "    </tr>\n",
       "    <tr>\n",
       "      <th>38</th>\n",
       "      <td>Skyfall (2012)</td>\n",
       "      <td>Action|Adventure|Thriller|IMAX</td>\n",
       "      <td>3.051995</td>\n",
       "    </tr>\n",
       "    <tr>\n",
       "      <th>39</th>\n",
       "      <td>Pirates of the Caribbean: The Curse of the Bla...</td>\n",
       "      <td>Action|Adventure|Comedy|Fantasy</td>\n",
       "      <td>3.020261</td>\n",
       "    </tr>\n",
       "    <tr>\n",
       "      <th>41</th>\n",
       "      <td>Source Code (2011)</td>\n",
       "      <td>Action|Drama|Mystery|Sci-Fi|Thriller</td>\n",
       "      <td>2.995122</td>\n",
       "    </tr>\n",
       "    <tr>\n",
       "      <th>49</th>\n",
       "      <td>Zombieland (2009)</td>\n",
       "      <td>Action|Comedy|Horror</td>\n",
       "      <td>2.680397</td>\n",
       "    </tr>\n",
       "    <tr>\n",
       "      <th>55</th>\n",
       "      <td>American Beauty (1999)</td>\n",
       "      <td>Comedy|Drama</td>\n",
       "      <td>2.619969</td>\n",
       "    </tr>\n",
       "    <tr>\n",
       "      <th>59</th>\n",
       "      <td>Harry Potter and the Sorcerer's Stone (a.k.a. ...</td>\n",
       "      <td>Adventure|Children|Fantasy</td>\n",
       "      <td>2.587234</td>\n",
       "    </tr>\n",
       "    <tr>\n",
       "      <th>60</th>\n",
       "      <td>Sherlock Holmes: A Game of Shadows (2011)</td>\n",
       "      <td>Action|Adventure|Comedy|Crime|Mystery|Thriller</td>\n",
       "      <td>2.580720</td>\n",
       "    </tr>\n",
       "    <tr>\n",
       "      <th>62</th>\n",
       "      <td>Rise of the Planet of the Apes (2011)</td>\n",
       "      <td>Action|Drama|Sci-Fi|Thriller</td>\n",
       "      <td>2.567007</td>\n",
       "    </tr>\n",
       "    <tr>\n",
       "      <th>64</th>\n",
       "      <td>Star Trek (2009)</td>\n",
       "      <td>Action|Adventure|Sci-Fi|IMAX</td>\n",
       "      <td>2.558121</td>\n",
       "    </tr>\n",
       "    <tr>\n",
       "      <th>65</th>\n",
       "      <td>WALL·E (2008)</td>\n",
       "      <td>Adventure|Animation|Children|Romance|Sci-Fi</td>\n",
       "      <td>2.553388</td>\n",
       "    </tr>\n",
       "    <tr>\n",
       "      <th>75</th>\n",
       "      <td>Iron Man 3 (2013)</td>\n",
       "      <td>Action|Sci-Fi|Thriller|IMAX</td>\n",
       "      <td>2.443029</td>\n",
       "    </tr>\n",
       "    <tr>\n",
       "      <th>76</th>\n",
       "      <td>Incredibles, The (2004)</td>\n",
       "      <td>Action|Adventure|Animation|Children|Comedy</td>\n",
       "      <td>2.405982</td>\n",
       "    </tr>\n",
       "    <tr>\n",
       "      <th>81</th>\n",
       "      <td>Tangled (2010)</td>\n",
       "      <td>Animation|Children|Comedy|Fantasy|Musical|Roma...</td>\n",
       "      <td>2.315644</td>\n",
       "    </tr>\n",
       "    <tr>\n",
       "      <th>87</th>\n",
       "      <td>Mission: Impossible - Ghost Protocol (2011)</td>\n",
       "      <td>Action|Adventure|Thriller|IMAX</td>\n",
       "      <td>2.242870</td>\n",
       "    </tr>\n",
       "    <tr>\n",
       "      <th>89</th>\n",
       "      <td>X-Men (2000)</td>\n",
       "      <td>Action|Adventure|Sci-Fi</td>\n",
       "      <td>2.218237</td>\n",
       "    </tr>\n",
       "    <tr>\n",
       "      <th>91</th>\n",
       "      <td>Gran Torino (2008)</td>\n",
       "      <td>Crime|Drama</td>\n",
       "      <td>2.203478</td>\n",
       "    </tr>\n",
       "    <tr>\n",
       "      <th>96</th>\n",
       "      <td>Intouchables (2011)</td>\n",
       "      <td>Comedy|Drama</td>\n",
       "      <td>2.166411</td>\n",
       "    </tr>\n",
       "    <tr>\n",
       "      <th>97</th>\n",
       "      <td>Edge of Tomorrow (2014)</td>\n",
       "      <td>Action|Sci-Fi|IMAX</td>\n",
       "      <td>2.162561</td>\n",
       "    </tr>\n",
       "    <tr>\n",
       "      <th>99</th>\n",
       "      <td>Truman Show, The (1998)</td>\n",
       "      <td>Comedy|Drama|Sci-Fi</td>\n",
       "      <td>2.134488</td>\n",
       "    </tr>\n",
       "    <tr>\n",
       "      <th>102</th>\n",
       "      <td>Ocean's Eleven (2001)</td>\n",
       "      <td>Crime|Thriller</td>\n",
       "      <td>2.113662</td>\n",
       "    </tr>\n",
       "    <tr>\n",
       "      <th>104</th>\n",
       "      <td>Moonrise Kingdom (2012)</td>\n",
       "      <td>Comedy|Drama|Romance</td>\n",
       "      <td>2.085768</td>\n",
       "    </tr>\n",
       "    <tr>\n",
       "      <th>108</th>\n",
       "      <td>Wreck-It Ralph (2012)</td>\n",
       "      <td>Animation|Comedy</td>\n",
       "      <td>2.029490</td>\n",
       "    </tr>\n",
       "    <tr>\n",
       "      <th>109</th>\n",
       "      <td>Catch Me If You Can (2002)</td>\n",
       "      <td>Crime|Drama</td>\n",
       "      <td>2.014650</td>\n",
       "    </tr>\n",
       "    <tr>\n",
       "      <th>110</th>\n",
       "      <td>Town, The (2010)</td>\n",
       "      <td>Crime|Drama|Thriller</td>\n",
       "      <td>1.999143</td>\n",
       "    </tr>\n",
       "  </tbody>\n",
       "</table>\n",
       "</div>"
      ],
      "text/plain": [
       "                                                 title  \\\n",
       "12                                       Avatar (2009)   \n",
       "20                         Inglourious Basterds (2009)   \n",
       "24                                Hangover, The (2009)   \n",
       "25                           King's Speech, The (2010)   \n",
       "31                     How to Train Your Dragon (2010)   \n",
       "32                              Sherlock Holmes (2009)   \n",
       "38                                      Skyfall (2012)   \n",
       "39   Pirates of the Caribbean: The Curse of the Bla...   \n",
       "41                                  Source Code (2011)   \n",
       "49                                   Zombieland (2009)   \n",
       "55                              American Beauty (1999)   \n",
       "59   Harry Potter and the Sorcerer's Stone (a.k.a. ...   \n",
       "60           Sherlock Holmes: A Game of Shadows (2011)   \n",
       "62               Rise of the Planet of the Apes (2011)   \n",
       "64                                    Star Trek (2009)   \n",
       "65                                       WALL·E (2008)   \n",
       "75                                   Iron Man 3 (2013)   \n",
       "76                             Incredibles, The (2004)   \n",
       "81                                      Tangled (2010)   \n",
       "87         Mission: Impossible - Ghost Protocol (2011)   \n",
       "89                                        X-Men (2000)   \n",
       "91                                  Gran Torino (2008)   \n",
       "96                                 Intouchables (2011)   \n",
       "97                             Edge of Tomorrow (2014)   \n",
       "99                             Truman Show, The (1998)   \n",
       "102                              Ocean's Eleven (2001)   \n",
       "104                            Moonrise Kingdom (2012)   \n",
       "108                              Wreck-It Ralph (2012)   \n",
       "109                         Catch Me If You Can (2002)   \n",
       "110                                   Town, The (2010)   \n",
       "\n",
       "                                                genres  predicted_rating  \n",
       "12                        Action|Adventure|Sci-Fi|IMAX          3.883172  \n",
       "20                                    Action|Drama|War          3.525950  \n",
       "24                                        Comedy|Crime          3.373318  \n",
       "25                                               Drama          3.317078  \n",
       "31           Adventure|Animation|Children|Fantasy|IMAX          3.229924  \n",
       "32                       Action|Crime|Mystery|Thriller          3.186106  \n",
       "38                      Action|Adventure|Thriller|IMAX          3.051995  \n",
       "39                     Action|Adventure|Comedy|Fantasy          3.020261  \n",
       "41                Action|Drama|Mystery|Sci-Fi|Thriller          2.995122  \n",
       "49                                Action|Comedy|Horror          2.680397  \n",
       "55                                        Comedy|Drama          2.619969  \n",
       "59                          Adventure|Children|Fantasy          2.587234  \n",
       "60      Action|Adventure|Comedy|Crime|Mystery|Thriller          2.580720  \n",
       "62                        Action|Drama|Sci-Fi|Thriller          2.567007  \n",
       "64                        Action|Adventure|Sci-Fi|IMAX          2.558121  \n",
       "65         Adventure|Animation|Children|Romance|Sci-Fi          2.553388  \n",
       "75                         Action|Sci-Fi|Thriller|IMAX          2.443029  \n",
       "76          Action|Adventure|Animation|Children|Comedy          2.405982  \n",
       "81   Animation|Children|Comedy|Fantasy|Musical|Roma...          2.315644  \n",
       "87                      Action|Adventure|Thriller|IMAX          2.242870  \n",
       "89                             Action|Adventure|Sci-Fi          2.218237  \n",
       "91                                         Crime|Drama          2.203478  \n",
       "96                                        Comedy|Drama          2.166411  \n",
       "97                                  Action|Sci-Fi|IMAX          2.162561  \n",
       "99                                 Comedy|Drama|Sci-Fi          2.134488  \n",
       "102                                     Crime|Thriller          2.113662  \n",
       "104                               Comedy|Drama|Romance          2.085768  \n",
       "108                                   Animation|Comedy          2.029490  \n",
       "109                                        Crime|Drama          2.014650  \n",
       "110                               Crime|Drama|Thriller          1.999143  "
      ]
     },
     "execution_count": 30,
     "metadata": {},
     "output_type": "execute_result"
    }
   ],
   "source": [
    "preds[havent_seen_it_mask][['title', 'genres', 'predicted_rating']].head(30)"
   ]
  }
 ],
 "metadata": {
  "kernelspec": {
   "display_name": "Python 2",
   "language": "python",
   "name": "python2"
  },
  "language_info": {
   "codemirror_mode": {
    "name": "ipython",
    "version": 2
   },
   "file_extension": ".py",
   "mimetype": "text/x-python",
   "name": "python",
   "nbconvert_exporter": "python",
   "pygments_lexer": "ipython2",
   "version": "2.7.13"
  }
 },
 "nbformat": 4,
 "nbformat_minor": 2
}
